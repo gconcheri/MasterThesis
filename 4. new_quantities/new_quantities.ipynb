{
 "cells": [
  {
   "cell_type": "code",
   "execution_count": null,
   "id": "41c8aa33",
   "metadata": {},
   "outputs": [],
   "source": [
    "import numpy as np\n",
    "import matplotlib.pyplot as plt\n",
    "from tqdm.auto import tqdm\n",
    "\n",
    "import sys\n",
    "from pathlib import Path\n",
    "\n",
    "PROJECT_ROOT = str(Path.cwd().parent.resolve())\n",
    "if PROJECT_ROOT not in sys.path:\n",
    "    sys.path.insert(0, PROJECT_ROOT)\n",
    "\n",
    "import Class_site as site\n",
    "import free_fermion_representation as f\n",
    "import variables_phasediagram_simulation as vps"
   ]
  },
  {
   "cell_type": "markdown",
   "id": "c12c2087",
   "metadata": {},
   "source": [
    "## Level spacing ratio"
   ]
  },
  {
   "cell_type": "markdown",
   "id": "8c17e03c",
   "metadata": {},
   "source": [
    "find level spacing ratio for different unitaries in the range between T =0.67 and T = 1, Delta = 0...0.5"
   ]
  },
  {
   "cell_type": "code",
   "execution_count": 61,
   "id": "88b7d85c",
   "metadata": {},
   "outputs": [],
   "source": [
    "def order_parameter_delta_T(model, fgs, T, delta, edgepar = None):\n",
    "\n",
    "    _, _, _, R0 = fgs.floquet_operator_ham(T)\n",
    "    _, _, _, Re = fgs.floquet_operator_ham(T, anyon=True)\n",
    "    \n",
    "    if delta != 0:\n",
    "        V0 = f.generate_disorder_term(model, fgs.Cov, delta, edgepar = edgepar)\n",
    "        Ve = f.generate_disorder_term(model, fgs.Cov, delta, type=\"Anyon\", edgepar = edgepar)\n",
    "        R_V0 = f.floquet_operator(V0, T, alpha = np.pi/4.)\n",
    "        R_Ve = f.floquet_operator(Ve, T, alpha = np.pi/4.)\n",
    "        R_V0_R0 = R_V0 @ R0\n",
    "        R_Ve_Re = R_Ve @ Re\n",
    "    else:\n",
    "        R_V0_R0 = R0\n",
    "        R_Ve_Re = Re\n",
    "\n",
    "    return R_V0_R0, R_Ve_Re"
   ]
  },
  {
   "cell_type": "code",
   "execution_count": 62,
   "id": "45b1eb0c",
   "metadata": {},
   "outputs": [],
   "source": [
    "def level_spacing_ratio(op, T):\n",
    "    \"\"\"\n",
    "    Compute level-spacing ratio for eigenphases of unitary `op`.\n",
    "\n",
    "    Returns:\n",
    "      mean_r : float\n",
    "        Average of r_n = min(s_n, s_{n+1})/max(s_n, s_{n+1}) over consecutive spacings.\n",
    "      r_vals : ndarray\n",
    "        Array of r_n values.\n",
    "    Notes:\n",
    "      - Uses principal angles via np.angle (in (-pi,pi]) and accounts for the circular wrap.\n",
    "      - Converts phase spacings to \"energies\" by dividing by T.\n",
    "    \"\"\"\n",
    "    \n",
    "    ev = np.linalg.eigvals(op)\n",
    "    #print(ev)\n",
    "    if ev.size < 3:\n",
    "        return np.nan, np.array([])\n",
    "\n",
    "    angles = np.angle(ev)                       # principal values in (-pi, pi]\n",
    "    #print(angles)\n",
    "    angles_sorted = np.sort(angles)             # sort on the circle (linear order)\n",
    "    #print(angles_sorted)\n",
    "    spacings = np.diff(angles_sorted)           # interior spacings\n",
    "    wrap_spacing = (angles_sorted[0] + 2*np.pi) - angles_sorted[-1]\n",
    "    spacings = np.concatenate((spacings, [wrap_spacing]))  # include wrap-around\n",
    "    #print(spacings)\n",
    "\n",
    "    spacings = spacings / T                     # convert to energy units if desired\n",
    "\n",
    "    # compute r_n = min(s_n, s_{n+1})/max(s_n, s_{n+1})\n",
    "    if spacings.size < 2:\n",
    "        return np.nan, np.array([])\n",
    "    s1 = spacings[:-1]\n",
    "    s2 = spacings[1:]\n",
    "    r_vals = np.minimum(s1, s2) / np.maximum(s1, s2)\n",
    "\n",
    "    mean_r = np.mean(r_vals)\n",
    "    return mean_r, r_vals"
   ]
  },
  {
   "cell_type": "code",
   "execution_count": 63,
   "id": "1ffda425",
   "metadata": {},
   "outputs": [
    {
     "name": "stdout",
     "output_type": "stream",
     "text": [
      "[[ 0.99500417+0.09983342j  0.        +0.j          0.        +0.j        ]\n",
      " [ 0.        +0.j          0.0707372 +0.99749499j  0.        +0.j        ]\n",
      " [ 0.        +0.j          0.        +0.j         -0.94222234+0.33498815j]]\n"
     ]
    }
   ],
   "source": [
    "oper = np.array([[np.exp(1j * 0.1), 0, 0],\n",
    "                 [0, np.exp(1j * 1.5), 0],\n",
    "                 [0, 0, np.exp(1j * 2.8)]])\n",
    "\n",
    "print(oper)"
   ]
  },
  {
   "cell_type": "code",
   "execution_count": 64,
   "id": "290b4b3f",
   "metadata": {},
   "outputs": [
    {
     "name": "stdout",
     "output_type": "stream",
     "text": [
      "\n",
      "Mean level-spacing ratio: 0.6456885568061953\n",
      "Level-spacing ratios: [0.92857143 0.36280569]\n"
     ]
    }
   ],
   "source": [
    "mean_r, r_vals = level_spacing_ratio(oper, T=1.0)\n",
    "print()\n",
    "print(\"Mean level-spacing ratio:\", mean_r)\n",
    "print(\"Level-spacing ratios:\", r_vals)"
   ]
  },
  {
   "cell_type": "code",
   "execution_count": 65,
   "id": "bb0c8cac",
   "metadata": {},
   "outputs": [],
   "source": [
    "def lsr_diagram_total(delta_list, T_list, model, fgs, N_disorder):\n",
    "    \"\"\"\n",
    "    Generate level-spacing ratio diagram over ranges of disorder strength and period.\n",
    "\n",
    "    Parameters:\n",
    "      delta_list : list or ndarray\n",
    "        List of disorder strengths to sample.\n",
    "      T_list : list or ndarray\n",
    "        List of periods to sample.\n",
    "      model : Class_site.Site\n",
    "        The model defining the system.\n",
    "      fgs : free_fermion_representation.FreeFermionRepresentation\n",
    "        The free fermion representation of the system.\n",
    "      N_disorder : int\n",
    "        Number of disorder realizations to average over.\n",
    "    \"\"\"\n",
    "    lsr_matrix_0 = np.zeros((len(delta_list), len(T_list)))\n",
    "    lsr_matrix_e = np.zeros((len(delta_list), len(T_list)))\n",
    "\n",
    "    for i, delta in enumerate(tqdm(delta_list, desc=\"Deltas\")):\n",
    "        for j, T in enumerate(tqdm(T_list, desc=f\"T for delta={delta}\", leave=False)):\n",
    "            r_vals_0 = []\n",
    "            r_vals_e = []\n",
    "            for _ in range(N_disorder):\n",
    "                R_V0_R0, R_Ve_Re = order_parameter_delta_T(model, fgs, T, delta)\n",
    "                mean_r_0, r_values_0 = level_spacing_ratio(R_V0_R0, T)\n",
    "                mean_r_e, r_values_e = level_spacing_ratio(R_Ve_Re, T)\n",
    "                if not np.isnan(mean_r_0):\n",
    "                    r_vals_0.append(mean_r_0)\n",
    "                if not np.isnan(mean_r_e):\n",
    "                    r_vals_e.append(mean_r_e)\n",
    "            lsr_matrix_0[i, j] = np.mean(r_vals_0) if r_vals_0 else np.nan\n",
    "            lsr_matrix_e[i, j] = np.mean(r_vals_e) if r_vals_e else np.nan\n",
    "\n",
    "    return lsr_matrix_0, lsr_matrix_e\n"
   ]
  },
  {
   "cell_type": "code",
   "execution_count": 66,
   "id": "05241848",
   "metadata": {},
   "outputs": [],
   "source": [
    "def lsr_diagram_0(delta_list, T_list, model, fgs, N_disorder):\n",
    "    \"\"\"\n",
    "    Generate level-spacing ratio diagram over ranges of disorder strength and period.\n",
    "\n",
    "    Parameters:\n",
    "      delta_list : list or ndarray\n",
    "        List of disorder strengths to sample.\n",
    "      T_list : list or ndarray\n",
    "        List of periods to sample.\n",
    "      model : Class_site.Site\n",
    "        The model defining the system.\n",
    "      fgs : free_fermion_representation.FreeFermionRepresentation\n",
    "        The free fermion representation of the system.\n",
    "      N_disorder : int\n",
    "        Number of disorder realizations to average over.\n",
    "    \"\"\"\n",
    "    lsr_matrix_0 = np.zeros((len(delta_list), len(T_list)))\n",
    "\n",
    "    for i, delta in enumerate(tqdm(delta_list, desc=\"Deltas\")):\n",
    "        for j, T in enumerate(tqdm(T_list, desc=f\"T for delta={delta}\", leave=False)):\n",
    "            r_vals_0 = []\n",
    "            for _ in range(N_disorder):\n",
    "                R_V0_R0, R_Ve_Re = order_parameter_delta_T(model, fgs, T, delta)\n",
    "                mean_r_0, r_values_0 = level_spacing_ratio(R_V0_R0, T)\n",
    "                if not np.isnan(mean_r_0):\n",
    "                    r_vals_0.append(mean_r_0)\n",
    "            lsr_matrix_0[i, j] = np.mean(r_vals_0) if r_vals_0 else np.nan\n",
    "\n",
    "    return lsr_matrix_0\n"
   ]
  },
  {
   "cell_type": "code",
   "execution_count": null,
   "id": "21ba8419",
   "metadata": {},
   "outputs": [],
   "source": [
    "delta_list = vps.delta_list_1\n",
    "T_list = vps.T_list_0"
   ]
  },
  {
   "cell_type": "code",
   "execution_count": 68,
   "id": "fd0afb2e",
   "metadata": {},
   "outputs": [],
   "source": [
    "model = site.SitesOBC(Npx = 21, Npy = 21, edge = True)\n",
    "fgs = f.FermionicGaussianRepresentation(model)"
   ]
  },
  {
   "cell_type": "code",
   "execution_count": 69,
   "id": "73c95369",
   "metadata": {},
   "outputs": [
    {
     "data": {
      "application/vnd.jupyter.widget-view+json": {
       "model_id": "065b861b03ff46848db17b03f5043585",
       "version_major": 2,
       "version_minor": 0
      },
      "text/plain": [
       "Deltas:   0%|          | 0/4 [00:00<?, ?it/s]"
      ]
     },
     "metadata": {},
     "output_type": "display_data"
    },
    {
     "data": {
      "application/vnd.jupyter.widget-view+json": {
       "model_id": "5961bd72d7534c8ea10bd2ea5bb187cb",
       "version_major": 2,
       "version_minor": 0
      },
      "text/plain": [
       "T for delta=0:   0%|          | 0/10 [00:00<?, ?it/s]"
      ]
     },
     "metadata": {},
     "output_type": "display_data"
    },
    {
     "name": "stderr",
     "output_type": "stream",
     "text": [
      "/var/folders/6j/zg3nz4053f97fyqx4w2b6pxc0000gn/T/ipykernel_62661/3139785563.py:36: RuntimeWarning: invalid value encountered in divide\n",
      "  r_vals = np.minimum(s1, s2) / np.maximum(s1, s2)\n"
     ]
    },
    {
     "data": {
      "application/vnd.jupyter.widget-view+json": {
       "model_id": "19146c7a2d9244908a84621a94d5be98",
       "version_major": 2,
       "version_minor": 0
      },
      "text/plain": [
       "T for delta=0.1:   0%|          | 0/10 [00:00<?, ?it/s]"
      ]
     },
     "metadata": {},
     "output_type": "display_data"
    },
    {
     "data": {
      "application/vnd.jupyter.widget-view+json": {
       "model_id": "4bf1dbc6d3e049bb8b7d530d620e09a2",
       "version_major": 2,
       "version_minor": 0
      },
      "text/plain": [
       "T for delta=0.2:   0%|          | 0/10 [00:00<?, ?it/s]"
      ]
     },
     "metadata": {},
     "output_type": "display_data"
    },
    {
     "data": {
      "application/vnd.jupyter.widget-view+json": {
       "model_id": "4498806ef5a042dd9884e30a5667394d",
       "version_major": 2,
       "version_minor": 0
      },
      "text/plain": [
       "T for delta=0.3:   0%|          | 0/10 [00:00<?, ?it/s]"
      ]
     },
     "metadata": {},
     "output_type": "display_data"
    }
   ],
   "source": [
    "lsr_matrix_0 = lsr_diagram_0(delta_list, T_list, model, fgs, N_disorder=1)"
   ]
  },
  {
   "cell_type": "code",
   "execution_count": 70,
   "id": "be4da231",
   "metadata": {},
   "outputs": [
    {
     "data": {
      "text/plain": [
       "Text(0.5, 1.0, 'Level Spacing Ratio Diagram for no anyons')"
      ]
     },
     "execution_count": 70,
     "metadata": {},
     "output_type": "execute_result"
    },
    {
     "data": {
      "image/png": "[encoded data removed]",
      "text/plain": [
       "<Figure size 1000x400 with 2 Axes>"
      ]
     },
     "metadata": {},
     "output_type": "display_data"
    }
   ],
   "source": [
    "figsize = (len(T_list), len(delta_list))\n",
    "\n",
    "deltaT = np.abs(T_list[1]-T_list[0])/2\n",
    "deltadelta = (delta_list[1]-delta_list[0])/2\n",
    "\n",
    "T_start = T_list[0]+deltaT\n",
    "T_finish = T_list[-1]-deltaT    \n",
    "\n",
    "plt.figure(figsize=figsize)\n",
    "plt.imshow(lsr_matrix_0, \n",
    "           aspect='auto',\n",
    "           origin='lower',   \n",
    "           extent=[T_start, T_finish, delta_list[0]-deltadelta, delta_list[-1]+deltadelta],\n",
    "           cmap='viridis')\n",
    "plt.colorbar(label='Level Spacing Ratio (no anyons)')\n",
    "plt.xlabel('Period T')\n",
    "plt.ylabel('Disorder Strength Δ')\n",
    "plt.title('Level Spacing Ratio Diagram for no anyons') "
   ]
  },
  {
   "cell_type": "code",
   "execution_count": null,
   "id": "2fc713be",
   "metadata": {},
   "outputs": [],
   "source": [
    "figsize = (len(T_list), len(delta_list))\n",
    "\n",
    "deltaT = np.abs(T_list[1]-T_list[0])/2\n",
    "deltadelta = (delta_list[1]-delta_list[0])/2\n",
    "\n",
    "T_start = T_list[0]+deltaT\n",
    "T_finish = T_list[-1]-deltaT    \n",
    "\n",
    "plt.figure(figsize=figsize)\n",
    "plt.imshow(lsr_matrix_e, \n",
    "           aspect='auto',\n",
    "           origin='lower',   \n",
    "           extent=[T_start, T_finish, delta_list[0]-deltadelta, delta_list[-1]+deltadelta],\n",
    "           cmap='viridis')\n",
    "plt.colorbar(label='Level Spacing Ratio (e anyon)')\n",
    "plt.xlabel('Period T')\n",
    "plt.ylabel('Disorder Strength Δ')\n",
    "plt.title('Level Spacing Ratio Diagram for e anyon') "
   ]
  },
  {
   "cell_type": "markdown",
   "id": "d2e65cb7",
   "metadata": {},
   "source": [
    "## Entanglement entropy"
   ]
  },
  {
   "cell_type": "code",
   "execution_count": null,
   "id": "81ae3679",
   "metadata": {},
   "outputs": [],
   "source": []
  }
 ],
 "metadata": {
  "kernelspec": {
   "display_name": "Computational",
   "language": "python",
   "name": "python3"
  },
  "language_info": {
   "codemirror_mode": {
    "name": "ipython",
    "version": 3
   },
   "file_extension": ".py",
   "mimetype": "text/x-python",
   "name": "python",
   "nbconvert_exporter": "python",
   "pygments_lexer": "ipython3",
   "version": "3.13.2"
  }
 },
 "nbformat": 4,
 "nbformat_minor": 5
}

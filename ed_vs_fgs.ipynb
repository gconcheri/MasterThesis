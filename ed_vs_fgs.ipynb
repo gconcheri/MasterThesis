{
 "cells": [
  {
   "cell_type": "code",
   "execution_count": 138,
   "id": "32d4b4ad",
   "metadata": {},
   "outputs": [
    {
     "data": {
      "text/plain": [
       "<module 'free_fermion_representation' from '/Users/giovanniconcheri/Desktop/TESI/MasterThesis/free_fermion_representation.py'>"
      ]
     },
     "execution_count": 138,
     "metadata": {},
     "output_type": "execute_result"
    }
   ],
   "source": [
    "import numpy as np\n",
    "import scipy\n",
    "from scipy import sparse\n",
    "import matplotlib.pyplot as plt\n",
    "\n",
    "import sys\n",
    "sys.path.append('./Exact_Diagonalization')  # Add subfolder to Python path\n",
    "\n",
    "import exact_diagonalization as ed\n",
    "import Class_site as site\n",
    "import free_fermion_representation as f\n",
    "\n",
    "import importlib\n",
    "importlib.reload(ed)\n",
    "importlib.reload(site)\n",
    "importlib.reload(f)\n"
   ]
  },
  {
   "cell_type": "markdown",
   "id": "e5ba890c",
   "metadata": {},
   "source": [
    "# ED"
   ]
  },
  {
   "cell_type": "code",
   "execution_count": 139,
   "id": "6d5171b1",
   "metadata": {},
   "outputs": [
    {
     "name": "stdout",
     "output_type": "stream",
     "text": [
      "(16384, 16384)\n",
      "(16384, 16384)\n",
      "i,j,z 0 1 0\n",
      "i,j,z 1 0 0\n"
     ]
    }
   ],
   "source": [
    "n_spins = 14\n",
    "qubit1 = 0\n",
    "qubit2 = 4\n",
    "\n",
    "psi_fluxfree = ed.flux_freestate(n_spins, qubit1, qubit2)\n",
    "psi_diagonal = ed.diagonal_state(n_spins, qubit1, qubit2)"
   ]
  },
  {
   "cell_type": "code",
   "execution_count": 140,
   "id": "ec34fce0",
   "metadata": {},
   "outputs": [],
   "source": [
    "X = sparse.csr_array([[0.,1.],[1.,0.]])\n",
    "Y = sparse.csr_array([[0.,-1.j],[1.j,0.]])\n",
    "Z = sparse.csr_array([[1.,0.],[0.,-1.]])\n",
    "I = sparse.csr_array(np.eye(2))"
   ]
  },
  {
   "cell_type": "code",
   "execution_count": 141,
   "id": "0a57134e",
   "metadata": {},
   "outputs": [
    {
     "name": "stdout",
     "output_type": "stream",
     "text": [
      "0j\n",
      "0j\n",
      "These expectation values are 0 because the flux free state \n",
      "is paired vertically\n"
     ]
    }
   ],
   "source": [
    "XX_1 = ed.Op_full(X, I, [1,2], n_spins)\n",
    "YY_1 = ed.Op_full(Y, I, [1,6], n_spins)\n",
    "print(psi_fluxfree.conj() @ XX_1 @ psi_fluxfree)\n",
    "print(psi_fluxfree.conj() @ YY_1 @ psi_fluxfree)\n",
    "print(\"These expectation values are 0 because the flux free state \\nis paired vertically\")"
   ]
  },
  {
   "cell_type": "code",
   "execution_count": 142,
   "id": "b26c0ddf",
   "metadata": {},
   "outputs": [],
   "source": [
    "ZXZX = [Z, X, Z, X]\n",
    "\n",
    "diagonal_1 = ed.Op_string(ZXZX, [2, 3, 4, 7], I, n_spins)\n",
    "diagonal_2 = ed.Op_string(ZXZX, [6, 7, 10, 13], I, n_spins)\n",
    "diagonal_3 = - ed.Op_string([Y, X, Z], [3,4,5], I, n_spins)\n",
    "diagonal_4 = ed.Op_string([X,Z,X,Z], [4,7,10,11], I, n_spins)\n",
    "diagonal_5 = - ed.Op_string([Z, Y, X], [12, 13, 10], I, n_spins)\n",
    "\n",
    "ZZ_1 = - ed.Op_full(Z, I, [0,1], n_spins)\n",
    "ZZ_2 = - ed.Op_full(Z, I, [8,9], n_spins)\n"
   ]
  },
  {
   "cell_type": "code",
   "execution_count": 143,
   "id": "4825f8e9",
   "metadata": {},
   "outputs": [
    {
     "name": "stdout",
     "output_type": "stream",
     "text": [
      "ZZ_1  (-0.9999999999999998-2.3062304917094184e-20j)\n",
      "ZZ_2  (-0.9999999999999998-2.3062304917094184e-20j)\n",
      "diag1  (0.9999999999999999-1.7132356737011346e-19j)\n",
      "diag2  (0.9999999999999998-4.423741104914894e-19j)\n",
      "diag3  (-0.9999999999999998-2.119997868007293e-19j)\n",
      "diag4  (0.9999999999999998-1.0123781493477063e-18j)\n",
      "diag5  (0.9999999999999998-8.693241497287575e-21j)\n"
     ]
    }
   ],
   "source": [
    "print(\"ZZ_1 \", psi_diagonal.conj() @ ZZ_1 @ psi_diagonal) \n",
    "print(\"ZZ_2 \", psi_diagonal.conj() @ ZZ_2 @ psi_diagonal)\n",
    "print(\"diag1 \",psi_diagonal.conj() @ diagonal_1 @ psi_diagonal)\n",
    "print(\"diag2 \", psi_diagonal.conj() @ diagonal_2 @ psi_diagonal)\n",
    "print(\"diag3 \", psi_diagonal.conj() @ diagonal_3 @ psi_diagonal)\n",
    "print(\"diag4 \", psi_diagonal.conj() @ diagonal_4 @ psi_diagonal)\n",
    "print(\"diag5 \", psi_diagonal.conj() @ diagonal_5 @ psi_diagonal)\n"
   ]
  },
  {
   "cell_type": "markdown",
   "id": "65077c5d",
   "metadata": {},
   "source": [
    "# FGS"
   ]
  },
  {
   "cell_type": "code",
   "execution_count": 144,
   "id": "317809b9",
   "metadata": {},
   "outputs": [
    {
     "name": "stdout",
     "output_type": "stream",
     "text": [
      "14\n"
     ]
    }
   ],
   "source": [
    "model = site.SitesProtBonds(Npx=2, Npy=1, index = 3)\n",
    "fgs = f.FermionicGaussianRepresentation(model)\n",
    "print(model.Nsites)"
   ]
  },
  {
   "cell_type": "code",
   "execution_count": 145,
   "id": "79bfa33b",
   "metadata": {},
   "outputs": [
    {
     "name": "stdout",
     "output_type": "stream",
     "text": [
      "i  0 j  3 (-1+0j)\n",
      "i  1 j  5 (-1+0j)\n",
      "i  2 j  9 (1+0j)\n",
      "i  3 j  0 (1+0j)\n",
      "i  4 j  11 (1+0j)\n",
      "i  5 j  1 (1+0j)\n",
      "i  6 j  10 (1+0j)\n",
      "i  7 j  12 (-1+0j)\n",
      "i  8 j  13 (1+0j)\n",
      "i  9 j  2 (-1+0j)\n",
      "i  10 j  6 (-1+0j)\n",
      "i  11 j  4 (-1+0j)\n",
      "i  12 j  7 (1+0j)\n",
      "i  13 j  8 (-1+0j)\n"
     ]
    }
   ],
   "source": [
    "fgs.reset_cov_0_matrix()\n",
    "np.linalg.eigvals(fgs.Cov_0)\n",
    "for i in range(fgs.Cov_0.shape[0]):\n",
    "    for j in range(fgs.Cov_0.shape[1]):\n",
    "        if fgs.Cov_0[i,j] != 0:\n",
    "            print(\"i \", i, \"j \", j, fgs.Cov_0[i,j])"
   ]
  },
  {
   "cell_type": "code",
   "execution_count": 146,
   "id": "37f2fb10",
   "metadata": {},
   "outputs": [
    {
     "name": "stdout",
     "output_type": "stream",
     "text": [
      "First plaquette term: (0.9999999999999991-7.745036314193294e-20j)\n"
     ]
    }
   ],
   "source": [
    "Op_list = [X, Y, Z, X, Y, Z]\n",
    "index_list = [3, 2, 1, 6, 7, 4]\n",
    "\n",
    "W_tilde_1 = ed.Op_string(Op_list, index_list, I, n_spins)\n",
    "\n",
    "# Compute the expectation value\n",
    "expectation_value = psi_fluxfree.conj() @ W_tilde_1 @ psi_fluxfree\n",
    "\n",
    "# Print the result\n",
    "print(\"First plaquette term:\", expectation_value)"
   ]
  },
  {
   "cell_type": "code",
   "execution_count": 147,
   "id": "1456c401",
   "metadata": {},
   "outputs": [
    {
     "name": "stdout",
     "output_type": "stream",
     "text": [
      "Second plaquette term: (0.9999999999999991-4.265443305812136e-18j)\n"
     ]
    }
   ],
   "source": [
    "Op_list = [X, Y, Z, X, Y, Z]\n",
    "index_list = [7, 6, 9, 12, 13, 10]\n",
    "\n",
    "W_tilde_2 = ed.Op_string(Op_list, index_list, I, n_spins)\n",
    "\n",
    "# Compute the expectation value\n",
    "expectation_value = psi_fluxfree.conj() @ W_tilde_2 @ psi_fluxfree\n",
    "\n",
    "# Print the result\n",
    "print(\"Second plaquette term:\", expectation_value)"
   ]
  },
  {
   "cell_type": "code",
   "execution_count": 148,
   "id": "44d85556",
   "metadata": {},
   "outputs": [
    {
     "name": "stdout",
     "output_type": "stream",
     "text": [
      "e_loop Value: (0.9999999999999999-6.143054205688061e-19j)\n"
     ]
    }
   ],
   "source": [
    "Op_list = [Z, X, Z, X]\n",
    "index_list = [1, 2, 7, 6]\n",
    "\n",
    "e_loop = ed.Op_string(Op_list, index_list, I, n_spins)\n",
    "\n",
    "# Compute the complex conjugate transpose of psi_diagonal\n",
    "psi_diagonal_dagger = psi_diagonal.conj()\n",
    "\n",
    "e_loop_Value = psi_diagonal_dagger @ e_loop @ psi_diagonal\n",
    "\n",
    "print(\"e_loop Value:\", e_loop_Value)\n"
   ]
  },
  {
   "cell_type": "markdown",
   "id": "750fb967",
   "metadata": {},
   "source": [
    "### e-m anyons"
   ]
  },
  {
   "cell_type": "code",
   "execution_count": 149,
   "id": "f6bc0cd1",
   "metadata": {},
   "outputs": [
    {
     "name": "stdout",
     "output_type": "stream",
     "text": [
      "e_loop Value: (0.9999999999999999-6.143054205688061e-19j)\n",
      "First plaquette term: (-0.9999999999999998-3.204200040492813e-19j)\n"
     ]
    }
   ],
   "source": [
    "psi_e = ed.Op_full(Z, I, [7,13], n_spins)  @ psi_diagonal.copy()\n",
    "\n",
    "\n",
    "#check fermion occupation number\n",
    "e_loop_Value = psi_e.conj() @ e_loop @ psi_e\n",
    "print(\"e_loop Value:\", e_loop_Value) #should be +1 (fermionic parity)\n",
    "\n",
    "#check plaquette term:\n",
    "W1_value = psi_e.conj() @ W_tilde_1 @ psi_e\n",
    "print(\"First plaquette term:\", W1_value) #should be -1"
   ]
  },
  {
   "cell_type": "code",
   "execution_count": 150,
   "id": "bfbdc6f8",
   "metadata": {},
   "outputs": [
    {
     "name": "stdout",
     "output_type": "stream",
     "text": [
      "ZZ_2  (-0.9999999999999998-2.3062304917094184e-20j)\n",
      "ZZ_1  (-0.9999999999999998-2.3062304917094184e-20j)\n",
      "diag1  (-0.9999999999999999+1.7132356737011346e-19j)\n",
      "diag2  (0.9999999999999998-4.423741104914894e-19j)\n",
      "diag3  (-0.9999999999999998-2.119997868007293e-19j)\n",
      "diag4  (0.9999999999999998-1.0123781493477063e-18j)\n",
      "diag5  (-0.9999999999999998+8.693241497287575e-21j)\n"
     ]
    }
   ],
   "source": [
    "print(\"ZZ_2 \", psi_e.conj() @ ZZ_2 @ psi_e)\n",
    "print(\"ZZ_1 \", psi_e.conj() @ ZZ_1 @ psi_e) \n",
    "print(\"diag1 \",psi_e.conj() @ diagonal_1 @ psi_e)\n",
    "print(\"diag2 \", psi_e.conj() @ diagonal_2 @ psi_e)\n",
    "print(\"diag3 \", psi_e.conj() @ diagonal_3 @ psi_e)\n",
    "print(\"diag4 \", psi_e.conj() @ diagonal_4 @ psi_e)\n",
    "print(\"diag5 \", psi_e.conj() @ diagonal_5 @ psi_e)"
   ]
  },
  {
   "cell_type": "code",
   "execution_count": 151,
   "id": "7dc41bd7",
   "metadata": {},
   "outputs": [
    {
     "name": "stdout",
     "output_type": "stream",
     "text": [
      "i,j,z 1 1 1\n",
      "i,j,z 1 1 1\n",
      "i,j,z 1 1 1\n",
      "i,j,z 1 1 1\n",
      "i,j,z 1 1 1\n",
      "i,j,z 1 1 1\n",
      "i,j,z 1 1 1\n",
      "i,j,z 1 1 1\n",
      "i,j,z 1 1 1\n",
      "i,j,z 1 1 1\n",
      "(0.9999999999999999-6.143054205688061e-19j)\n",
      "(0.7772224626196044-1.734723475976807e-17j)\n",
      "(0.3571582319656089+2.7755575615628914e-17j)\n",
      "(0.10094468601949334+6.071532165918825e-18j)\n",
      "(0.05402391914765283+5.204170427930421e-18j)\n",
      "(0.015776957572343937+4.336808689942018e-18j)\n",
      "(-0.10491849909917665-9.974659986866641e-18j)\n",
      "(-0.1931484724099714-1.9081958235744878e-17j)\n",
      "(-0.1616595942465019+1.734723475976807e-17j)\n",
      "(-0.08897780029377196-6.071532165918825e-18j)\n",
      "(-0.06659476194691369+0j)\n",
      "\n",
      "i,j,z 1 1 1\n",
      "i,j,z 1 1 1\n",
      "i,j,z 1 1 1\n",
      "i,j,z 1 1 1\n",
      "i,j,z 1 1 1\n",
      "i,j,z 1 1 1\n",
      "i,j,z 1 1 1\n",
      "i,j,z 1 1 1\n",
      "i,j,z 1 1 1\n",
      "i,j,z 1 1 1\n",
      "(-0.9999999999999999+1.7132356737011346e-19j)\n",
      "(-0.7772224626196044+2.0816681711721685e-17j)\n",
      "(-0.35715823196560886-1.734723475976807e-17j)\n",
      "(-0.10094468601949337+1.734723475976807e-18j)\n",
      "(-0.05402391914765284-1.0408340855860843e-17j)\n",
      "(-0.015776957572343944+8.673617379884035e-19j)\n",
      "(0.10491849909917667-6.288372600415926e-18j)\n",
      "(0.1931484724099714+2.168404344971009e-17j)\n",
      "(0.16165959424650186-1.214306433183765e-17j)\n",
      "(0.08897780029377197+5.204170427930421e-18j)\n",
      "(0.06659476194691366-1.734723475976807e-18j)\n"
     ]
    }
   ],
   "source": [
    "T = 0.2\n",
    "\n",
    "_, list_e_loop = ed.floquet_evolution(psi_e, 10, n_spins, e_loop, T=T, X=X, Z=Z, Y=Y, I=I)\n",
    "\n",
    "for i in list_e_loop:\n",
    "    print(i)\n",
    "print()\n",
    "\n",
    "_, list_diagonal1 = ed.floquet_evolution(psi_e, 10, n_spins, diagonal_1, T=T, X=X, Z=Z, Y=Y, I=I)\n",
    "\n",
    "for i in list_diagonal1:\n",
    "    print(i)\n"
   ]
  },
  {
   "cell_type": "code",
   "execution_count": 152,
   "id": "a815ea6d",
   "metadata": {},
   "outputs": [
    {
     "name": "stdout",
     "output_type": "stream",
     "text": [
      "(-1+0j)\n",
      "(-0.777222462619606+0j)\n",
      "(-0.35715823196561025+0j)\n",
      "(-0.10094468601949408+0j)\n",
      "(-0.05402391914765332+0j)\n",
      "(-0.015776957572344298+0j)\n",
      "(0.10491849909917741-0j)\n",
      "(0.1931484724099732-0j)\n",
      "(0.1616595942465039-0j)\n",
      "(0.08897780029377311-0j)\n",
      "(0.06659476194691463-0j)\n",
      "\n",
      "(1+0j)\n",
      "(0.777222462619606+0j)\n",
      "(0.35715823196561025+0j)\n",
      "(0.10094468601949408+0j)\n",
      "(0.05402391914765332+0j)\n",
      "(0.015776957572344298+0j)\n",
      "(-0.10491849909917741+0j)\n",
      "(-0.1931484724099732+0j)\n",
      "(-0.1616595942465039+0j)\n",
      "(-0.08897780029377311+0j)\n",
      "(-0.06659476194691463+0j)\n"
     ]
    },
    {
     "data": {
      "text/plain": [
       "array([0.00000000e+00+1.j, 2.77555756e-17-1.j, 0.00000000e+00+1.j,\n",
       "       2.77555756e-17-1.j, 0.00000000e+00+1.j, 2.77555756e-17-1.j,\n",
       "       0.00000000e+00+1.j, 2.77555756e-17-1.j, 0.00000000e+00+1.j,\n",
       "       2.77555756e-17-1.j, 0.00000000e+00+1.j, 2.77555756e-17-1.j,\n",
       "       0.00000000e+00+1.j, 2.77555756e-17-1.j])"
      ]
     },
     "execution_count": 152,
     "metadata": {},
     "output_type": "execute_result"
    },
    {
     "data": {
      "image/png": "[encoded data removed]",
      "text/plain": [
       "<Figure size 640x480 with 1 Axes>"
      ]
     },
     "metadata": {},
     "output_type": "display_data"
    }
   ],
   "source": [
    "fgs.reset_cov_0_matrix()\n",
    "fgs.reset_cov_e_matrix()\n",
    "\n",
    "Rex, Rey, Rez, Re = f.floquet_operator(fgs.he_x, fgs.he_y, fgs.he_z, T, alpha = -1)\n",
    "R0x, R0y, R0z, R0 = f.floquet_operator(fgs.h0_x, fgs.h0_y, fgs.h0_z, T, alpha = -1)\n",
    "\n",
    "N = 10\n",
    "exp_value_loop = []\n",
    "exp_value_diagonal = []\n",
    "\n",
    "indices = [2,9]\n",
    "diagonal = np.zeros(model.Nsites)\n",
    "diagonal[indices] = 1  # sets all specified indices to 1\n",
    "\n",
    "for i in range(N):\n",
    "    exp_value_loop.append(fgs.expectation_val_Majorana_string(model, small_loop=True)[1])\n",
    "    exp_value_diagonal.append(fgs.expectation_val_Majorana_string(majoranas=diagonal, factor = -1j)[1])\n",
    "    fgs.update_cov_e_matrix(Re)\n",
    "\n",
    "exp_value_loop.append(fgs.expectation_val_Majorana_string(model, small_loop=True)[1])\n",
    "exp_value_diagonal.append(fgs.expectation_val_Majorana_string(majoranas=diagonal, factor = -1j)[1])\n",
    "\n",
    "\n",
    "for i in exp_value_loop:\n",
    "    print(i)\n",
    "print()\n",
    "\n",
    "for i in exp_value_diagonal:\n",
    "    print(i)\n",
    "\n",
    "plt.plot(range(N+1), exp_value_loop, '.-', color='red')\n",
    "plt.xlabel('Floquet cycles')\n",
    "plt.ylabel(r'$\\eta$')\n",
    "plt.title(\"Measurement of Loop operator O under Floquet drive\")\n",
    "\n",
    "np.linalg.eigvals(fgs.Cov_0)"
   ]
  },
  {
   "cell_type": "markdown",
   "id": "5701d833",
   "metadata": {},
   "source": [
    "In the expectation value of the diagonal we place a prefactor -1j because the parity is i phi_(29) c_2 c_9, with phi_29 = - 1. Without it we would just be measuring c_2 c_9!!!"
   ]
  }
 ],
 "metadata": {
  "kernelspec": {
   "display_name": "Computational",
   "language": "python",
   "name": "python3"
  },
  "language_info": {
   "codemirror_mode": {
    "name": "ipython",
    "version": 3
   },
   "file_extension": ".py",
   "mimetype": "text/x-python",
   "name": "python",
   "nbconvert_exporter": "python",
   "pygments_lexer": "ipython3",
   "version": "3.13.2"
  }
 },
 "nbformat": 4,
 "nbformat_minor": 5
}

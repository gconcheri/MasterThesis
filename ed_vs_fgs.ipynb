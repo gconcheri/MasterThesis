{
 "cells": [
  {
   "cell_type": "code",
   "execution_count": 1,
   "id": "32d4b4ad",
   "metadata": {},
   "outputs": [
    {
     "data": {
      "text/plain": [
       "<module 'free_fermion_representation' from '/Users/giovanniconcheri/Desktop/TESI/MasterThesis/free_fermion_representation.py'>"
      ]
     },
     "execution_count": 1,
     "metadata": {},
     "output_type": "execute_result"
    }
   ],
   "source": [
    "import numpy as np\n",
    "import scipy\n",
    "from scipy import sparse\n",
    "import matplotlib.pyplot as plt\n",
    "\n",
    "import sys\n",
    "sys.path.append('./Exact_Diagonalization')  # Add subfolder to Python path\n",
    "\n",
    "import exact_diagonalization as ed\n",
    "import Class_site as site\n",
    "import free_fermion_representation as f\n",
    "\n",
    "import importlib\n",
    "importlib.reload(ed)\n",
    "importlib.reload(site)\n",
    "importlib.reload(f)\n"
   ]
  },
  {
   "cell_type": "markdown",
   "id": "e5ba890c",
   "metadata": {},
   "source": [
    "# ED"
   ]
  },
  {
   "cell_type": "code",
   "execution_count": 2,
   "id": "6d5171b1",
   "metadata": {},
   "outputs": [
    {
     "name": "stdout",
     "output_type": "stream",
     "text": [
      "(16384, 16384)\n",
      "(16384, 16384)\n",
      "i,j,z 0 1 0\n",
      "i,j,z 1 0 0\n"
     ]
    }
   ],
   "source": [
    "n_spins = 14\n",
    "qubit1 = 0\n",
    "qubit2 = 4\n",
    "\n",
    "psi_fluxfree = ed.flux_freestate(n_spins, qubit1, qubit2)\n",
    "psi_diagonal = ed.diagonal_state(n_spins, qubit1, qubit2)"
   ]
  },
  {
   "cell_type": "code",
   "execution_count": 3,
   "id": "ec34fce0",
   "metadata": {},
   "outputs": [],
   "source": [
    "X = sparse.csr_array([[0.,1.],[1.,0.]])\n",
    "Y = sparse.csr_array([[0.,-1.j],[1.j,0.]])\n",
    "Z = sparse.csr_array([[1.,0.],[0.,-1.]])\n",
    "I = sparse.csr_array(np.eye(2))"
   ]
  },
  {
   "cell_type": "markdown",
   "id": "65077c5d",
   "metadata": {},
   "source": [
    "# FGS"
   ]
  },
  {
   "cell_type": "code",
   "execution_count": 4,
   "id": "317809b9",
   "metadata": {},
   "outputs": [
    {
     "name": "stdout",
     "output_type": "stream",
     "text": [
      "14\n"
     ]
    }
   ],
   "source": [
    "model = site.SitesProtBonds(Npx=2, Npy=1, index = 3)\n",
    "fgs = f.FermionicGaussianRepresentation(model)\n",
    "print(model.Nsites)"
   ]
  },
  {
   "cell_type": "code",
   "execution_count": 5,
   "id": "79bfa33b",
   "metadata": {},
   "outputs": [
    {
     "data": {
      "text/plain": [
       "array([0.00000000e+00+1.j, 2.77555756e-17-1.j, 0.00000000e+00+1.j,\n",
       "       2.77555756e-17-1.j, 0.00000000e+00+1.j, 2.77555756e-17-1.j,\n",
       "       0.00000000e+00+1.j, 2.77555756e-17-1.j, 0.00000000e+00+1.j,\n",
       "       2.77555756e-17-1.j, 0.00000000e+00+1.j, 2.77555756e-17-1.j,\n",
       "       0.00000000e+00+1.j, 2.77555756e-17-1.j])"
      ]
     },
     "execution_count": 5,
     "metadata": {},
     "output_type": "execute_result"
    }
   ],
   "source": [
    "fgs.reset_cov_0_matrix()\n",
    "np.linalg.eigvals(fgs.Cov_0)"
   ]
  },
  {
   "cell_type": "code",
   "execution_count": 6,
   "id": "37f2fb10",
   "metadata": {},
   "outputs": [
    {
     "name": "stdout",
     "output_type": "stream",
     "text": [
      "First plaquette term: (0.9999999999999991-7.745036314193294e-20j)\n"
     ]
    }
   ],
   "source": [
    "Op_list = [X, Y, Z, X, Y, Z]\n",
    "index_list = [3, 2, 1, 6, 7, 4]\n",
    "\n",
    "W_tilde_1 = ed.Op_string(Op_list, index_list, I, n_spins)\n",
    "\n",
    "# Compute the expectation value\n",
    "expectation_value = psi_fluxfree.conj() @ W_tilde_1 @ psi_fluxfree\n",
    "\n",
    "# Print the result\n",
    "print(\"First plaquette term:\", expectation_value)"
   ]
  },
  {
   "cell_type": "code",
   "execution_count": 7,
   "id": "1456c401",
   "metadata": {},
   "outputs": [
    {
     "name": "stdout",
     "output_type": "stream",
     "text": [
      "Second plaquette term: (0.9999999999999991-4.265443305812136e-18j)\n"
     ]
    }
   ],
   "source": [
    "Op_list = [X, Y, Z, X, Y, Z]\n",
    "index_list = [7, 6, 9, 12, 13, 10]\n",
    "\n",
    "W_tilde_2 = ed.Op_string(Op_list, index_list, I, n_spins)\n",
    "\n",
    "# Compute the expectation value\n",
    "expectation_value = psi_fluxfree.conj() @ W_tilde_2 @ psi_fluxfree\n",
    "\n",
    "# Print the result\n",
    "print(\"Second plaquette term:\", expectation_value)"
   ]
  },
  {
   "cell_type": "code",
   "execution_count": 8,
   "id": "44d85556",
   "metadata": {},
   "outputs": [
    {
     "name": "stdout",
     "output_type": "stream",
     "text": [
      "e_loop Value: (0.9999999999999999-6.143054205688061e-19j)\n"
     ]
    }
   ],
   "source": [
    "Op_list = [Z, X, Z, X]\n",
    "index_list = [1, 2, 7, 6]\n",
    "\n",
    "e_loop = ed.Op_string(Op_list, index_list, I, n_spins)\n",
    "\n",
    "# Compute the complex conjugate transpose of psi_diagonal\n",
    "psi_diagonal_dagger = psi_diagonal.conj()\n",
    "\n",
    "e_loop_Value = psi_diagonal_dagger @ e_loop @ psi_diagonal\n",
    "\n",
    "print(\"e_loop Value:\", e_loop_Value)\n"
   ]
  },
  {
   "cell_type": "markdown",
   "id": "750fb967",
   "metadata": {},
   "source": [
    "### e-m anyons"
   ]
  },
  {
   "cell_type": "code",
   "execution_count": 9,
   "id": "f6bc0cd1",
   "metadata": {},
   "outputs": [
    {
     "name": "stdout",
     "output_type": "stream",
     "text": [
      "e_loop Value: (0.9999999999999999-6.143054205688061e-19j)\n"
     ]
    }
   ],
   "source": [
    "psi_e = ed.Op_full(Z, I, 3, n_spins)  @ psi_diagonal.copy()\n",
    "\n",
    "\n",
    "#check fermion occupation number\n",
    "e_loop_Value = psi_e.conj() @ e_loop @ psi_e\n",
    "print(\"e_loop Value:\", e_loop_Value) #should be +1 (fermionic parity)\n",
    "\n",
    "# #check plaquette term:\n",
    "# W1_value = psi_e.conj() @ W_tilde_1 @ psi_e\n",
    "# print(\"First plaquette term:\", W1_value) #should be -1"
   ]
  },
  {
   "cell_type": "code",
   "execution_count": 10,
   "id": "7dc41bd7",
   "metadata": {},
   "outputs": [
    {
     "name": "stderr",
     "output_type": "stream",
     "text": [
      "/Users/giovanniconcheri/miniconda3/envs/Computational/lib/python3.13/site-packages/scipy/sparse/linalg/_dsolve/linsolve.py:597: SparseEfficiencyWarning: splu converted its input to CSC format\n",
      "  return splu(A).solve\n",
      "/Users/giovanniconcheri/miniconda3/envs/Computational/lib/python3.13/site-packages/scipy/sparse/linalg/_matfuncs.py:707: SparseEfficiencyWarning: spsolve is more efficient when sparse b is in the CSC matrix format\n",
      "  return spsolve(Q, P)\n"
     ]
    },
    {
     "name": "stdout",
     "output_type": "stream",
     "text": [
      "i,j,z 1 1 1\n",
      "i,j,z 1 1 1\n",
      "i,j,z 1 1 1\n",
      "i,j,z 1 1 1\n",
      "i,j,z 1 1 1\n",
      "i,j,z 1 1 1\n",
      "i,j,z 1 1 1\n",
      "i,j,z 1 1 1\n",
      "i,j,z 1 1 1\n",
      "i,j,z 1 1 1\n",
      "(0.9999999999999999-6.143054205688061e-19j)\n",
      "(-0.9282730342871024-1.0842021724855044e-17j)\n",
      "(0.7414332213052113-8.673617379884035e-19j)\n",
      "(-0.5691613165936202+6.938893903907228e-18j)\n",
      "(0.3720469091571189+5.7462715141731735e-18j)\n",
      "(-0.15930458828191024+2.6020852139652106e-18j)\n",
      "(0.0003780481398070216+5.551115123125783e-17j)\n",
      "(0.1475239210722478+3.469446951953614e-18j)\n",
      "(-0.2969897697846583-6.938893903907228e-18j)\n",
      "(0.4339717186743772+1.734723475976807e-18j)\n",
      "(-0.6293278714816644+5.204170427930421e-18j)\n"
     ]
    }
   ],
   "source": [
    "T = 0.9\n",
    "\n",
    "_, list_zxzx = ed.floquet_evolution(psi_e, 10, n_spins, e_loop, T=T, X=X, Z=Z, Y=Y, I=I)\n",
    "\n",
    "for i in list_zxzx:\n",
    "    print(i)\n"
   ]
  },
  {
   "cell_type": "code",
   "execution_count": 11,
   "id": "a815ea6d",
   "metadata": {},
   "outputs": [
    {
     "name": "stdout",
     "output_type": "stream",
     "text": [
      "1j\n",
      "(-0-0.9282730342871004j)\n",
      "0.836409134039959j\n",
      "(-0-0.7820183549663996j)\n",
      "0.7402938580970211j\n",
      "(-0-0.6813426999510046j)\n",
      "0.5332223704956005j\n",
      "(-0-0.4111449921765006j)\n",
      "0.15264696406766776j\n",
      "0.024543452618743238j\n",
      "(-0-0.1974837471900026j)\n"
     ]
    },
    {
     "data": {
      "text/plain": [
       "Text(0.5, 1.0, 'Measurement of Loop operator O under Floquet drive')"
      ]
     },
     "execution_count": 11,
     "metadata": {},
     "output_type": "execute_result"
    },
    {
     "data": {
      "image/png": "[encoded data removed]",
      "text/plain": [
       "<Figure size 640x480 with 1 Axes>"
      ]
     },
     "metadata": {},
     "output_type": "display_data"
    }
   ],
   "source": [
    "fgs.reset_cov_0_matrix()\n",
    "fgs.reset_cov_e_matrix()\n",
    "\n",
    "Rex, Rey, Rez, Re = f.floquet_operator(fgs.he_x, fgs.he_y, fgs.he_z, T)\n",
    "R0x, R0y, R0z, R0 = f.floquet_operator(fgs.h0_x, fgs.h0_y, fgs.h0_z, T)\n",
    "\n",
    "N = 10\n",
    "exp_value = []\n",
    "for i in range(N):\n",
    "    n = fgs.expectation_val_Majorana_string(model, small_loop=True)[1]\n",
    "    exp_value.append(n)\n",
    "    print(n)\n",
    "    fgs.update_cov_0_matrix(R0)\n",
    "    fgs.update_cov_e_matrix(Re)\n",
    "\n",
    "\n",
    "n = fgs.expectation_val_Majorana_string(model, small_loop=True)[1]\n",
    "exp_value.append(n)\n",
    "print(n)\n",
    "\n",
    "plt.plot(range(N+1), np.imag(exp_value), '.-', color='red')\n",
    "plt.xlabel('Floquet cycles')\n",
    "plt.ylabel(r'$\\eta$')\n",
    "plt.title(\"Measurement of Loop operator O under Floquet drive\")"
   ]
  },
  {
   "cell_type": "code",
   "execution_count": 27,
   "id": "35f09ac5",
   "metadata": {},
   "outputs": [
    {
     "name": "stdout",
     "output_type": "stream",
     "text": [
      "i,j,z 1 1 1\n",
      "ZXZX Value: (-0.9999999999999993+7.703719777548943e-33j)\n",
      "First plaquette term: (-0.9999999999999996+3.851859888774472e-34j)\n"
     ]
    },
    {
     "name": "stderr",
     "output_type": "stream",
     "text": [
      "/Users/giovanniconcheri/miniconda3/envs/Computational/lib/python3.13/site-packages/scipy/sparse/linalg/_dsolve/linsolve.py:597: SparseEfficiencyWarning: splu converted its input to CSC format\n",
      "  return splu(A).solve\n",
      "/Users/giovanniconcheri/miniconda3/envs/Computational/lib/python3.13/site-packages/scipy/sparse/linalg/_matfuncs.py:707: SparseEfficiencyWarning: spsolve is more efficient when sparse b is in the CSC matrix format\n",
      "  return spsolve(Q, P)\n"
     ]
    }
   ],
   "source": [
    "psi_e = ed.floquet_unitary(psi_m, n_spins, applyX = True, applyY = True, applyZ = True)\n",
    "\n",
    "#let us check if we actually have e anyon:\n",
    "\n",
    "#check fermionic parity\n",
    "ZXZX_Value = psi_e.conj() @ ZXZX @ psi_e\n",
    "print(\"ZXZX Value:\", ZXZX_Value) #should be -1\n",
    "\n",
    "#check plaquette term:\n",
    "W1_value = psi_e.conj() @ W_tilde_1 @ psi_e\n",
    "print(\"First plaquette term:\", W1_value) #should be -1"
   ]
  },
  {
   "cell_type": "markdown",
   "id": "51d2ca05",
   "metadata": {},
   "source": [
    "As a last check, let us measure  an electric loop around the plaquette. It should correspond to +1 for an e anyon, and to -1 for an m anyon. Therefore, driving the system with Floquet drive, it should oscillate between +-1"
   ]
  },
  {
   "cell_type": "code",
   "execution_count": null,
   "id": "fe4656f9",
   "metadata": {},
   "outputs": [
    {
     "name": "stdout",
     "output_type": "stream",
     "text": [
      "e anyon: e loop term: (0.9999999999999993-6.162975822039155e-33j)\n",
      "m anyon: e loop term: (-0.9999999999999999+6.143054205688061e-19j)\n"
     ]
    }
   ],
   "source": [
    "\n",
    "\n",
    "# Compute the expectation value\n",
    "expectation_value_e = psi_e.conj() @ e_loop @ psi_e\n",
    "# Print the result\n",
    "print(\"e anyon: e loop term:\", expectation_value_e) #should be +1\n",
    "\n",
    "# Compute the expectation value\n",
    "expectation_value_m = psi_m.conj() @ e_loop @ psi_m\n",
    "# Print the result\n",
    "print(\"m anyon: e loop term:\", expectation_value_m) #should be -1\n",
    "\n",
    "#for now it does the opposite of what it should do :)\n"
   ]
  }
 ],
 "metadata": {
  "kernelspec": {
   "display_name": "Computational",
   "language": "python",
   "name": "python3"
  },
  "language_info": {
   "codemirror_mode": {
    "name": "ipython",
    "version": 3
   },
   "file_extension": ".py",
   "mimetype": "text/x-python",
   "name": "python",
   "nbconvert_exporter": "python",
   "pygments_lexer": "ipython3",
   "version": "3.13.2"
  }
 },
 "nbformat": 4,
 "nbformat_minor": 5
}

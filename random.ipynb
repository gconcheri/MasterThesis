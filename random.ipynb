{
 "cells": [
  {
   "cell_type": "code",
   "execution_count": 1,
   "id": "029a9be1",
   "metadata": {},
   "outputs": [],
   "source": [
    "import numpy as np"
   ]
  },
  {
   "cell_type": "code",
   "execution_count": 3,
   "id": "7cfa12f7",
   "metadata": {},
   "outputs": [
    {
     "data": {
      "text/plain": [
       "1"
      ]
     },
     "execution_count": 3,
     "metadata": {},
     "output_type": "execute_result"
    }
   ],
   "source": [
    "21%2 "
   ]
  },
  {
   "cell_type": "code",
   "execution_count": 5,
   "id": "72411a1c",
   "metadata": {},
   "outputs": [
    {
     "name": "stdout",
     "output_type": "stream",
     "text": [
      "[[0. 0. 0.]\n",
      " [1. 1. 1.]\n",
      " [2. 2. 2.]]\n"
     ]
    }
   ],
   "source": [
    "V = np.ones(3)[None, :] * np.arange(3)[:, None]\n",
    "\n",
    "print(V)"
   ]
  },
  {
   "cell_type": "code",
   "execution_count": 2,
   "id": "4eb28a87",
   "metadata": {},
   "outputs": [
    {
     "data": {
      "text/plain": [
       "11"
      ]
     },
     "execution_count": 2,
     "metadata": {},
     "output_type": "execute_result"
    }
   ],
   "source": [
    "22//2"
   ]
  },
  {
   "cell_type": "code",
   "execution_count": null,
   "id": "540d37e7",
   "metadata": {},
   "outputs": [
    {
     "name": "stdout",
     "output_type": "stream",
     "text": [
      "{0: [1, 1], 1: [2, 2], 2: [3, 3]}\n",
      "0\n",
      "1\n",
      "2\n"
     ]
    }
   ],
   "source": [
    "plaquette_coordinates = [[1,1], [2,2], [3,3]]\n",
    "plaquette = {}\n",
    "\n",
    "for i,a in enumerate(plaquette_coordinates):\n",
    "    plaquette[i] = [a[0],a[1]]\n",
    "\n",
    "print(plaquette)\n"
   ]
  },
  {
   "cell_type": "code",
   "execution_count": 4,
   "id": "477cebb6",
   "metadata": {},
   "outputs": [
    {
     "name": "stdout",
     "output_type": "stream",
     "text": [
      "0\n",
      "1\n",
      "2\n"
     ]
    }
   ],
   "source": [
    "for p in plaquette:\n",
    "    print(p)"
   ]
  },
  {
   "cell_type": "code",
   "execution_count": 9,
   "id": "7805c3fe",
   "metadata": {},
   "outputs": [
    {
     "name": "stdout",
     "output_type": "stream",
     "text": [
      "4.142857142857143\n"
     ]
    }
   ],
   "source": [
    "import numpy as np\n",
    "x_list = [2,3,4,5,5,6,4]\n",
    "\n",
    "mean_x = np.sum(x_list)/len(x_list)\n",
    "\n",
    "print(mean_x)\n"
   ]
  },
  {
   "cell_type": "code",
   "execution_count": 5,
   "id": "47ca8ff3",
   "metadata": {},
   "outputs": [
    {
     "name": "stdout",
     "output_type": "stream",
     "text": [
      "[[1 2]\n",
      " [3 4]]\n",
      "4\n"
     ]
    }
   ],
   "source": [
    "import numpy as np\n",
    "listt = [(1,2), (3,4)]\n",
    "listt = np.array(listt)\n",
    "print(listt)\n",
    "print(listt[1,1])"
   ]
  },
  {
   "cell_type": "code",
   "execution_count": 6,
   "id": "cbc6b209",
   "metadata": {},
   "outputs": [
    {
     "name": "stdout",
     "output_type": "stream",
     "text": [
      "[[1, 2], [3, 4]]\n"
     ]
    }
   ],
   "source": [
    "listt = listt.tolist()\n",
    "print(listt)"
   ]
  },
  {
   "cell_type": "code",
   "execution_count": 7,
   "id": "a44b3519",
   "metadata": {},
   "outputs": [
    {
     "name": "stdout",
     "output_type": "stream",
     "text": [
      "1 2\n",
      "3 4\n"
     ]
    }
   ],
   "source": [
    "for i,j in listt:\n",
    "    print(i,j)"
   ]
  },
  {
   "cell_type": "code",
   "execution_count": 1,
   "id": "3aa8c1c4",
   "metadata": {},
   "outputs": [
    {
     "data": {
      "text/plain": [
       "1"
      ]
     },
     "execution_count": 1,
     "metadata": {},
     "output_type": "execute_result"
    }
   ],
   "source": [
    "3//2"
   ]
  },
  {
   "cell_type": "code",
   "execution_count": 22,
   "id": "96f7829c",
   "metadata": {},
   "outputs": [
    {
     "name": "stdout",
     "output_type": "stream",
     "text": [
      "[False False  True False False  True False False False False]\n",
      "2\n"
     ]
    }
   ],
   "source": [
    "import numpy as np\n",
    "\n",
    "majoranas = np.zeros(10)\n",
    "majoranas[[5,2]] = 1  # sets all specified indices to 1\n",
    "majoranas_bool = majoranas.astype(bool)\t\n",
    "print(majoranas_bool)\n",
    "num_ones = np.sum(majoranas_bool)\n",
    "print(num_ones)\n",
    "prefactor_maj = 1j**(num_ones/2) "
   ]
  },
  {
   "cell_type": "code",
   "execution_count": 23,
   "id": "ed104fd4",
   "metadata": {},
   "outputs": [
    {
     "name": "stdout",
     "output_type": "stream",
     "text": [
      "[[0.  0.1 0.2 0.3 0.4 0.5 0.6 0.7 0.8 0.9]\n",
      " [1.  1.1 1.2 1.3 1.4 1.5 1.6 1.7 1.8 1.9]\n",
      " [2.  2.1 2.2 2.3 2.4 2.5 2.6 2.7 2.8 2.9]\n",
      " [3.  3.1 3.2 3.3 3.4 3.5 3.6 3.7 3.8 3.9]\n",
      " [4.  4.1 4.2 4.3 4.4 4.5 4.6 4.7 4.8 4.9]\n",
      " [5.  5.1 5.2 5.3 5.4 5.5 5.6 5.7 5.8 5.9]\n",
      " [6.  6.1 6.2 6.3 6.4 6.5 6.6 6.7 6.8 6.9]\n",
      " [7.  7.1 7.2 7.3 7.4 7.5 7.6 7.7 7.8 7.9]\n",
      " [8.  8.1 8.2 8.3 8.4 8.5 8.6 8.7 8.8 8.9]\n",
      " [9.  9.1 9.2 9.3 9.4 9.5 9.6 9.7 9.8 9.9]]\n"
     ]
    }
   ],
   "source": [
    "matrix = np.zeros((10,10))\n",
    "for i in range(10):\n",
    "    for j in range(10):\n",
    "        matrix[i,j] = i+j/10\n",
    "print(matrix)"
   ]
  },
  {
   "cell_type": "code",
   "execution_count": 24,
   "id": "0f6af26e",
   "metadata": {},
   "outputs": [
    {
     "name": "stdout",
     "output_type": "stream",
     "text": [
      "[[2.2 2.5]\n",
      " [5.2 5.5]]\n"
     ]
    }
   ],
   "source": [
    "print(matrix[majoranas_bool][:, majoranas_bool])"
   ]
  },
  {
   "cell_type": "code",
   "execution_count": 25,
   "id": "882cecfa",
   "metadata": {},
   "outputs": [],
   "source": [
    "from pfapack import pfaffian as pf"
   ]
  },
  {
   "cell_type": "code",
   "execution_count": 32,
   "id": "c04ecef4",
   "metadata": {},
   "outputs": [
    {
     "name": "stdout",
     "output_type": "stream",
     "text": [
      "[[ 0.  1.  2.]\n",
      " [-1.  0.  3.]\n",
      " [-2. -3.  0.]]\n"
     ]
    }
   ],
   "source": [
    "a = np.array([[0,1., 2.], [-1.,0, 3.], [-2., -3., 0]])\n",
    "print(a)"
   ]
  },
  {
   "cell_type": "code",
   "execution_count": 33,
   "id": "cc8b847e",
   "metadata": {},
   "outputs": [
    {
     "name": "stdout",
     "output_type": "stream",
     "text": [
      "0\n"
     ]
    }
   ],
   "source": [
    "print(pf.pfaffian(a))"
   ]
  },
  {
   "cell_type": "code",
   "execution_count": 35,
   "id": "10ef39b6",
   "metadata": {},
   "outputs": [
    {
     "name": "stdout",
     "output_type": "stream",
     "text": [
      "0\n",
      "2\n"
     ]
    }
   ],
   "source": [
    "listt = [0,1,2,3,4,5,6,7]\n",
    "\n",
    "for i in listt[:4:2]:\n",
    "    print(i)"
   ]
  },
  {
   "cell_type": "code",
   "execution_count": 11,
   "id": "d86bc690",
   "metadata": {},
   "outputs": [
    {
     "name": "stdout",
     "output_type": "stream",
     "text": [
      "[0, 1]\n"
     ]
    },
    {
     "ename": "TypeError",
     "evalue": "cannot unpack non-iterable int object",
     "output_type": "error",
     "traceback": [
      "\u001b[31m---------------------------------------------------------------------------\u001b[39m",
      "\u001b[31mTypeError\u001b[39m                                 Traceback (most recent call last)",
      "\u001b[36mCell\u001b[39m\u001b[36m \u001b[39m\u001b[32mIn[11]\u001b[39m\u001b[32m, line 5\u001b[39m\n\u001b[32m      3\u001b[39m \u001b[38;5;28;01mfor\u001b[39;00m a \u001b[38;5;129;01min\u001b[39;00m listt:\n\u001b[32m      4\u001b[39m     \u001b[38;5;28mprint\u001b[39m(a)\n\u001b[32m----> \u001b[39m\u001b[32m5\u001b[39m     \u001b[38;5;28;01mfor\u001b[39;00m i,j \u001b[38;5;129;01min\u001b[39;00m a:\n\u001b[32m      6\u001b[39m         \u001b[38;5;28mprint\u001b[39m(i,j)\n",
      "\u001b[31mTypeError\u001b[39m: cannot unpack non-iterable int object"
     ]
    }
   ],
   "source": [
    "listt = [[0,1]]\n",
    "\n",
    "for a in listt:\n",
    "    print(a)\n",
    "    for i,j in a:\n",
    "        print(i,j)"
   ]
  },
  {
   "cell_type": "code",
   "execution_count": 13,
   "id": "0f67cb0e",
   "metadata": {},
   "outputs": [
    {
     "name": "stdout",
     "output_type": "stream",
     "text": [
      "[[0, 1]]\n",
      "0 1\n"
     ]
    }
   ],
   "source": [
    "listt = [[[0,1]]]\n",
    "\n",
    "for a in listt:\n",
    "    print(a)\n",
    "    for i,j in a:\n",
    "        print(i,j)"
   ]
  },
  {
   "cell_type": "code",
   "execution_count": 1,
   "id": "8a367e63",
   "metadata": {},
   "outputs": [],
   "source": [
    "import numpy as np\n",
    "\n",
    "aaa = np.array([12,45,332,2,345,5,6])\n",
    "\n",
    "aaa = aaa/np.sum(aaa)"
   ]
  },
  {
   "cell_type": "code",
   "execution_count": 2,
   "id": "27275e5f",
   "metadata": {},
   "outputs": [
    {
     "name": "stdout",
     "output_type": "stream",
     "text": [
      "1.0\n"
     ]
    }
   ],
   "source": [
    "print(np.sum(aaa))"
   ]
  },
  {
   "cell_type": "code",
   "execution_count": null,
   "id": "29af798c",
   "metadata": {},
   "outputs": [
    {
     "name": "stdout",
     "output_type": "stream",
     "text": [
      "[1.0, 1.0, 1.0, 1.0, 1.0]\n"
     ]
    }
   ],
   "source": [
    "import numpy as np\n",
    "\n",
    "a = np.array([1,2,3,4,5])\n",
    "b = np.array([1,2,3,4,5])\n",
    "print((a/b).tolist())"
   ]
  },
  {
   "cell_type": "code",
   "execution_count": 9,
   "id": "80356003",
   "metadata": {},
   "outputs": [
    {
     "name": "stdout",
     "output_type": "stream",
     "text": [
      "[1.0, 0.9625, 0.925, 0.8875, 0.85, 0.8125, 0.775, 0.7375, 0.7, 0.6625000000000001, 0.625, 0.5875, 0.55, 0.5125, 0.475, 0.4375, 0.4, 0.36250000000000004, 0.32500000000000007, 0.2875, 0.25, 0.21250000000000002, 0.17500000000000004, 0.13750000000000007, 0.1]\n"
     ]
    }
   ],
   "source": [
    "import numpy as np\n",
    "T_list_1 = np.linspace(1,0.1,25).tolist()\n",
    "print(T_list_1)"
   ]
  },
  {
   "cell_type": "code",
   "execution_count": 1,
   "id": "19aa3118",
   "metadata": {},
   "outputs": [
    {
     "name": "stdout",
     "output_type": "stream",
     "text": [
      "Real Schur T:\n",
      " [[ 0.          0.          0.        ]\n",
      " [ 0.          0.         -3.60555128]\n",
      " [ 0.          3.60555128  0.        ]]\n",
      "Complex Schur T (diagonal = eigenvalues):\n",
      " [[ 0.00000000e+00+3.60555128e+00j  1.00533848e-16+4.41297874e-16j\n",
      "  -6.87546415e-17+1.89812060e-16j]\n",
      " [ 0.00000000e+00+0.00000000e+00j  1.95078010e-16-5.22183295e-18j\n",
      "  -1.92557059e-16-2.48344938e-16j]\n",
      " [ 0.00000000e+00+0.00000000e+00j  0.00000000e+00+0.00000000e+00j\n",
      "  -8.29838179e-17-3.60555128e+00j]]\n",
      "Eigenvalues:\n",
      " [0.+0.j         0.+3.60555128j 0.-3.60555128j]\n"
     ]
    }
   ],
   "source": [
    "import numpy as np\n",
    "from scipy.linalg import schur, eig\n",
    "\n",
    "# example skew-symmetric matrix\n",
    "A = np.array([[ 0.0, -2.0,  0.0],\n",
    "              [ 2.0,  0.0, -3.0],\n",
    "              [ 0.0,  3.0,  0.0]])\n",
    "\n",
    "# real Schur\n",
    "T_real, Q_real = schur(A, output='real')\n",
    "# complex Schur\n",
    "T_comp, Q_comp = schur(A, output='complex')\n",
    "# direct eigen-decomposition (complex eigenvalues/vectors)\n",
    "w, v = eig(A)\n",
    "\n",
    "print(\"Real Schur T:\\n\", T_real)\n",
    "print(\"Complex Schur T (diagonal = eigenvalues):\\n\", T_comp)\n",
    "print(\"Eigenvalues:\\n\", w)\n"
   ]
  }
 ],
 "metadata": {
  "kernelspec": {
   "display_name": "Computational",
   "language": "python",
   "name": "python3"
  },
  "language_info": {
   "codemirror_mode": {
    "name": "ipython",
    "version": 3
   },
   "file_extension": ".py",
   "mimetype": "text/x-python",
   "name": "python",
   "nbconvert_exporter": "python",
   "pygments_lexer": "ipython3",
   "version": "3.13.2"
  }
 },
 "nbformat": 4,
 "nbformat_minor": 5
}

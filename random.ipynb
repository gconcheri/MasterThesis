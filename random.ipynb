{
 "cells": [
  {
   "cell_type": "code",
   "execution_count": 1,
   "id": "029a9be1",
   "metadata": {},
   "outputs": [],
   "source": [
    "import numpy as np"
   ]
  },
  {
   "cell_type": "code",
   "execution_count": 3,
   "id": "7cfa12f7",
   "metadata": {},
   "outputs": [
    {
     "data": {
      "text/plain": [
       "1"
      ]
     },
     "execution_count": 3,
     "metadata": {},
     "output_type": "execute_result"
    }
   ],
   "source": [
    "21%2 "
   ]
  },
  {
   "cell_type": "code",
   "execution_count": 5,
   "id": "72411a1c",
   "metadata": {},
   "outputs": [
    {
     "name": "stdout",
     "output_type": "stream",
     "text": [
      "[[0. 0. 0.]\n",
      " [1. 1. 1.]\n",
      " [2. 2. 2.]]\n"
     ]
    }
   ],
   "source": [
    "V = np.ones(3)[None, :] * np.arange(3)[:, None]\n",
    "\n",
    "print(V)"
   ]
  },
  {
   "cell_type": "code",
   "execution_count": 2,
   "id": "4eb28a87",
   "metadata": {},
   "outputs": [
    {
     "data": {
      "text/plain": [
       "11"
      ]
     },
     "execution_count": 2,
     "metadata": {},
     "output_type": "execute_result"
    }
   ],
   "source": [
    "22//2"
   ]
  },
  {
   "cell_type": "code",
   "execution_count": null,
   "id": "540d37e7",
   "metadata": {},
   "outputs": [
    {
     "name": "stdout",
     "output_type": "stream",
     "text": [
      "{0: [1, 1], 1: [2, 2], 2: [3, 3]}\n",
      "0\n",
      "1\n",
      "2\n"
     ]
    }
   ],
   "source": [
    "plaquette_coordinates = [[1,1], [2,2], [3,3]]\n",
    "plaquette = {}\n",
    "\n",
    "for i,a in enumerate(plaquette_coordinates):\n",
    "    plaquette[i] = [a[0],a[1]]\n",
    "\n",
    "print(plaquette)\n"
   ]
  },
  {
   "cell_type": "code",
   "execution_count": 4,
   "id": "477cebb6",
   "metadata": {},
   "outputs": [
    {
     "name": "stdout",
     "output_type": "stream",
     "text": [
      "0\n",
      "1\n",
      "2\n"
     ]
    }
   ],
   "source": [
    "for p in plaquette:\n",
    "    print(p)"
   ]
  },
  {
   "cell_type": "code",
   "execution_count": 9,
   "id": "7805c3fe",
   "metadata": {},
   "outputs": [
    {
     "name": "stdout",
     "output_type": "stream",
     "text": [
      "4.142857142857143\n"
     ]
    }
   ],
   "source": [
    "import numpy as np\n",
    "x_list = [2,3,4,5,5,6,4]\n",
    "\n",
    "mean_x = np.sum(x_list)/len(x_list)\n",
    "\n",
    "print(mean_x)\n"
   ]
  },
  {
   "cell_type": "code",
   "execution_count": 5,
   "id": "47ca8ff3",
   "metadata": {},
   "outputs": [
    {
     "name": "stdout",
     "output_type": "stream",
     "text": [
      "[[1 2]\n",
      " [3 4]]\n",
      "4\n"
     ]
    }
   ],
   "source": [
    "import numpy as np\n",
    "listt = [(1,2), (3,4)]\n",
    "listt = np.array(listt)\n",
    "print(listt)\n",
    "print(listt[1,1])"
   ]
  },
  {
   "cell_type": "code",
   "execution_count": 6,
   "id": "cbc6b209",
   "metadata": {},
   "outputs": [
    {
     "name": "stdout",
     "output_type": "stream",
     "text": [
      "[[1, 2], [3, 4]]\n"
     ]
    }
   ],
   "source": [
    "listt = listt.tolist()\n",
    "print(listt)"
   ]
  },
  {
   "cell_type": "code",
   "execution_count": 7,
   "id": "a44b3519",
   "metadata": {},
   "outputs": [
    {
     "name": "stdout",
     "output_type": "stream",
     "text": [
      "1 2\n",
      "3 4\n"
     ]
    }
   ],
   "source": [
    "for i,j in listt:\n",
    "    print(i,j)"
   ]
  },
  {
   "cell_type": "code",
   "execution_count": 1,
   "id": "3aa8c1c4",
   "metadata": {},
   "outputs": [
    {
     "data": {
      "text/plain": [
       "1"
      ]
     },
     "execution_count": 1,
     "metadata": {},
     "output_type": "execute_result"
    }
   ],
   "source": [
    "3//2"
   ]
  },
  {
   "cell_type": "code",
   "execution_count": 22,
   "id": "96f7829c",
   "metadata": {},
   "outputs": [
    {
     "name": "stdout",
     "output_type": "stream",
     "text": [
      "[False False  True False False  True False False False False]\n",
      "2\n"
     ]
    }
   ],
   "source": [
    "import numpy as np\n",
    "\n",
    "majoranas = np.zeros(10)\n",
    "majoranas[[5,2]] = 1  # sets all specified indices to 1\n",
    "majoranas_bool = majoranas.astype(bool)\t\n",
    "print(majoranas_bool)\n",
    "num_ones = np.sum(majoranas_bool)\n",
    "print(num_ones)\n",
    "prefactor_maj = 1j**(num_ones/2) "
   ]
  },
  {
   "cell_type": "code",
   "execution_count": 23,
   "id": "ed104fd4",
   "metadata": {},
   "outputs": [
    {
     "name": "stdout",
     "output_type": "stream",
     "text": [
      "[[0.  0.1 0.2 0.3 0.4 0.5 0.6 0.7 0.8 0.9]\n",
      " [1.  1.1 1.2 1.3 1.4 1.5 1.6 1.7 1.8 1.9]\n",
      " [2.  2.1 2.2 2.3 2.4 2.5 2.6 2.7 2.8 2.9]\n",
      " [3.  3.1 3.2 3.3 3.4 3.5 3.6 3.7 3.8 3.9]\n",
      " [4.  4.1 4.2 4.3 4.4 4.5 4.6 4.7 4.8 4.9]\n",
      " [5.  5.1 5.2 5.3 5.4 5.5 5.6 5.7 5.8 5.9]\n",
      " [6.  6.1 6.2 6.3 6.4 6.5 6.6 6.7 6.8 6.9]\n",
      " [7.  7.1 7.2 7.3 7.4 7.5 7.6 7.7 7.8 7.9]\n",
      " [8.  8.1 8.2 8.3 8.4 8.5 8.6 8.7 8.8 8.9]\n",
      " [9.  9.1 9.2 9.3 9.4 9.5 9.6 9.7 9.8 9.9]]\n"
     ]
    }
   ],
   "source": [
    "matrix = np.zeros((10,10))\n",
    "for i in range(10):\n",
    "    for j in range(10):\n",
    "        matrix[i,j] = i+j/10\n",
    "print(matrix)"
   ]
  },
  {
   "cell_type": "code",
   "execution_count": 24,
   "id": "0f6af26e",
   "metadata": {},
   "outputs": [
    {
     "name": "stdout",
     "output_type": "stream",
     "text": [
      "[[2.2 2.5]\n",
      " [5.2 5.5]]\n"
     ]
    }
   ],
   "source": [
    "print(matrix[majoranas_bool][:, majoranas_bool])"
   ]
  },
  {
   "cell_type": "code",
   "execution_count": 25,
   "id": "882cecfa",
   "metadata": {},
   "outputs": [],
   "source": [
    "from pfapack import pfaffian as pf"
   ]
  },
  {
   "cell_type": "code",
   "execution_count": 32,
   "id": "c04ecef4",
   "metadata": {},
   "outputs": [
    {
     "name": "stdout",
     "output_type": "stream",
     "text": [
      "[[ 0.  1.  2.]\n",
      " [-1.  0.  3.]\n",
      " [-2. -3.  0.]]\n"
     ]
    }
   ],
   "source": [
    "a = np.array([[0,1., 2.], [-1.,0, 3.], [-2., -3., 0]])\n",
    "print(a)"
   ]
  },
  {
   "cell_type": "code",
   "execution_count": 33,
   "id": "cc8b847e",
   "metadata": {},
   "outputs": [
    {
     "name": "stdout",
     "output_type": "stream",
     "text": [
      "0\n"
     ]
    }
   ],
   "source": [
    "print(pf.pfaffian(a))"
   ]
  }
 ],
 "metadata": {
  "kernelspec": {
   "display_name": "Computational",
   "language": "python",
   "name": "python3"
  },
  "language_info": {
   "codemirror_mode": {
    "name": "ipython",
    "version": 3
   },
   "file_extension": ".py",
   "mimetype": "text/x-python",
   "name": "python",
   "nbconvert_exporter": "python",
   "pygments_lexer": "ipython3",
   "version": "3.13.2"
  }
 },
 "nbformat": 4,
 "nbformat_minor": 5
}

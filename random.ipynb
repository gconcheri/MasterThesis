{
 "cells": [
  {
   "cell_type": "code",
   "execution_count": 1,
   "id": "029a9be1",
   "metadata": {},
   "outputs": [],
   "source": [
    "import numpy as np"
   ]
  },
  {
   "cell_type": "code",
   "execution_count": 3,
   "id": "7cfa12f7",
   "metadata": {},
   "outputs": [
    {
     "data": {
      "text/plain": [
       "1"
      ]
     },
     "execution_count": 3,
     "metadata": {},
     "output_type": "execute_result"
    }
   ],
   "source": [
    "21%2 "
   ]
  },
  {
   "cell_type": "code",
   "execution_count": 5,
   "id": "72411a1c",
   "metadata": {},
   "outputs": [
    {
     "name": "stdout",
     "output_type": "stream",
     "text": [
      "[[0. 0. 0.]\n",
      " [1. 1. 1.]\n",
      " [2. 2. 2.]]\n"
     ]
    }
   ],
   "source": [
    "V = np.ones(3)[None, :] * np.arange(3)[:, None]\n",
    "\n",
    "print(V)"
   ]
  },
  {
   "cell_type": "code",
   "execution_count": 2,
   "id": "4eb28a87",
   "metadata": {},
   "outputs": [
    {
     "data": {
      "text/plain": [
       "11"
      ]
     },
     "execution_count": 2,
     "metadata": {},
     "output_type": "execute_result"
    }
   ],
   "source": [
    "22//2"
   ]
  },
  {
   "cell_type": "code",
   "execution_count": null,
   "id": "540d37e7",
   "metadata": {},
   "outputs": [
    {
     "name": "stdout",
     "output_type": "stream",
     "text": [
      "{0: [1, 1], 1: [2, 2], 2: [3, 3]}\n",
      "0\n",
      "1\n",
      "2\n"
     ]
    }
   ],
   "source": [
    "plaquette_coordinates = [[1,1], [2,2], [3,3]]\n",
    "plaquette = {}\n",
    "\n",
    "for i,a in enumerate(plaquette_coordinates):\n",
    "    plaquette[i] = [a[0],a[1]]\n",
    "\n",
    "print(plaquette)\n"
   ]
  },
  {
   "cell_type": "code",
   "execution_count": 4,
   "id": "477cebb6",
   "metadata": {},
   "outputs": [
    {
     "name": "stdout",
     "output_type": "stream",
     "text": [
      "0\n",
      "1\n",
      "2\n"
     ]
    }
   ],
   "source": [
    "for p in plaquette:\n",
    "    print(p)"
   ]
  },
  {
   "cell_type": "code",
   "execution_count": 9,
   "id": "7805c3fe",
   "metadata": {},
   "outputs": [
    {
     "name": "stdout",
     "output_type": "stream",
     "text": [
      "4.142857142857143\n"
     ]
    }
   ],
   "source": [
    "import numpy as np\n",
    "x_list = [2,3,4,5,5,6,4]\n",
    "\n",
    "mean_x = np.sum(x_list)/len(x_list)\n",
    "\n",
    "print(mean_x)\n"
   ]
  },
  {
   "cell_type": "code",
   "execution_count": 5,
   "id": "47ca8ff3",
   "metadata": {},
   "outputs": [
    {
     "name": "stdout",
     "output_type": "stream",
     "text": [
      "[[1 2]\n",
      " [3 4]]\n",
      "4\n"
     ]
    }
   ],
   "source": [
    "import numpy as np\n",
    "listt = [(1,2), (3,4)]\n",
    "listt = np.array(listt)\n",
    "print(listt)\n",
    "print(listt[1,1])"
   ]
  },
  {
   "cell_type": "code",
   "execution_count": 6,
   "id": "cbc6b209",
   "metadata": {},
   "outputs": [
    {
     "name": "stdout",
     "output_type": "stream",
     "text": [
      "[[1, 2], [3, 4]]\n"
     ]
    }
   ],
   "source": [
    "listt = listt.tolist()\n",
    "print(listt)"
   ]
  },
  {
   "cell_type": "code",
   "execution_count": 7,
   "id": "a44b3519",
   "metadata": {},
   "outputs": [
    {
     "name": "stdout",
     "output_type": "stream",
     "text": [
      "1 2\n",
      "3 4\n"
     ]
    }
   ],
   "source": [
    "for i,j in listt:\n",
    "    print(i,j)"
   ]
  },
  {
   "cell_type": "code",
   "execution_count": 1,
   "id": "3aa8c1c4",
   "metadata": {},
   "outputs": [
    {
     "data": {
      "text/plain": [
       "1"
      ]
     },
     "execution_count": 1,
     "metadata": {},
     "output_type": "execute_result"
    }
   ],
   "source": [
    "3//2"
   ]
  },
  {
   "cell_type": "code",
   "execution_count": null,
   "id": "96f7829c",
   "metadata": {},
   "outputs": [],
   "source": []
  }
 ],
 "metadata": {
  "kernelspec": {
   "display_name": "Computational",
   "language": "python",
   "name": "python3"
  },
  "language_info": {
   "codemirror_mode": {
    "name": "ipython",
    "version": 3
   },
   "file_extension": ".py",
   "mimetype": "text/x-python",
   "name": "python",
   "nbconvert_exporter": "python",
   "pygments_lexer": "ipython3",
   "version": "3.13.2"
  }
 },
 "nbformat": 4,
 "nbformat_minor": 5
}

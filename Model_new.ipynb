{
 "cells": [
  {
   "cell_type": "markdown",
   "metadata": {},
   "source": [
    "# Preparation of Flux-Free Kitaev Honeycomb lattice state\n",
    "## In HONEYCOMB LATTICE SPACE\n",
    "2 honeycombs\n",
    "\n",
    "N = 14 spins\n",
    "\n",
    "Hamiltonian: $H = -J_x \\sum_{\\langle i,j \\rangle_x} \\sigma_i^x \\sigma_j^x\n",
    "    -J_y \\sum_{\\langle i,j \\rangle_y} \\sigma_i^y \\sigma_j^y\n",
    "    -J_z \\sum_{\\langle i,j \\rangle_z} \\sigma_i^z \\sigma_j^z$ "
   ]
  },
  {
   "cell_type": "markdown",
   "metadata": {},
   "source": [
    "Step 1: prepare product state $|00..>$ of N spins"
   ]
  },
  {
   "cell_type": "code",
   "execution_count": 2,
   "metadata": {},
   "outputs": [],
   "source": [
    "import numpy as np\n",
    "import scipy\n",
    "from scipy import sparse"
   ]
  },
  {
   "cell_type": "markdown",
   "metadata": {},
   "source": [
    "We are doing this mapping: \n",
    "\n",
    "$\\ket{\\uparrow \\uparrow} = \\ket{00} , \\quad\\ket{\\downarrow \\downarrow} = \\ket{11} $\n",
    "\n",
    "\n",
    "![Graphene]()\n",
    "\n"
   ]
  },
  {
   "cell_type": "code",
   "execution_count": 3,
   "metadata": {},
   "outputs": [
    {
     "name": "stdout",
     "output_type": "stream",
     "text": [
      "(16384, 1)\n"
     ]
    }
   ],
   "source": [
    "n_spins = 14\n",
    "e1 = sparse.csr_array([[1],[0]])\n",
    "psi = e1\n",
    "for _ in range(n_spins-1):\n",
    "    psi = sparse.kron(psi,e1, format='csr')\n",
    "\n",
    "print(psi.shape)\n",
    "\n",
    "\n",
    "assert psi.shape[0]== 2**14"
   ]
  },
  {
   "cell_type": "code",
   "execution_count": 4,
   "metadata": {},
   "outputs": [
    {
     "name": "stdout",
     "output_type": "stream",
     "text": [
      "  (0, 0)\t1\n"
     ]
    }
   ],
   "source": [
    "print(psi)"
   ]
  },
  {
   "cell_type": "markdown",
   "metadata": {},
   "source": [
    "Identify a representative qubit in each plaquette: we identify qubit 0 and 6\n",
    "\n",
    "We create operator that applies hadamard only on these two representative qubits"
   ]
  },
  {
   "cell_type": "code",
   "execution_count": 5,
   "metadata": {},
   "outputs": [],
   "source": [
    "def Hadamard(qubit1, qubit2, n):\n",
    "    assert qubit1 < qubit2\n",
    "    Id = sparse.csr_array(np.eye(4))\n",
    "    H_small = sparse.csr_array([[1./np.sqrt(2), 0., 0., 1./np.sqrt(2)], [0., 1., 0., 0.], [0., 0., 1., 0.], [1./np.sqrt(2), 0., 0., -1./np.sqrt(2)]])\n",
    "    op_list = [Id]*n\n",
    "    op_list[qubit1] = H_small\n",
    "    op_list[qubit2] = H_small\n",
    "    \n",
    "    H = op_list[0]\n",
    "\n",
    "    for op in op_list[1:]:\n",
    "        H = sparse.kron(H,op, format='csr')\n",
    "    return H\n",
    "    "
   ]
  },
  {
   "cell_type": "code",
   "execution_count": 12,
   "metadata": {},
   "outputs": [
    {
     "name": "stdout",
     "output_type": "stream",
     "text": [
      "(16384, 16384)\n",
      "(16384, 1)\n",
      "  (0, 0)\t0.4999999999999999\n",
      "  (48, 0)\t0.4999999999999999\n",
      "  (12288, 0)\t0.4999999999999999\n",
      "  (12336, 0)\t0.4999999999999999\n"
     ]
    }
   ],
   "source": [
    "qubit1 = 0\n",
    "qubit2 = 4\n",
    "n_eff_spins = int(n_spins/2)\n",
    "H = Hadamard(qubit1,qubit2,n_eff_spins)\n",
    "print(H.shape)\n",
    "psi1 = H @ psi.copy()\n",
    "\n",
    "print(psi1.shape)\n",
    "print(psi1)"
   ]
  },
  {
   "cell_type": "markdown",
   "metadata": {},
   "source": [
    "Create op. that applies CNOT on each plaquette with representative qubits as control qubits and all other qubits of plaquette as target ones"
   ]
  },
  {
   "cell_type": "code",
   "execution_count": 13,
   "metadata": {},
   "outputs": [],
   "source": [
    "def CNOT(qubit1, qubit2, n, l): #l = effective spins per plaquette, n = tot EFFECTIVE spins\n",
    "    assert qubit1 < 3\n",
    "    assert 3 < qubit2\n",
    "    # Id = sparse.csr_array(np.eye(2))\n",
    "    # X = sparse.csr_array([[0.,1.],[1.,0.]])\n",
    "    # Proj_0 = sparse.csr_array([[1.,0.],[0.,0.]]) #|0><0|\n",
    "    # Proj_1 = sparse.csr_array([[0.,0.],[0.,1.]]) #|1><1|\n",
    "    \n",
    "    newId = sparse.csr_array(np.eye(2**(2*n-2*l)))\n",
    "    CNOT_p1 = sparse.kron(plaquetteCNOT(qubit1,l),newId,'csr')\n",
    "    CNOT_p2 = sparse.kron(newId,plaquetteCNOT(qubit2-l+1,l), 'csr') #we map qubit 3 -> 0, 4->1, 5->2, 6->3\n",
    "    # even if geometry is not conserved, it still works because CNOT applied on this \n",
    "    #sequence of hilbert spaces in this order does not depend on geometry!\n",
    "    # print(CNOT_p2 @ CNOT_p1)\n",
    "    # print(CNOT_p1 @ CNOT_p2)\n",
    "    assert np.array_equal((CNOT_p2 @ CNOT_p1).toarray(), (CNOT_p1 @ CNOT_p2).toarray()), \"Sparse arrays are not equal\"\n",
    "    return CNOT_p2 @ CNOT_p1\n",
    "\n",
    "def plaquetteCNOT(qubit, l):\n",
    "    Id = sparse.csr_array(np.eye(4))\n",
    "    X = np.zeros((4,4))\n",
    "    X[0,3] = 1.\n",
    "    X[3,0] = 1.\n",
    "    X = sparse.csr_array(X)\n",
    "    #print(X)\n",
    "    \n",
    "    Proj_0 = np.zeros((4,4)) #|00><00|\n",
    "    Proj_0[0,0] = 1\n",
    "    Proj_0 = sparse.csr_array(Proj_0)\n",
    "    Proj_1 = np.zeros((4,4)) #|11><11|\n",
    "    Proj_1[3,3] = 1\n",
    "    Proj_1 = sparse.csr_array(Proj_1)\n",
    "\n",
    "    op_list_id = [Id]*l\n",
    "    op_list_id[qubit] = Proj_0\n",
    "\n",
    "    op_list_x = [X]*l\n",
    "    op_list_x[qubit] = Proj_1\n",
    "\n",
    "    CNOT1 = op_list_id[0]\n",
    "    CNOT2 = op_list_x[0]\n",
    "\n",
    "    for op1, op2 in zip(op_list_id[1:],op_list_x[1:]):\n",
    "        CNOT1 = sparse.kron(CNOT1, op1, 'csr')\n",
    "        CNOT2 = sparse.kron(CNOT2, op2, 'csr')\n",
    "    return CNOT1 + CNOT2"
   ]
  },
  {
   "cell_type": "code",
   "execution_count": 14,
   "metadata": {},
   "outputs": [
    {
     "ename": "ValueError",
     "evalue": "dimension mismatch",
     "output_type": "error",
     "traceback": [
      "\u001b[0;31m---------------------------------------------------------------------------\u001b[0m",
      "\u001b[0;31mValueError\u001b[0m                                Traceback (most recent call last)",
      "Cell \u001b[0;32mIn[14], line 3\u001b[0m\n\u001b[1;32m      1\u001b[0m \u001b[38;5;66;03m#TEST FOR plaquetteCNOT: it works\u001b[39;00m\n\u001b[1;32m      2\u001b[0m CNOT_test \u001b[38;5;241m=\u001b[39m plaquetteCNOT(\u001b[38;5;241m0\u001b[39m,\u001b[38;5;241m2\u001b[39m)\n\u001b[0;32m----> 3\u001b[0m \u001b[38;5;28mprint\u001b[39m(\u001b[43mCNOT_test\u001b[49m\u001b[38;5;241;43m*\u001b[39;49m\u001b[43m(\u001b[49m\u001b[43m[\u001b[49m\u001b[38;5;241;43m1\u001b[39;49m\u001b[43m,\u001b[49m\u001b[38;5;241;43m0\u001b[39;49m\u001b[43m,\u001b[49m\u001b[38;5;241;43m1\u001b[39;49m\u001b[43m,\u001b[49m\u001b[38;5;241;43m0\u001b[39;49m\u001b[43m]\u001b[49m\u001b[43m)\u001b[49m)\n",
      "File \u001b[0;32m/usr/lib/python3/dist-packages/scipy/sparse/_matrix.py:48\u001b[0m, in \u001b[0;36mspmatrix.__mul__\u001b[0;34m(self, other)\u001b[0m\n\u001b[1;32m     47\u001b[0m \u001b[38;5;28;01mdef\u001b[39;00m \u001b[38;5;21m__mul__\u001b[39m(\u001b[38;5;28mself\u001b[39m, other):\n\u001b[0;32m---> 48\u001b[0m     \u001b[38;5;28;01mreturn\u001b[39;00m \u001b[38;5;28;43mself\u001b[39;49m\u001b[38;5;241;43m.\u001b[39;49m\u001b[43m_mul_dispatch\u001b[49m\u001b[43m(\u001b[49m\u001b[43mother\u001b[49m\u001b[43m)\u001b[49m\n",
      "File \u001b[0;32m/usr/lib/python3/dist-packages/scipy/sparse/_base.py:553\u001b[0m, in \u001b[0;36m_spbase._mul_dispatch\u001b[0;34m(self, other)\u001b[0m\n\u001b[1;32m    550\u001b[0m \u001b[38;5;28;01mif\u001b[39;00m other\u001b[38;5;241m.\u001b[39mndim \u001b[38;5;241m==\u001b[39m \u001b[38;5;241m1\u001b[39m \u001b[38;5;129;01mor\u001b[39;00m other\u001b[38;5;241m.\u001b[39mndim \u001b[38;5;241m==\u001b[39m \u001b[38;5;241m2\u001b[39m \u001b[38;5;129;01mand\u001b[39;00m other\u001b[38;5;241m.\u001b[39mshape[\u001b[38;5;241m1\u001b[39m] \u001b[38;5;241m==\u001b[39m \u001b[38;5;241m1\u001b[39m:\n\u001b[1;32m    551\u001b[0m     \u001b[38;5;66;03m# dense row or column vector\u001b[39;00m\n\u001b[1;32m    552\u001b[0m     \u001b[38;5;28;01mif\u001b[39;00m other\u001b[38;5;241m.\u001b[39mshape \u001b[38;5;241m!=\u001b[39m (N,) \u001b[38;5;129;01mand\u001b[39;00m other\u001b[38;5;241m.\u001b[39mshape \u001b[38;5;241m!=\u001b[39m (N, \u001b[38;5;241m1\u001b[39m):\n\u001b[0;32m--> 553\u001b[0m         \u001b[38;5;28;01mraise\u001b[39;00m \u001b[38;5;167;01mValueError\u001b[39;00m(\u001b[38;5;124m'\u001b[39m\u001b[38;5;124mdimension mismatch\u001b[39m\u001b[38;5;124m'\u001b[39m)\n\u001b[1;32m    555\u001b[0m     result \u001b[38;5;241m=\u001b[39m \u001b[38;5;28mself\u001b[39m\u001b[38;5;241m.\u001b[39m_mul_vector(np\u001b[38;5;241m.\u001b[39mravel(other))\n\u001b[1;32m    557\u001b[0m     \u001b[38;5;28;01mif\u001b[39;00m \u001b[38;5;28misinstance\u001b[39m(other, np\u001b[38;5;241m.\u001b[39mmatrix):\n",
      "\u001b[0;31mValueError\u001b[0m: dimension mismatch"
     ]
    }
   ],
   "source": [
    "#TEST FOR plaquetteCNOT: it works\n",
    "CNOT_test = plaquetteCNOT(0,2)\n",
    "print(CNOT_test*([1,0,1,0]))"
   ]
  },
  {
   "cell_type": "code",
   "execution_count": 15,
   "metadata": {},
   "outputs": [
    {
     "name": "stdout",
     "output_type": "stream",
     "text": [
      "  (0, 0)\t0.4999999999999999\n",
      "  (255, 0)\t0.4999999999999999\n",
      "  (16191, 0)\t0.4999999999999999\n",
      "  (16320, 0)\t0.4999999999999999\n"
     ]
    }
   ],
   "source": [
    "CNOT_op = CNOT(qubit1, qubit2, n_eff_spins, 4)\n",
    "#print(CNOT_op.toarray())\n",
    "psi2 =  CNOT_op @ psi1.copy()\n",
    "#print(psi1.shape)\n",
    "#print(CNOT_op.shape)\n",
    "#print(psi2.shape)\n",
    "print(psi2)"
   ]
  },
  {
   "cell_type": "code",
   "execution_count": null,
   "metadata": {},
   "outputs": [
    {
     "name": "stdout",
     "output_type": "stream",
     "text": [
      "16384\n"
     ]
    }
   ],
   "source": []
  },
  {
   "cell_type": "code",
   "execution_count": null,
   "metadata": {},
   "outputs": [],
   "source": []
  }
 ],
 "metadata": {
  "kernelspec": {
   "display_name": "Python 3",
   "language": "python",
   "name": "python3"
  },
  "language_info": {
   "codemirror_mode": {
    "name": "ipython",
    "version": 3
   },
   "file_extension": ".py",
   "mimetype": "text/x-python",
   "name": "python",
   "nbconvert_exporter": "python",
   "pygments_lexer": "ipython3",
   "version": "3.12.3"
  }
 },
 "nbformat": 4,
 "nbformat_minor": 2
}

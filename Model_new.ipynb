{
 "cells": [
  {
   "cell_type": "markdown",
   "metadata": {},
   "source": [
    "# Preparation of Flux-Free Kitaev Honeycomb lattice state\n",
    "## In HONEYCOMB LATTICE SPACE\n",
    "2 honeycombs\n",
    "\n",
    "N = 14 spins\n",
    "\n",
    "Hamiltonian: $H = -J_x \\sum_{\\langle i,j \\rangle_x} \\sigma_i^x \\sigma_j^x\n",
    "    -J_y \\sum_{\\langle i,j \\rangle_y} \\sigma_i^y \\sigma_j^y\n",
    "    -J_z \\sum_{\\langle i,j \\rangle_z} \\sigma_i^z \\sigma_j^z$ "
   ]
  },
  {
   "cell_type": "markdown",
   "metadata": {},
   "source": [
    "Step 1: prepare product state $|00..>$ of N spins"
   ]
  },
  {
   "cell_type": "code",
   "execution_count": 1,
   "metadata": {},
   "outputs": [],
   "source": [
    "import numpy as np\n",
    "import scipy\n",
    "from scipy import sparse"
   ]
  },
  {
   "cell_type": "markdown",
   "metadata": {},
   "source": [
    "We are doing this mapping: \n",
    "\n",
    "$\\ket{\\uparrow \\uparrow} = \\ket{00} , \\quad\\ket{\\downarrow \\downarrow} = \\ket{11} $\n",
    "\n",
    "\n",
    "![Graphene]()\n",
    "\n"
   ]
  },
  {
   "cell_type": "code",
   "execution_count": 2,
   "metadata": {},
   "outputs": [
    {
     "name": "stdout",
     "output_type": "stream",
     "text": [
      "(16384, 1)\n"
     ]
    }
   ],
   "source": [
    "n_spins = 14\n",
    "e1 = sparse.csr_array([[1],[0]])\n",
    "psi = e1\n",
    "for _ in range(n_spins-1):\n",
    "    psi = sparse.kron(psi,e1, format='csr')\n",
    "\n",
    "print(psi.shape)\n",
    "\n",
    "\n",
    "assert psi.shape[0]== 2**14"
   ]
  },
  {
   "cell_type": "code",
   "execution_count": 3,
   "metadata": {},
   "outputs": [
    {
     "name": "stdout",
     "output_type": "stream",
     "text": [
      "  (0, 0)\t1\n"
     ]
    }
   ],
   "source": [
    "print(psi)"
   ]
  },
  {
   "cell_type": "markdown",
   "metadata": {},
   "source": [
    "Identify a representative qubit in each plaquette: we identify qubit 0 and 6\n",
    "\n",
    "We create operator that applies hadamard only on these two representative qubits"
   ]
  },
  {
   "cell_type": "code",
   "execution_count": 4,
   "metadata": {},
   "outputs": [],
   "source": [
    "def Hadamard(qubit1, qubit2, n):\n",
    "    assert qubit1 < qubit2\n",
    "    Id = sparse.csr_array(np.eye(4))\n",
    "    H_small = sparse.csr_array([[1./np.sqrt(2), 0., 0., 1./np.sqrt(2)], [0., 1., 0., 0.], [0., 0., 1., 0.], [1./np.sqrt(2), 0., 0., -1./np.sqrt(2)]])\n",
    "    op_list = [Id]*n\n",
    "    op_list[qubit1] = H_small\n",
    "    op_list[qubit2] = H_small\n",
    "    \n",
    "    H = op_list[0]\n",
    "\n",
    "    for op in op_list[1:]:\n",
    "        H = sparse.kron(H,op, format='csr')\n",
    "    return H\n",
    "    "
   ]
  },
  {
   "cell_type": "code",
   "execution_count": 5,
   "metadata": {},
   "outputs": [
    {
     "name": "stdout",
     "output_type": "stream",
     "text": [
      "(16384, 16384)\n",
      "(16384, 1)\n",
      "  (0, 0)\t0.4999999999999999\n",
      "  (48, 0)\t0.4999999999999999\n",
      "  (12288, 0)\t0.4999999999999999\n",
      "  (12336, 0)\t0.4999999999999999\n"
     ]
    }
   ],
   "source": [
    "qubit1 = 0\n",
    "qubit2 = 4\n",
    "n_eff_spins = int(n_spins/2)\n",
    "H = Hadamard(qubit1,qubit2,n_eff_spins)\n",
    "print(H.shape)\n",
    "psi1 = H @ psi.copy()\n",
    "\n",
    "print(psi1.shape)\n",
    "print(psi1)"
   ]
  },
  {
   "cell_type": "markdown",
   "metadata": {},
   "source": [
    "Create op. that applies CNOT on each plaquette with representative qubits as control qubits and all other qubits of plaquette as target ones"
   ]
  },
  {
   "cell_type": "code",
   "execution_count": 6,
   "metadata": {},
   "outputs": [],
   "source": [
    "def CNOT(qubit1, qubit2, n, l): #l = effective spins per plaquette, n = tot EFFECTIVE spins\n",
    "    assert qubit1 < 3\n",
    "    assert 3 < qubit2\n",
    "    # Id = sparse.csr_array(np.eye(2))\n",
    "    # X = sparse.csr_array([[0.,1.],[1.,0.]])\n",
    "    # Proj_0 = sparse.csr_array([[1.,0.],[0.,0.]]) #|0><0|\n",
    "    # Proj_1 = sparse.csr_array([[0.,0.],[0.,1.]]) #|1><1|\n",
    "    \n",
    "    newId = sparse.csr_array(np.eye(2**(2*n-2*l)))\n",
    "    CNOT_p1 = sparse.kron(plaquetteCNOT(qubit1,l),newId,'csr')\n",
    "    CNOT_p2 = sparse.kron(newId,plaquetteCNOT(qubit2-l+1,l), 'csr') #we map qubit 3 -> 0, 4->1, 5->2, 6->3\n",
    "    # even if geometry is not conserved, it still works because CNOT applied on this \n",
    "    #sequence of hilbert spaces in this order does not depend on geometry!\n",
    "    # print(CNOT_p2 @ CNOT_p1)\n",
    "    # print(CNOT_p1 @ CNOT_p2)\n",
    "    assert np.array_equal((CNOT_p2 @ CNOT_p1).toarray(), (CNOT_p1 @ CNOT_p2).toarray()), \"Sparse arrays are not equal\"\n",
    "    return CNOT_p2 @ CNOT_p1\n",
    "\n",
    "def plaquetteCNOT(qubit, l):\n",
    "    Id = sparse.csr_array(np.eye(4))\n",
    "    X = np.zeros((4,4))\n",
    "    X[0,3] = 1.\n",
    "    X[3,0] = 1.\n",
    "    X = sparse.csr_array(X)\n",
    "    #print(X)\n",
    "    \n",
    "    Proj_0 = np.zeros((4,4)) #|00><00|\n",
    "    Proj_0[0,0] = 1\n",
    "    Proj_0 = sparse.csr_array(Proj_0)\n",
    "    Proj_1 = np.zeros((4,4)) #|11><11|\n",
    "    Proj_1[3,3] = 1\n",
    "    Proj_1 = sparse.csr_array(Proj_1)\n",
    "\n",
    "    op_list_id = [Id]*l\n",
    "    op_list_id[qubit] = Proj_0\n",
    "\n",
    "    op_list_x = [X]*l\n",
    "    op_list_x[qubit] = Proj_1\n",
    "\n",
    "    CNOT1 = op_list_id[0]\n",
    "    CNOT2 = op_list_x[0]\n",
    "\n",
    "    for op1, op2 in zip(op_list_id[1:],op_list_x[1:]):\n",
    "        CNOT1 = sparse.kron(CNOT1, op1, 'csr')\n",
    "        CNOT2 = sparse.kron(CNOT2, op2, 'csr')\n",
    "    return CNOT1 + CNOT2"
   ]
  },
  {
   "cell_type": "code",
   "execution_count": 7,
   "metadata": {},
   "outputs": [
    {
     "ename": "ValueError",
     "evalue": "dimension mismatch",
     "output_type": "error",
     "traceback": [
      "\u001b[0;31m---------------------------------------------------------------------------\u001b[0m",
      "\u001b[0;31mValueError\u001b[0m                                Traceback (most recent call last)",
      "Cell \u001b[0;32mIn[7], line 3\u001b[0m\n\u001b[1;32m      1\u001b[0m \u001b[38;5;66;03m#TEST FOR plaquetteCNOT: it works\u001b[39;00m\n\u001b[1;32m      2\u001b[0m CNOT_test \u001b[38;5;241m=\u001b[39m plaquetteCNOT(\u001b[38;5;241m0\u001b[39m,\u001b[38;5;241m2\u001b[39m)\n\u001b[0;32m----> 3\u001b[0m \u001b[38;5;28mprint\u001b[39m(\u001b[43mCNOT_test\u001b[49m\u001b[38;5;241;43m*\u001b[39;49m\u001b[43m(\u001b[49m\u001b[43m[\u001b[49m\u001b[38;5;241;43m1\u001b[39;49m\u001b[43m,\u001b[49m\u001b[38;5;241;43m0\u001b[39;49m\u001b[43m,\u001b[49m\u001b[38;5;241;43m1\u001b[39;49m\u001b[43m,\u001b[49m\u001b[38;5;241;43m0\u001b[39;49m\u001b[43m]\u001b[49m\u001b[43m)\u001b[49m)\n",
      "File \u001b[0;32m/usr/lib/python3/dist-packages/scipy/sparse/_matrix.py:48\u001b[0m, in \u001b[0;36mspmatrix.__mul__\u001b[0;34m(self, other)\u001b[0m\n\u001b[1;32m     47\u001b[0m \u001b[38;5;28;01mdef\u001b[39;00m \u001b[38;5;21m__mul__\u001b[39m(\u001b[38;5;28mself\u001b[39m, other):\n\u001b[0;32m---> 48\u001b[0m     \u001b[38;5;28;01mreturn\u001b[39;00m \u001b[38;5;28;43mself\u001b[39;49m\u001b[38;5;241;43m.\u001b[39;49m\u001b[43m_mul_dispatch\u001b[49m\u001b[43m(\u001b[49m\u001b[43mother\u001b[49m\u001b[43m)\u001b[49m\n",
      "File \u001b[0;32m/usr/lib/python3/dist-packages/scipy/sparse/_base.py:553\u001b[0m, in \u001b[0;36m_spbase._mul_dispatch\u001b[0;34m(self, other)\u001b[0m\n\u001b[1;32m    550\u001b[0m \u001b[38;5;28;01mif\u001b[39;00m other\u001b[38;5;241m.\u001b[39mndim \u001b[38;5;241m==\u001b[39m \u001b[38;5;241m1\u001b[39m \u001b[38;5;129;01mor\u001b[39;00m other\u001b[38;5;241m.\u001b[39mndim \u001b[38;5;241m==\u001b[39m \u001b[38;5;241m2\u001b[39m \u001b[38;5;129;01mand\u001b[39;00m other\u001b[38;5;241m.\u001b[39mshape[\u001b[38;5;241m1\u001b[39m] \u001b[38;5;241m==\u001b[39m \u001b[38;5;241m1\u001b[39m:\n\u001b[1;32m    551\u001b[0m     \u001b[38;5;66;03m# dense row or column vector\u001b[39;00m\n\u001b[1;32m    552\u001b[0m     \u001b[38;5;28;01mif\u001b[39;00m other\u001b[38;5;241m.\u001b[39mshape \u001b[38;5;241m!=\u001b[39m (N,) \u001b[38;5;129;01mand\u001b[39;00m other\u001b[38;5;241m.\u001b[39mshape \u001b[38;5;241m!=\u001b[39m (N, \u001b[38;5;241m1\u001b[39m):\n\u001b[0;32m--> 553\u001b[0m         \u001b[38;5;28;01mraise\u001b[39;00m \u001b[38;5;167;01mValueError\u001b[39;00m(\u001b[38;5;124m'\u001b[39m\u001b[38;5;124mdimension mismatch\u001b[39m\u001b[38;5;124m'\u001b[39m)\n\u001b[1;32m    555\u001b[0m     result \u001b[38;5;241m=\u001b[39m \u001b[38;5;28mself\u001b[39m\u001b[38;5;241m.\u001b[39m_mul_vector(np\u001b[38;5;241m.\u001b[39mravel(other))\n\u001b[1;32m    557\u001b[0m     \u001b[38;5;28;01mif\u001b[39;00m \u001b[38;5;28misinstance\u001b[39m(other, np\u001b[38;5;241m.\u001b[39mmatrix):\n",
      "\u001b[0;31mValueError\u001b[0m: dimension mismatch"
     ]
    }
   ],
   "source": [
    "#TEST FOR plaquetteCNOT: it works\n",
    "CNOT_test = plaquetteCNOT(0,2)\n",
    "print(CNOT_test*([1,0,1,0]))"
   ]
  },
  {
   "cell_type": "code",
   "execution_count": 13,
   "metadata": {},
   "outputs": [
    {
     "name": "stdout",
     "output_type": "stream",
     "text": [
      "  (0, 0)\t0.4999999999999999\n",
      "  (255, 0)\t0.4999999999999999\n",
      "  (16191, 0)\t0.4999999999999999\n",
      "  (16320, 0)\t0.4999999999999999\n"
     ]
    }
   ],
   "source": [
    "CNOT_op = CNOT(qubit1, qubit2, n_eff_spins, 4)\n",
    "#print(CNOT_op.toarray())\n",
    "psi2 =  CNOT_op @ psi1.copy()\n",
    "#print(psi1.shape)\n",
    "#print(CNOT_op.shape)\n",
    "#print(psi2.shape)\n",
    "print(psi2)"
   ]
  },
  {
   "cell_type": "markdown",
   "metadata": {},
   "source": [
    "Next step: apply $U_a$ to horizontal sites: effective qubit = 1,3,6, $U_b$ to vertical ones: effective qubit = 0,2,4,5 $U = \\prod_{hor} U_a \\prod_{vert} U_b$"
   ]
  },
  {
   "cell_type": "code",
   "execution_count": 14,
   "metadata": {},
   "outputs": [],
   "source": [
    "def U_a_full(n_eff_spins):\n",
    "    U_a = sparse.csr_array([[(1.+1.j)/2., 0., 0., (1.+1.j)/2.],[0., 1., 0., 0.], [0., 0., 1., 0.], [(-1.+1.j)/2., 0., 0., (1.-1.j)/2.]])\n",
    "    Id = sparse.csr_array(np.eye(4))\n",
    "    op_list = [U_a]*n_eff_spins\n",
    "    op_list[1] = Id\n",
    "    op_list[3] = Id\n",
    "    op_list[6] = Id\n",
    "\n",
    "    U = op_list[0]\n",
    "\n",
    "    for op in op_list[1:]:\n",
    "        U = sparse.kron(U,op, format='csr')\n",
    "    return U\n",
    "\n",
    "def U_b_full(n_eff_spins):\n",
    "    U_b = sparse.csr_array([[1./np.sqrt(2)*(1.-1.j),0., 0., 0.],[0., 1., 0., 0.], [0., 0., 1., 0.], [0., 0., 0., 1./np.sqrt(2)*(1.+1.j)]])\n",
    "    Id = sparse.csr_array(np.eye(4))\n",
    "    op_list = [Id]*n_eff_spins\n",
    "    op_list[1] = U_b\n",
    "    op_list[3] = U_b\n",
    "    op_list[6] = U_b\n",
    "\n",
    "    U = op_list[0]\n",
    "\n",
    "    for op in op_list[1:]:\n",
    "        U = sparse.kron(U,op, format='csr')\n",
    "    return U\n"
   ]
  },
  {
   "cell_type": "code",
   "execution_count": 15,
   "metadata": {},
   "outputs": [
    {
     "name": "stdout",
     "output_type": "stream",
     "text": [
      "(16384, 1)\n",
      "  (0, 0)\t(0.0883883476483184+0.0883883476483184j)\n",
      "  (12, 0)\t(-0.0883883476483184+0.0883883476483184j)\n",
      "  (48, 0)\t(-0.0883883476483184+0.0883883476483184j)\n",
      "  (60, 0)\t(-0.0883883476483184-0.0883883476483184j)\n",
      "  (195, 0)\t(-0.08838834764831839-0.0883883476483184j)\n",
      "  (207, 0)\t(-0.0883883476483184+0.08838834764831839j)\n",
      "  (243, 0)\t(-0.0883883476483184+0.08838834764831839j)\n",
      "  (255, 0)\t(0.08838834764831839+0.0883883476483184j)\n",
      "  (768, 0)\t(-0.0883883476483184+0.0883883476483184j)\n",
      "  (780, 0)\t(-0.0883883476483184-0.0883883476483184j)\n",
      "  (816, 0)\t(-0.0883883476483184-0.0883883476483184j)\n",
      "  (828, 0)\t(0.0883883476483184-0.0883883476483184j)\n",
      "  (963, 0)\t(0.0883883476483184-0.08838834764831839j)\n",
      "  (975, 0)\t(-0.08838834764831839-0.0883883476483184j)\n",
      "  (1011, 0)\t(-0.08838834764831839-0.0883883476483184j)\n",
      "  (1023, 0)\t(-0.0883883476483184+0.08838834764831839j)\n",
      "  (3075, 0)\t(-0.0883883476483184-0.08838834764831839j)\n",
      "  (3087, 0)\t(-0.08838834764831839+0.0883883476483184j)\n",
      "  (3123, 0)\t(-0.08838834764831839+0.0883883476483184j)\n",
      "  (3135, 0)\t(0.0883883476483184+0.08838834764831839j)\n",
      "  (3264, 0)\t(-0.0883883476483184-0.0883883476483184j)\n",
      "  (3276, 0)\t(0.0883883476483184-0.0883883476483184j)\n",
      "  (3312, 0)\t(0.0883883476483184-0.0883883476483184j)\n",
      "  (3324, 0)\t(0.0883883476483184+0.0883883476483184j)\n",
      "  (3843, 0)\t(-0.08838834764831839+0.0883883476483184j)\n",
      "  :\t:\n",
      "  (12543, 0)\t(-0.0883883476483184+0.08838834764831839j)\n",
      "  (13056, 0)\t(-0.0883883476483184-0.0883883476483184j)\n",
      "  (13068, 0)\t(0.0883883476483184-0.0883883476483184j)\n",
      "  (13104, 0)\t(0.0883883476483184-0.0883883476483184j)\n",
      "  (13116, 0)\t(0.0883883476483184+0.0883883476483184j)\n",
      "  (13251, 0)\t(0.08838834764831839+0.0883883476483184j)\n",
      "  (13263, 0)\t(0.0883883476483184-0.08838834764831839j)\n",
      "  (13299, 0)\t(0.0883883476483184-0.08838834764831839j)\n",
      "  (13311, 0)\t(-0.08838834764831839-0.0883883476483184j)\n",
      "  (15363, 0)\t(-0.08838834764831839+0.0883883476483184j)\n",
      "  (15375, 0)\t(0.0883883476483184+0.08838834764831839j)\n",
      "  (15411, 0)\t(0.0883883476483184+0.08838834764831839j)\n",
      "  (15423, 0)\t(0.08838834764831839-0.0883883476483184j)\n",
      "  (15552, 0)\t(-0.0883883476483184+0.0883883476483184j)\n",
      "  (15564, 0)\t(-0.0883883476483184-0.0883883476483184j)\n",
      "  (15600, 0)\t(-0.0883883476483184-0.0883883476483184j)\n",
      "  (15612, 0)\t(0.0883883476483184-0.0883883476483184j)\n",
      "  (16131, 0)\t(0.0883883476483184+0.08838834764831839j)\n",
      "  (16143, 0)\t(0.08838834764831839-0.0883883476483184j)\n",
      "  (16179, 0)\t(0.08838834764831839-0.0883883476483184j)\n",
      "  (16191, 0)\t(-0.0883883476483184-0.08838834764831839j)\n",
      "  (16320, 0)\t(0.0883883476483184+0.0883883476483184j)\n",
      "  (16332, 0)\t(-0.0883883476483184+0.0883883476483184j)\n",
      "  (16368, 0)\t(-0.0883883476483184+0.0883883476483184j)\n",
      "  (16380, 0)\t(-0.0883883476483184-0.0883883476483184j)\n"
     ]
    }
   ],
   "source": [
    "psi_final = U_a_full(n_eff_spins) @ U_b_full(n_eff_spins) @ psi2.copy()\n",
    "print(psi_final.shape)\n",
    "print(psi_final)"
   ]
  },
  {
   "cell_type": "code",
   "execution_count": 29,
   "metadata": {},
   "outputs": [],
   "source": [
    "# Id = sparse.csr_array(np.eye(4))\n",
    "\n",
    "# X = np.zeros((4,4))\n",
    "# X[0,3] = 1.\n",
    "# X[3,0] = 1.\n",
    "# X = sparse.csr_array(X)\n",
    "\n",
    "# Z = np.zeros((4,4))\n",
    "# Z[0,0] = 1.\n",
    "# Z[3,3] = -1.\n",
    "# Z = sparse.csr_array(Z)\n",
    "\n",
    "# Y = np.zeros((4,4))\n",
    "# Y[0,1] = -1.j\n",
    "# Y[1,0] = 1.j\n",
    "# Y[2,3] = -1.j\n",
    "# Y[3,2] = 1.j\n",
    "# Y = sparse.csr_array(Y)\n",
    "\n",
    "X = sparse.csr_array([[0.,1.],[1.,0.]])\n",
    "Y = sparse.csr_array([[0.,-1.j],[1.j,0.]])\n",
    "Z = sparse.csr_array([[1.,0.],[0.,-1.]])\n",
    "I = sparse.csr_array(np.eye(2))"
   ]
  },
  {
   "cell_type": "markdown",
   "metadata": {},
   "source": [
    "Now we create plaquette term!"
   ]
  },
  {
   "cell_type": "code",
   "execution_count": 53,
   "metadata": {},
   "outputs": [],
   "source": [
    "def Op_full(O, Id, pos, n):\n",
    "    op_list = [Id]*n\n",
    "\n",
    "    if isinstance(pos, list):\n",
    "        for p in pos:\n",
    "            op_list[p] = O\n",
    "    else:\n",
    "        op_list[pos] = O\n",
    "\n",
    "    fullOp = op_list[0]\n",
    "    for op in op_list[1:]:\n",
    "        fullOp = sparse.kron(fullOp,op, format='csr')\n",
    "    return fullOp   "
   ]
  },
  {
   "cell_type": "code",
   "execution_count": 54,
   "metadata": {},
   "outputs": [],
   "source": [
    "def W_p(Op_list, index_list, Id, n_spins):\n",
    "    assert len(Op_list) == len(index_list)\n",
    "    assert len(Op_list) > 0\n",
    "    assert len(index_list) > 0\n",
    "    full_op = []\n",
    "    for op, idx in zip(Op_list, index_list):\n",
    "        full_op.append(Op_full(op, Id, idx, n_spins))\n",
    "    W = full_op[0]\n",
    "    for op in full_op[1:]:\n",
    "        W = W @ op\n",
    "    return W"
   ]
  },
  {
   "cell_type": "code",
   "execution_count": 55,
   "metadata": {},
   "outputs": [
    {
     "name": "stdout",
     "output_type": "stream",
     "text": [
      "First plaquette term: (0.9999999999999998+0j)\n"
     ]
    }
   ],
   "source": [
    "Op_list = [X, Y, Z, X, Y, Z]\n",
    "index_list = [3, 2, 1, 6, 7, 4]\n",
    "\n",
    "W_tilde_1 = W_p(Op_list, index_list, I, n_spins)\n",
    "\n",
    "# Compute the complex conjugate transpose of psi_final\n",
    "psi_final_dagger = psi_final.conjugate().transpose()\n",
    "\n",
    "# Compute the expectation value\n",
    "expectation_value = (psi_final_dagger @ W_tilde_1 @ psi_final)[0,0]\n",
    "\n",
    "# Print the result\n",
    "print(\"First plaquette term:\", expectation_value)"
   ]
  },
  {
   "cell_type": "code",
   "execution_count": 24,
   "metadata": {},
   "outputs": [
    {
     "name": "stdout",
     "output_type": "stream",
     "text": [
      "Second plaquette term: (0.9999999999999999+0j)\n"
     ]
    }
   ],
   "source": [
    "Op_list = [X, Y, Z, X, Y, Z]\n",
    "index_list = [7, 6, 9, 12, 13, 10]\n",
    "\n",
    "W_tilde_2 = W_p(Op_list, index_list, I, n_spins)\n",
    "\n",
    "# Compute the expectation value\n",
    "expectation_value = (psi_final_dagger @ W_tilde_2 @ psi_final)[0,0]\n",
    "\n",
    "# Print the result\n",
    "print(\"Second plaquette term:\", expectation_value)"
   ]
  },
  {
   "cell_type": "markdown",
   "metadata": {},
   "source": [
    "We finally get the plaquette terms to be +1! So now we can apply a floquet drive to the flux free state. Note that the plaquette term commutes with the floquet time evolution, which means that it is a conserved quantity!"
   ]
  },
  {
   "cell_type": "markdown",
   "metadata": {},
   "source": [
    "### Floquet drive\n",
    "\n",
    "Introduce ops $e^{i \\frac{\\pi}{4} \\alpha \\alpha} $ with $\\alpha = X, Y, Z$"
   ]
  },
  {
   "cell_type": "code",
   "execution_count": 68,
   "metadata": {},
   "outputs": [],
   "source": [
    "from scipy.sparse.linalg import expm\n"
   ]
  },
  {
   "cell_type": "code",
   "execution_count": 69,
   "metadata": {},
   "outputs": [
    {
     "name": "stdout",
     "output_type": "stream",
     "text": [
      "(16384, 16384)\n"
     ]
    }
   ],
   "source": [
    "#U_z\n",
    "\n",
    "Z_terms = []\n",
    "\n",
    "for n in range(0, n_spins, 2):\n",
    "    Z_terms.append(Op_full(expm(+1.j * np.pi/4. * sparse.kron(Z,Z, 'csr')), I, n, n_spins-1)) \n",
    "\n",
    "\n",
    "print(Z_terms[0].shape)\n",
    "\n",
    "U_z = Z_terms[0]\n",
    "\n",
    "for term in Z_terms[1:]:\n",
    "    U_z = U_z @ term\n"
   ]
  },
  {
   "cell_type": "code",
   "execution_count": 70,
   "metadata": {},
   "outputs": [
    {
     "ename": "KeyboardInterrupt",
     "evalue": "",
     "output_type": "error",
     "traceback": [
      "\u001b[0;31m---------------------------------------------------------------------------\u001b[0m",
      "\u001b[0;31mKeyboardInterrupt\u001b[0m                         Traceback (most recent call last)",
      "Cell \u001b[0;32mIn[70], line 5\u001b[0m\n\u001b[1;32m      2\u001b[0m Xindexlist \u001b[38;5;241m=\u001b[39m [[\u001b[38;5;241m1\u001b[39m,\u001b[38;5;241m2\u001b[39m],[\u001b[38;5;241m4\u001b[39m,\u001b[38;5;241m7\u001b[39m],[\u001b[38;5;241m6\u001b[39m,\u001b[38;5;241m9\u001b[39m],[\u001b[38;5;241m10\u001b[39m,\u001b[38;5;241m13\u001b[39m]]\n\u001b[1;32m      4\u001b[0m \u001b[38;5;28;01mfor\u001b[39;00m indeces \u001b[38;5;129;01min\u001b[39;00m Xindexlist:\n\u001b[0;32m----> 5\u001b[0m     X_terms\u001b[38;5;241m.\u001b[39mappend(\u001b[43mexpm\u001b[49m\u001b[43m(\u001b[49m\u001b[38;5;241;43m1.\u001b[39;49m\u001b[43mj\u001b[49m\u001b[38;5;241;43m*\u001b[39;49m\u001b[43mnp\u001b[49m\u001b[38;5;241;43m.\u001b[39;49m\u001b[43mpi\u001b[49m\u001b[38;5;241;43m/\u001b[39;49m\u001b[38;5;241;43m4\u001b[39;49m\u001b[38;5;241;43m*\u001b[39;49m\u001b[43m \u001b[49m\u001b[43mOp_full\u001b[49m\u001b[43m(\u001b[49m\u001b[43mX\u001b[49m\u001b[43m,\u001b[49m\u001b[43m \u001b[49m\u001b[43mI\u001b[49m\u001b[43m,\u001b[49m\u001b[43m \u001b[49m\u001b[43mindeces\u001b[49m\u001b[43m,\u001b[49m\u001b[43m \u001b[49m\u001b[43mn_spins\u001b[49m\u001b[43m)\u001b[49m\u001b[43m)\u001b[49m)\n\u001b[1;32m      7\u001b[0m \u001b[38;5;66;03m#this method take too much time to construct the full unitary operator!\u001b[39;00m\n",
      "File \u001b[0;32m/usr/lib/python3/dist-packages/scipy/sparse/linalg/_matfuncs.py:590\u001b[0m, in \u001b[0;36mexpm\u001b[0;34m(A)\u001b[0m\n\u001b[1;32m    545\u001b[0m \u001b[38;5;28;01mdef\u001b[39;00m \u001b[38;5;21mexpm\u001b[39m(A):\n\u001b[1;32m    546\u001b[0m \u001b[38;5;250m    \u001b[39m\u001b[38;5;124;03m\"\"\"\u001b[39;00m\n\u001b[1;32m    547\u001b[0m \u001b[38;5;124;03m    Compute the matrix exponential using Pade approximation.\u001b[39;00m\n\u001b[1;32m    548\u001b[0m \n\u001b[0;32m   (...)\u001b[0m\n\u001b[1;32m    588\u001b[0m \u001b[38;5;124;03m           [  0.        ,   0.        ,  20.08553692]])\u001b[39;00m\n\u001b[1;32m    589\u001b[0m \u001b[38;5;124;03m    \"\"\"\u001b[39;00m\n\u001b[0;32m--> 590\u001b[0m     \u001b[38;5;28;01mreturn\u001b[39;00m \u001b[43m_expm\u001b[49m\u001b[43m(\u001b[49m\u001b[43mA\u001b[49m\u001b[43m,\u001b[49m\u001b[43m \u001b[49m\u001b[43muse_exact_onenorm\u001b[49m\u001b[38;5;241;43m=\u001b[39;49m\u001b[38;5;124;43m'\u001b[39;49m\u001b[38;5;124;43mauto\u001b[39;49m\u001b[38;5;124;43m'\u001b[39;49m\u001b[43m)\u001b[49m\n",
      "File \u001b[0;32m/usr/lib/python3/dist-packages/scipy/sparse/linalg/_matfuncs.py:654\u001b[0m, in \u001b[0;36m_expm\u001b[0;34m(A, use_exact_onenorm)\u001b[0m\n\u001b[1;32m    652\u001b[0m \u001b[38;5;28;01mif\u001b[39;00m eta_3 \u001b[38;5;241m<\u001b[39m \u001b[38;5;241m9.504178996162932e-001\u001b[39m \u001b[38;5;129;01mand\u001b[39;00m _ell(h\u001b[38;5;241m.\u001b[39mA, \u001b[38;5;241m7\u001b[39m) \u001b[38;5;241m==\u001b[39m \u001b[38;5;241m0\u001b[39m:\n\u001b[1;32m    653\u001b[0m     U, V \u001b[38;5;241m=\u001b[39m h\u001b[38;5;241m.\u001b[39mpade7()\n\u001b[0;32m--> 654\u001b[0m     \u001b[38;5;28;01mreturn\u001b[39;00m \u001b[43m_solve_P_Q\u001b[49m\u001b[43m(\u001b[49m\u001b[43mU\u001b[49m\u001b[43m,\u001b[49m\u001b[43m \u001b[49m\u001b[43mV\u001b[49m\u001b[43m,\u001b[49m\u001b[43m \u001b[49m\u001b[43mstructure\u001b[49m\u001b[38;5;241;43m=\u001b[39;49m\u001b[43mstructure\u001b[49m\u001b[43m)\u001b[49m\n\u001b[1;32m    655\u001b[0m \u001b[38;5;28;01mif\u001b[39;00m eta_3 \u001b[38;5;241m<\u001b[39m \u001b[38;5;241m2.097847961257068e+000\u001b[39m \u001b[38;5;129;01mand\u001b[39;00m _ell(h\u001b[38;5;241m.\u001b[39mA, \u001b[38;5;241m9\u001b[39m) \u001b[38;5;241m==\u001b[39m \u001b[38;5;241m0\u001b[39m:\n\u001b[1;32m    656\u001b[0m     U, V \u001b[38;5;241m=\u001b[39m h\u001b[38;5;241m.\u001b[39mpade9()\n",
      "File \u001b[0;32m/usr/lib/python3/dist-packages/scipy/sparse/linalg/_matfuncs.py:706\u001b[0m, in \u001b[0;36m_solve_P_Q\u001b[0;34m(U, V, structure)\u001b[0m\n\u001b[1;32m    704\u001b[0m Q \u001b[38;5;241m=\u001b[39m \u001b[38;5;241m-\u001b[39mU \u001b[38;5;241m+\u001b[39m V\n\u001b[1;32m    705\u001b[0m \u001b[38;5;28;01mif\u001b[39;00m issparse(U) \u001b[38;5;129;01mor\u001b[39;00m is_pydata_spmatrix(U):\n\u001b[0;32m--> 706\u001b[0m     \u001b[38;5;28;01mreturn\u001b[39;00m \u001b[43mspsolve\u001b[49m\u001b[43m(\u001b[49m\u001b[43mQ\u001b[49m\u001b[43m,\u001b[49m\u001b[43m \u001b[49m\u001b[43mP\u001b[49m\u001b[43m)\u001b[49m\n\u001b[1;32m    707\u001b[0m \u001b[38;5;28;01melif\u001b[39;00m structure \u001b[38;5;129;01mis\u001b[39;00m \u001b[38;5;28;01mNone\u001b[39;00m:\n\u001b[1;32m    708\u001b[0m     \u001b[38;5;28;01mreturn\u001b[39;00m solve(Q, P)\n",
      "File \u001b[0;32m/usr/lib/python3/dist-packages/scipy/sparse/linalg/_dsolve/linsolve.py:317\u001b[0m, in \u001b[0;36mspsolve\u001b[0;34m(A, b, permc_spec, use_umfpack)\u001b[0m\n\u001b[1;32m    311\u001b[0m \u001b[38;5;28;01mfor\u001b[39;00m j \u001b[38;5;129;01min\u001b[39;00m \u001b[38;5;28mrange\u001b[39m(b\u001b[38;5;241m.\u001b[39mshape[\u001b[38;5;241m1\u001b[39m]):\n\u001b[1;32m    312\u001b[0m     \u001b[38;5;66;03m# TODO: replace this with\u001b[39;00m\n\u001b[1;32m    313\u001b[0m     \u001b[38;5;66;03m# bj = b[:, j].toarray().ravel()\u001b[39;00m\n\u001b[1;32m    314\u001b[0m     \u001b[38;5;66;03m# once 1D sparse arrays are supported.\u001b[39;00m\n\u001b[1;32m    315\u001b[0m     \u001b[38;5;66;03m# That is a slightly faster code path.\u001b[39;00m\n\u001b[1;32m    316\u001b[0m     bj \u001b[38;5;241m=\u001b[39m b[:, [j]]\u001b[38;5;241m.\u001b[39mtoarray()\u001b[38;5;241m.\u001b[39mravel()\n\u001b[0;32m--> 317\u001b[0m     xj \u001b[38;5;241m=\u001b[39m \u001b[43mAfactsolve\u001b[49m\u001b[43m(\u001b[49m\u001b[43mbj\u001b[49m\u001b[43m)\u001b[49m\n\u001b[1;32m    318\u001b[0m     w \u001b[38;5;241m=\u001b[39m np\u001b[38;5;241m.\u001b[39mflatnonzero(xj)\n\u001b[1;32m    319\u001b[0m     segment_length \u001b[38;5;241m=\u001b[39m w\u001b[38;5;241m.\u001b[39mshape[\u001b[38;5;241m0\u001b[39m]\n",
      "\u001b[0;31mKeyboardInterrupt\u001b[0m: "
     ]
    }
   ],
   "source": [
    "X_terms = []\n",
    "Xindexlist = [[1,2],[4,7],[6,9],[10,13]]\n",
    "\n",
    "for indeces in Xindexlist:\n",
    "    X_terms.append(expm(1.j*np.pi/4* Op_full(X, I, indeces, n_spins)))\n",
    "    \n",
    "#this method take too much time to construct the full unitary operator!\n",
    "\n"
   ]
  },
  {
   "cell_type": "code",
   "execution_count": 71,
   "metadata": {},
   "outputs": [],
   "source": [
    "from scipy.sparse.linalg import expm_multiply\n"
   ]
  },
  {
   "cell_type": "code",
   "execution_count": 72,
   "metadata": {},
   "outputs": [],
   "source": [
    "#apply XX unitary\n",
    "Xindexlist = [[1,2],[4,7],[6,9],[10,13]]\n",
    "\n",
    "psi_t = expm_multiply(+1.j * np.pi/4. * Op_full(X, I, Xindexlist[0], n_spins), psi_final)\n",
    "\n",
    "for indeces in Xindexlist[1:]:\n",
    "    psi_t = expm_multiply(+1.j * np.pi/4. * Op_full(X, I, indeces, n_spins), psi_t)\n",
    "\n",
    "#apply YY unitary\n",
    "Yindexlist = [[1,6],[3,4],[9,12],[7,10]]\n",
    "\n",
    "psi_t = expm_multiply(+1.j * np.pi/4. * Op_full(Y, I, Yindexlist[0], n_spins), psi_final)\n",
    "\n",
    "for indeces in Yindexlist[1:]:\n",
    "    psi_t = expm_multiply(+1.j * np.pi/4. * Op_full(Y, I, indeces, n_spins), psi_t)\n",
    "\n",
    "#apply ZZ unitary: check\n",
    "for n in range(0, n_spins, 2):\n",
    "    psi_t = Op_full(expm(+1.j * np.pi/4. * sparse.kron(Z,Z, 'csr')), I, n, n_spins-1) @ psi_t\n",
    "\n"
   ]
  },
  {
   "cell_type": "code",
   "execution_count": 73,
   "metadata": {},
   "outputs": [
    {
     "name": "stdout",
     "output_type": "stream",
     "text": [
      "(16384, 1)\n",
      "[0.03125-1.38777878e-17j 0.     +0.00000000e+00j 0.     +0.00000000e+00j\n",
      " ... 0.     +0.00000000e+00j 0.     +0.00000000e+00j\n",
      " 0.     +0.00000000e+00j]\n"
     ]
    }
   ],
   "source": [
    "print(psi_t.shape)\n",
    "print(psi_t.toarray().flatten())"
   ]
  },
  {
   "cell_type": "markdown",
   "metadata": {},
   "source": [
    "Let us now recheck the plaquette terms! (they should still be +1)"
   ]
  },
  {
   "cell_type": "code",
   "execution_count": 76,
   "metadata": {},
   "outputs": [
    {
     "name": "stdout",
     "output_type": "stream",
     "text": [
      "First plaquette term: (0.9999999999999999-1.396299209680746e-33j)\n",
      "Second plaquette term: (0.9999999999999999+0j)\n"
     ]
    }
   ],
   "source": [
    "# Compute the complex conjugate transpose of psi_final\n",
    "psi_t_dagger = psi_t.conjugate().transpose()\n",
    "\n",
    "# Compute the expectation value 1\n",
    "expectation_value1 = (psi_t_dagger @ W_tilde_1 @ psi_t)[0,0]\n",
    "\n",
    "# Print the result\n",
    "print(\"First plaquette term:\", expectation_value1)\n",
    "\n",
    "\n",
    "# Compute the expectation value 2\n",
    "expectation_value2 = (psi_t_dagger @ W_tilde_2 @ psi_t)[0,0]\n",
    "\n",
    "# Print the result\n",
    "print(\"Second plaquette term:\", expectation_value2)"
   ]
  },
  {
   "cell_type": "code",
   "execution_count": null,
   "metadata": {},
   "outputs": [],
   "source": []
  }
 ],
 "metadata": {
  "kernelspec": {
   "display_name": "Python 3",
   "language": "python",
   "name": "python3"
  },
  "language_info": {
   "codemirror_mode": {
    "name": "ipython",
    "version": 3
   },
   "file_extension": ".py",
   "mimetype": "text/x-python",
   "name": "python",
   "nbconvert_exporter": "python",
   "pygments_lexer": "ipython3",
   "version": "3.12.3"
  }
 },
 "nbformat": 4,
 "nbformat_minor": 2
}

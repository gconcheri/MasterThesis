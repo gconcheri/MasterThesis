{
 "cells": [
  {
   "cell_type": "markdown",
   "id": "cb9bc1ba",
   "metadata": {},
   "source": [
    "Now we want to write the Kitaev Honeycomb Lattice Hamiltonian using Fermionic notation"
   ]
  },
  {
   "cell_type": "code",
   "execution_count": 22,
   "id": "053218f4",
   "metadata": {},
   "outputs": [
    {
     "data": {
      "text/plain": [
       "<module 'honeycomb_plot' from '/Users/giovanniconcheri/Desktop/TESI/MasterThesis/honeycomb_plot.py'>"
      ]
     },
     "execution_count": 22,
     "metadata": {},
     "output_type": "execute_result"
    }
   ],
   "source": [
    "import numpy as np\n",
    "import scipy\n",
    "import matplotlib.pyplot as plt\n",
    "from scipy import sparse\n",
    "\n",
    "import Class_site as site\n",
    "import honeycomb_plot as honey\n",
    "import importlib\n",
    "importlib.reload(site)\n",
    "importlib.reload(honey)"
   ]
  },
  {
   "cell_type": "code",
   "execution_count": 2,
   "id": "8735930e",
   "metadata": {},
   "outputs": [],
   "source": [
    "Npx = 2 # Number of plaquette in each dimension\n",
    "Npy = 1\n",
    "model = site.SitesOBC(Npx, Npy)"
   ]
  },
  {
   "cell_type": "code",
   "execution_count": 3,
   "id": "ba8786cf",
   "metadata": {},
   "outputs": [
    {
     "name": "stdout",
     "output_type": "stream",
     "text": [
      "Number of sites: 10\n",
      "array of ordered sites:  [0 1 2 3 4 5 6 7 8 9]\n",
      "5\n",
      "6\n",
      "2\n",
      "['A' 'B' 'A' 'B' 'A' 'B' 'A' 'B' 'A' 'B']\n"
     ]
    }
   ],
   "source": [
    "print(\"Number of sites:\", model.Nsites)\n",
    "print(\"array of ordered sites: \", model.ids)\n",
    "print(model.Nxsites_1)\n",
    "print(model.Nxsites_2)\n",
    "print(model.Nyrows)\n",
    "print(model.partition)"
   ]
  },
  {
   "cell_type": "code",
   "execution_count": 4,
   "id": "9eeadfcf",
   "metadata": {},
   "outputs": [
    {
     "name": "stdout",
     "output_type": "stream",
     "text": [
      "List of idx,idy pairs for each site:  [[0 0]\n",
      " [1 0]\n",
      " [2 0]\n",
      " [3 0]\n",
      " [4 0]\n",
      " [0 1]\n",
      " [1 1]\n",
      " [2 1]\n",
      " [3 1]\n",
      " [4 1]]\n"
     ]
    }
   ],
   "source": [
    "#check if the id_to_idxidy function works\n",
    "idxidy_list = []\n",
    "for i in model.ids:\n",
    "    idxidy_list.append(model.id_to_idxidy(i))\n",
    "\n",
    "idxidy_array = np.array(idxidy_list)\n",
    "print(\"List of idx,idy pairs for each site: \", idxidy_array)"
   ]
  },
  {
   "cell_type": "code",
   "execution_count": 5,
   "id": "399928d2",
   "metadata": {},
   "outputs": [
    {
     "name": "stdout",
     "output_type": "stream",
     "text": [
      "List of ids for each idx,idy pair:  [0 1 2 3 4 5 6 7 8 9]\n",
      "(0, 1)\n"
     ]
    }
   ],
   "source": [
    "#check if idxidy_to_id function works\n",
    "id_list = []\n",
    "for idx, idy in idxidy_array:\n",
    "    id_list.append(model.idxidy_to_id(idx, idy))    \n",
    "\n",
    "id_array = np.array(id_list)\n",
    "print(\"List of ids for each idx,idy pair: \", id_array)\n",
    "\n",
    "print(model.id_to_idxidy(5))\n"
   ]
  },
  {
   "cell_type": "code",
   "execution_count": 6,
   "id": "3cf9d8ae",
   "metadata": {},
   "outputs": [
    {
     "data": {
      "text/plain": [
       "1"
      ]
     },
     "execution_count": 6,
     "metadata": {},
     "output_type": "execute_result"
    }
   ],
   "source": [
    "9 % 2"
   ]
  },
  {
   "cell_type": "code",
   "execution_count": 7,
   "id": "b3997645",
   "metadata": {},
   "outputs": [],
   "source": [
    "xx_bond, yy_bond, zz_bond = model.get_bonds()\n",
    "diagonal_bonds = model.get_diagonalbonds()"
   ]
  },
  {
   "cell_type": "code",
   "execution_count": 8,
   "id": "01cdd5ab",
   "metadata": {},
   "outputs": [
    {
     "name": "stdout",
     "output_type": "stream",
     "text": [
      "xx_bond:  [[0 1]\n",
      " [2 3]\n",
      " [6 7]\n",
      " [8 9]]\n",
      "yy_bond:  [[2 1]\n",
      " [4 3]\n",
      " [6 5]\n",
      " [8 7]]\n",
      "zz_bond:  [[0 5]\n",
      " [2 7]\n",
      " [4 9]]\n",
      "diagonal_bonds:  [[0 7]\n",
      " [2 9]]\n"
     ]
    }
   ],
   "source": [
    "print(\"xx_bond: \", np.array(xx_bond))\n",
    "print(\"yy_bond: \", np.array(yy_bond))\n",
    "print(\"zz_bond: \", np.array(zz_bond))\n",
    "print(\"diagonal_bonds: \", np.array(diagonal_bonds))\n"
   ]
  },
  {
   "cell_type": "code",
   "execution_count": 9,
   "id": "9bb8ae22",
   "metadata": {},
   "outputs": [
    {
     "name": "stdout",
     "output_type": "stream",
     "text": [
      "0 3\n",
      "1 4\n",
      "2 5\n"
     ]
    }
   ],
   "source": [
    "lllist = [3,4,5]\n",
    "for i, id in enumerate(lllist):\n",
    "    print(i, id)"
   ]
  },
  {
   "cell_type": "code",
   "execution_count": 10,
   "id": "8f10d13e",
   "metadata": {},
   "outputs": [
    {
     "data": {
      "image/png": "[encoded data removed]",
      "text/plain": [
       "<Figure size 1000x1000 with 1 Axes>"
      ]
     },
     "metadata": {},
     "output_type": "display_data"
    }
   ],
   "source": [
    "modell = site.SitesOBC(Npx = 2, Npy = 1)\n",
    "# indices = [14,16,27,28,29,30,41,43]\n",
    "indices = [25,27,38,39,40,41,52,54]\n",
    "# honey.plot_honeycomb(modell, plot_anyon_bonds = True, plot_diagonal_bonds=False, sites = indices, plaquette_site = 40)\n",
    "honey.plot_honeycomb(modell, plot_anyon_bonds = False, plot_diagonal_bonds=False, fig_size=(10,10))\n"
   ]
  },
  {
   "cell_type": "code",
   "execution_count": 11,
   "id": "9eb5452a",
   "metadata": {},
   "outputs": [
    {
     "name": "stdout",
     "output_type": "stream",
     "text": [
      "Coordinates of sites:  [[ 0.         -0.        ]\n",
      " [ 0.8660254   0.5       ]\n",
      " [ 1.73205081 -0.        ]\n",
      " [ 2.59807621  0.5       ]\n",
      " [ 3.46410162 -0.        ]\n",
      " [ 0.         -1.        ]\n",
      " [ 0.8660254  -1.5       ]\n",
      " [ 1.73205081 -1.        ]\n",
      " [ 2.59807621 -1.5       ]\n",
      " [ 3.46410162 -1.        ]]\n"
     ]
    }
   ],
   "source": [
    "coords = model.get_coordinates()\n",
    "print(\"Coordinates of sites: \", coords)"
   ]
  },
  {
   "cell_type": "markdown",
   "id": "cdb9c928",
   "metadata": {},
   "source": [
    "### Fermionic representation of many wonderful things"
   ]
  },
  {
   "cell_type": "code",
   "execution_count": 12,
   "id": "a013a6b0",
   "metadata": {},
   "outputs": [],
   "source": [
    "import free_fermion_representation as f\n",
    "importlib.reload(f)\n",
    "import pandas as pd"
   ]
  },
  {
   "cell_type": "code",
   "execution_count": 13,
   "id": "068c3328",
   "metadata": {},
   "outputs": [
    {
     "name": "stdout",
     "output_type": "stream",
     "text": [
      "70\n"
     ]
    }
   ],
   "source": [
    "model = site.SitesOBC(Npx=5, Npy=5)\n",
    "fgs = f.FermionicGaussianRepresentation(model)\n",
    "print(model.Nsites)"
   ]
  },
  {
   "cell_type": "code",
   "execution_count": 14,
   "id": "49ad81e7",
   "metadata": {},
   "outputs": [
    {
     "name": "stdout",
     "output_type": "stream",
     "text": [
      "Hamiltonian h0_x:\n",
      "           0         1         2         3         4         5         6   \\\n",
      "0   0.0+0.0j  0.5+0.0j  0.0+0.0j  0.0+0.0j  0.0+0.0j  0.0+0.0j  0.0+0.0j   \n",
      "1  -0.5-0.0j  0.0+0.0j  0.0+0.0j  0.0+0.0j  0.0+0.0j  0.0+0.0j  0.0+0.0j   \n",
      "2   0.0+0.0j  0.0+0.0j  0.0+0.0j  0.5+0.0j  0.0+0.0j  0.0+0.0j  0.0+0.0j   \n",
      "3   0.0+0.0j  0.0+0.0j -0.5-0.0j  0.0+0.0j  0.0+0.0j  0.0+0.0j  0.0+0.0j   \n",
      "4   0.0+0.0j  0.0+0.0j  0.0+0.0j  0.0+0.0j  0.0+0.0j  0.5+0.0j  0.0+0.0j   \n",
      "..       ...       ...       ...       ...       ...       ...       ...   \n",
      "65  0.0+0.0j  0.0+0.0j  0.0+0.0j  0.0+0.0j  0.0+0.0j  0.0+0.0j  0.0+0.0j   \n",
      "66  0.0+0.0j  0.0+0.0j  0.0+0.0j  0.0+0.0j  0.0+0.0j  0.0+0.0j  0.0+0.0j   \n",
      "67  0.0+0.0j  0.0+0.0j  0.0+0.0j  0.0+0.0j  0.0+0.0j  0.0+0.0j  0.0+0.0j   \n",
      "68  0.0+0.0j  0.0+0.0j  0.0+0.0j  0.0+0.0j  0.0+0.0j  0.0+0.0j  0.0+0.0j   \n",
      "69  0.0+0.0j  0.0+0.0j  0.0+0.0j  0.0+0.0j  0.0+0.0j  0.0+0.0j  0.0+0.0j   \n",
      "\n",
      "          7         8         9   ...        60        61        62        63  \\\n",
      "0   0.0+0.0j  0.0+0.0j  0.0+0.0j  ...  0.0+0.0j  0.0+0.0j  0.0+0.0j  0.0+0.0j   \n",
      "1   0.0+0.0j  0.0+0.0j  0.0+0.0j  ...  0.0+0.0j  0.0+0.0j  0.0+0.0j  0.0+0.0j   \n",
      "2   0.0+0.0j  0.0+0.0j  0.0+0.0j  ...  0.0+0.0j  0.0+0.0j  0.0+0.0j  0.0+0.0j   \n",
      "3   0.0+0.0j  0.0+0.0j  0.0+0.0j  ...  0.0+0.0j  0.0+0.0j  0.0+0.0j  0.0+0.0j   \n",
      "4   0.0+0.0j  0.0+0.0j  0.0+0.0j  ...  0.0+0.0j  0.0+0.0j  0.0+0.0j  0.0+0.0j   \n",
      "..       ...       ...       ...  ...       ...       ...       ...       ...   \n",
      "65  0.0+0.0j  0.0+0.0j  0.0+0.0j  ...  0.0+0.0j  0.0+0.0j  0.0+0.0j  0.0+0.0j   \n",
      "66  0.0+0.0j  0.0+0.0j  0.0+0.0j  ...  0.0+0.0j  0.0+0.0j  0.0+0.0j  0.0+0.0j   \n",
      "67  0.0+0.0j  0.0+0.0j  0.0+0.0j  ...  0.0+0.0j  0.0+0.0j  0.0+0.0j  0.0+0.0j   \n",
      "68  0.0+0.0j  0.0+0.0j  0.0+0.0j  ...  0.0+0.0j  0.0+0.0j  0.0+0.0j  0.0+0.0j   \n",
      "69  0.0+0.0j  0.0+0.0j  0.0+0.0j  ...  0.0+0.0j  0.0+0.0j  0.0+0.0j  0.0+0.0j   \n",
      "\n",
      "          64        65        66        67        68        69  \n",
      "0   0.0+0.0j  0.0+0.0j  0.0+0.0j  0.0+0.0j  0.0+0.0j  0.0+0.0j  \n",
      "1   0.0+0.0j  0.0+0.0j  0.0+0.0j  0.0+0.0j  0.0+0.0j  0.0+0.0j  \n",
      "2   0.0+0.0j  0.0+0.0j  0.0+0.0j  0.0+0.0j  0.0+0.0j  0.0+0.0j  \n",
      "3   0.0+0.0j  0.0+0.0j  0.0+0.0j  0.0+0.0j  0.0+0.0j  0.0+0.0j  \n",
      "4   0.0+0.0j  0.0+0.0j  0.0+0.0j  0.0+0.0j  0.0+0.0j  0.0+0.0j  \n",
      "..       ...       ...       ...       ...       ...       ...  \n",
      "65 -0.5-0.0j  0.0+0.0j  0.0+0.0j  0.0+0.0j  0.0+0.0j  0.0+0.0j  \n",
      "66  0.0+0.0j  0.0+0.0j  0.0+0.0j  0.5+0.0j  0.0+0.0j  0.0+0.0j  \n",
      "67  0.0+0.0j  0.0+0.0j -0.5-0.0j  0.0+0.0j  0.0+0.0j  0.0+0.0j  \n",
      "68  0.0+0.0j  0.0+0.0j  0.0+0.0j  0.0+0.0j  0.0+0.0j  0.5+0.0j  \n",
      "69  0.0+0.0j  0.0+0.0j  0.0+0.0j  0.0+0.0j -0.5-0.0j  0.0+0.0j  \n",
      "\n",
      "[70 rows x 70 columns]\n",
      "Hamiltonian h0_y:\n",
      "           0         1         2         3         4         5         6   \\\n",
      "0   0.0+0.0j  0.0+0.0j  0.0+0.0j  0.0+0.0j  0.0+0.0j  0.0+0.0j  0.0+0.0j   \n",
      "1   0.0+0.0j  0.0+0.0j -0.5-0.0j  0.0+0.0j  0.0+0.0j  0.0+0.0j  0.0+0.0j   \n",
      "2   0.0+0.0j  0.5+0.0j  0.0+0.0j  0.0+0.0j  0.0+0.0j  0.0+0.0j  0.0+0.0j   \n",
      "3   0.0+0.0j  0.0+0.0j  0.0+0.0j  0.0+0.0j -0.5-0.0j  0.0+0.0j  0.0+0.0j   \n",
      "4   0.0+0.0j  0.0+0.0j  0.0+0.0j  0.5+0.0j  0.0+0.0j  0.0+0.0j  0.0+0.0j   \n",
      "..       ...       ...       ...       ...       ...       ...       ...   \n",
      "65  0.0+0.0j  0.0+0.0j  0.0+0.0j  0.0+0.0j  0.0+0.0j  0.0+0.0j  0.0+0.0j   \n",
      "66  0.0+0.0j  0.0+0.0j  0.0+0.0j  0.0+0.0j  0.0+0.0j  0.0+0.0j  0.0+0.0j   \n",
      "67  0.0+0.0j  0.0+0.0j  0.0+0.0j  0.0+0.0j  0.0+0.0j  0.0+0.0j  0.0+0.0j   \n",
      "68  0.0+0.0j  0.0+0.0j  0.0+0.0j  0.0+0.0j  0.0+0.0j  0.0+0.0j  0.0+0.0j   \n",
      "69  0.0+0.0j  0.0+0.0j  0.0+0.0j  0.0+0.0j  0.0+0.0j  0.0+0.0j  0.0+0.0j   \n",
      "\n",
      "          7         8         9   ...        60        61        62        63  \\\n",
      "0   0.0+0.0j  0.0+0.0j  0.0+0.0j  ...  0.0+0.0j  0.0+0.0j  0.0+0.0j  0.0+0.0j   \n",
      "1   0.0+0.0j  0.0+0.0j  0.0+0.0j  ...  0.0+0.0j  0.0+0.0j  0.0+0.0j  0.0+0.0j   \n",
      "2   0.0+0.0j  0.0+0.0j  0.0+0.0j  ...  0.0+0.0j  0.0+0.0j  0.0+0.0j  0.0+0.0j   \n",
      "3   0.0+0.0j  0.0+0.0j  0.0+0.0j  ...  0.0+0.0j  0.0+0.0j  0.0+0.0j  0.0+0.0j   \n",
      "4   0.0+0.0j  0.0+0.0j  0.0+0.0j  ...  0.0+0.0j  0.0+0.0j  0.0+0.0j  0.0+0.0j   \n",
      "..       ...       ...       ...  ...       ...       ...       ...       ...   \n",
      "65  0.0+0.0j  0.0+0.0j  0.0+0.0j  ...  0.0+0.0j  0.0+0.0j  0.0+0.0j  0.0+0.0j   \n",
      "66  0.0+0.0j  0.0+0.0j  0.0+0.0j  ...  0.0+0.0j  0.0+0.0j  0.0+0.0j  0.0+0.0j   \n",
      "67  0.0+0.0j  0.0+0.0j  0.0+0.0j  ...  0.0+0.0j  0.0+0.0j  0.0+0.0j  0.0+0.0j   \n",
      "68  0.0+0.0j  0.0+0.0j  0.0+0.0j  ...  0.0+0.0j  0.0+0.0j  0.0+0.0j  0.0+0.0j   \n",
      "69  0.0+0.0j  0.0+0.0j  0.0+0.0j  ...  0.0+0.0j  0.0+0.0j  0.0+0.0j  0.0+0.0j   \n",
      "\n",
      "          64        65        66        67        68        69  \n",
      "0   0.0+0.0j  0.0+0.0j  0.0+0.0j  0.0+0.0j  0.0+0.0j  0.0+0.0j  \n",
      "1   0.0+0.0j  0.0+0.0j  0.0+0.0j  0.0+0.0j  0.0+0.0j  0.0+0.0j  \n",
      "2   0.0+0.0j  0.0+0.0j  0.0+0.0j  0.0+0.0j  0.0+0.0j  0.0+0.0j  \n",
      "3   0.0+0.0j  0.0+0.0j  0.0+0.0j  0.0+0.0j  0.0+0.0j  0.0+0.0j  \n",
      "4   0.0+0.0j  0.0+0.0j  0.0+0.0j  0.0+0.0j  0.0+0.0j  0.0+0.0j  \n",
      "..       ...       ...       ...       ...       ...       ...  \n",
      "65  0.0+0.0j  0.0+0.0j -0.5-0.0j  0.0+0.0j  0.0+0.0j  0.0+0.0j  \n",
      "66  0.0+0.0j  0.5+0.0j  0.0+0.0j  0.0+0.0j  0.0+0.0j  0.0+0.0j  \n",
      "67  0.0+0.0j  0.0+0.0j  0.0+0.0j  0.0+0.0j -0.5-0.0j  0.0+0.0j  \n",
      "68  0.0+0.0j  0.0+0.0j  0.0+0.0j  0.5+0.0j  0.0+0.0j  0.0+0.0j  \n",
      "69  0.0+0.0j  0.0+0.0j  0.0+0.0j  0.0+0.0j  0.0+0.0j  0.0+0.0j  \n",
      "\n",
      "[70 rows x 70 columns]\n",
      "Hamiltonian h0_z:\n",
      "           0         1         2         3         4         5         6   \\\n",
      "0   0.0+0.0j  0.0+0.0j  0.0+0.0j  0.0+0.0j  0.0+0.0j  0.0+0.0j  0.0+0.0j   \n",
      "1   0.0+0.0j  0.0+0.0j  0.0+0.0j  0.0+0.0j  0.0+0.0j  0.0+0.0j  0.0+0.0j   \n",
      "2   0.0+0.0j  0.0+0.0j  0.0+0.0j  0.0+0.0j  0.0+0.0j  0.0+0.0j  0.0+0.0j   \n",
      "3   0.0+0.0j  0.0+0.0j  0.0+0.0j  0.0+0.0j  0.0+0.0j  0.0+0.0j  0.0+0.0j   \n",
      "4   0.0+0.0j  0.0+0.0j  0.0+0.0j  0.0+0.0j  0.0+0.0j  0.0+0.0j  0.0+0.0j   \n",
      "..       ...       ...       ...       ...       ...       ...       ...   \n",
      "65  0.0+0.0j  0.0+0.0j  0.0+0.0j  0.0+0.0j  0.0+0.0j  0.0+0.0j  0.0+0.0j   \n",
      "66  0.0+0.0j  0.0+0.0j  0.0+0.0j  0.0+0.0j  0.0+0.0j  0.0+0.0j  0.0+0.0j   \n",
      "67  0.0+0.0j  0.0+0.0j  0.0+0.0j  0.0+0.0j  0.0+0.0j  0.0+0.0j  0.0+0.0j   \n",
      "68  0.0+0.0j  0.0+0.0j  0.0+0.0j  0.0+0.0j  0.0+0.0j  0.0+0.0j  0.0+0.0j   \n",
      "69  0.0+0.0j  0.0+0.0j  0.0+0.0j  0.0+0.0j  0.0+0.0j  0.0+0.0j  0.0+0.0j   \n",
      "\n",
      "          7         8         9   ...        60        61        62        63  \\\n",
      "0   0.0+0.0j  0.0+0.0j  0.0+0.0j  ...  0.0+0.0j  0.0+0.0j  0.0+0.0j  0.0+0.0j   \n",
      "1   0.0+0.0j  0.0+0.0j  0.0+0.0j  ...  0.0+0.0j  0.0+0.0j  0.0+0.0j  0.0+0.0j   \n",
      "2   0.0+0.0j  0.0+0.0j  0.0+0.0j  ...  0.0+0.0j  0.0+0.0j  0.0+0.0j  0.0+0.0j   \n",
      "3   0.0+0.0j  0.0+0.0j  0.0+0.0j  ...  0.0+0.0j  0.0+0.0j  0.0+0.0j  0.0+0.0j   \n",
      "4   0.0+0.0j  0.0+0.0j  0.0+0.0j  ...  0.0+0.0j  0.0+0.0j  0.0+0.0j  0.0+0.0j   \n",
      "..       ...       ...       ...  ...       ...       ...       ...       ...   \n",
      "65  0.0+0.0j  0.0+0.0j  0.0+0.0j  ...  0.0+0.0j  0.0+0.0j  0.0+0.0j  0.0+0.0j   \n",
      "66  0.0+0.0j  0.0+0.0j  0.0+0.0j  ...  0.0+0.0j  0.0+0.0j  0.0+0.0j  0.0+0.0j   \n",
      "67  0.0+0.0j  0.0+0.0j  0.0+0.0j  ...  0.0+0.0j  0.0+0.0j  0.0+0.0j  0.0+0.0j   \n",
      "68  0.0+0.0j  0.0+0.0j  0.0+0.0j  ...  0.0+0.0j  0.0+0.0j  0.0+0.0j  0.0+0.0j   \n",
      "69  0.0+0.0j  0.0+0.0j  0.0+0.0j  ...  0.0+0.0j  0.0+0.0j  0.0+0.0j  0.0+0.0j   \n",
      "\n",
      "          64        65        66        67        68        69  \n",
      "0   0.0+0.0j  0.0+0.0j  0.0+0.0j  0.0+0.0j  0.0+0.0j  0.0+0.0j  \n",
      "1   0.0+0.0j  0.0+0.0j  0.0+0.0j  0.0+0.0j  0.0+0.0j  0.0+0.0j  \n",
      "2   0.0+0.0j  0.0+0.0j  0.0+0.0j  0.0+0.0j  0.0+0.0j  0.0+0.0j  \n",
      "3   0.0+0.0j  0.0+0.0j  0.0+0.0j  0.0+0.0j  0.0+0.0j  0.0+0.0j  \n",
      "4   0.0+0.0j  0.0+0.0j  0.0+0.0j  0.0+0.0j  0.0+0.0j  0.0+0.0j  \n",
      "..       ...       ...       ...       ...       ...       ...  \n",
      "65  0.0+0.0j  0.0+0.0j  0.0+0.0j  0.0+0.0j  0.0+0.0j  0.0+0.0j  \n",
      "66  0.0+0.0j  0.0+0.0j  0.0+0.0j  0.0+0.0j  0.0+0.0j  0.0+0.0j  \n",
      "67  0.0+0.0j  0.0+0.0j  0.0+0.0j  0.0+0.0j  0.0+0.0j  0.0+0.0j  \n",
      "68  0.0+0.0j  0.0+0.0j  0.0+0.0j  0.0+0.0j  0.0+0.0j  0.0+0.0j  \n",
      "69  0.0+0.0j  0.0+0.0j  0.0+0.0j  0.0+0.0j  0.0+0.0j  0.0+0.0j  \n",
      "\n",
      "[70 rows x 70 columns]\n"
     ]
    }
   ],
   "source": [
    "dfx = pd.DataFrame(fgs.h0_x)\n",
    "dfy = pd.DataFrame(fgs.h0_y)\n",
    "dfz = pd.DataFrame(fgs.h0_z)\n",
    "\n",
    "print(\"Hamiltonian h0_x:\\n\", dfx.round(2))\n",
    "print(\"Hamiltonian h0_y:\\n\", dfy.round(2))\n",
    "print(\"Hamiltonian h0_z:\\n\", dfz.round(2))"
   ]
  },
  {
   "cell_type": "markdown",
   "id": "b88e66c6",
   "metadata": {},
   "source": [
    "# Topological Order Parameter"
   ]
  },
  {
   "cell_type": "code",
   "execution_count": 15,
   "id": "27a93072",
   "metadata": {},
   "outputs": [
    {
     "name": "stdout",
     "output_type": "stream",
     "text": [
      "[0. 0. 0. 0. 0. 0. 0. 0. 0. 0. 0. 0. 0. 0. 0. 0. 0. 0. 0. 0. 0. 0. 0. 0.\n",
      " 0. 1. 0. 1. 0. 0. 0. 0. 0. 0. 0. 0. 0. 0. 1. 1. 1. 1. 0. 0. 0. 0. 0. 0.\n",
      " 0. 0. 0. 0. 1. 0. 1. 0. 0. 0. 0. 0. 0. 0. 0. 0. 0. 0. 0. 0. 0. 0.]\n",
      "(np.complex128(-1+0j), np.complex128(-1+0j))\n"
     ]
    }
   ],
   "source": [
    "# indices = [14,16,27,28,29,30,41,43]\n",
    "indices = [25,27,38,39,40,41,52,54]\n",
    "\n",
    "# loop = [1 if i in indices else 0 for i in range(model.Nsites)]\n",
    "loop = np.zeros(model.Nsites)\n",
    "loop[indices] = 1  # sets all specified indices to 1\n",
    "\n",
    "print(loop)\n",
    "\n",
    "print(fgs.expectation_val_Majorana_string(loop))"
   ]
  },
  {
   "cell_type": "markdown",
   "id": "3459c21f",
   "metadata": {},
   "source": [
    "## Majorana notation\n",
    "R = e^(4h)"
   ]
  },
  {
   "cell_type": "code",
   "execution_count": 19,
   "id": "f1014028",
   "metadata": {},
   "outputs": [
    {
     "name": "stdout",
     "output_type": "stream",
     "text": [
      "(1-0j)\n",
      "(-0.9999207277893051-0j)\n",
      "(0.5806534650277773-0j)\n",
      "(-0.8772340153208111-0j)\n",
      "(0.8907609118533834-0j)\n",
      "(-0.9467414951554189-0j)\n",
      "(0.7661059326132007-0j)\n",
      "(-0.845820614158704-0j)\n",
      "(0.6333864926066454-0j)\n",
      "(-0.8362307997128936-0j)\n",
      "(0.5597678288144218-0j)\n"
     ]
    }
   ],
   "source": [
    "fgs.reset_cov_0_matrix()\n",
    "fgs.reset_cov_e_matrix()\n",
    "\n",
    "T = 0.8\n",
    "# t = T*np.pi/4.\n",
    "Rex, Rey, Rez, Re = f.floquet_operator(fgs.he_x, fgs.he_y, fgs.he_z, T)\n",
    "R0x, R0y, R0z, R0 = f.floquet_operator(fgs.h0_x, fgs.h0_y, fgs.h0_z, T)\n",
    "\n",
    "N = 10\n",
    "exp_value = []\n",
    "for i in range(N):\n",
    "    n = fgs.order_parameter(loop)\n",
    "    exp_value.append(n)\n",
    "    print(n)\n",
    "    fgs.update_cov_0_matrix(R0)\n",
    "    fgs.update_cov_e_matrix(Re)\n",
    "\n",
    "\n",
    "n = fgs.order_parameter(loop)\n",
    "exp_value.append(n)\n",
    "print(n)"
   ]
  },
  {
   "cell_type": "markdown",
   "id": "26f5e042",
   "metadata": {},
   "source": [
    "## Dirac notation\n",
    "(wrong for now)"
   ]
  },
  {
   "cell_type": "code",
   "execution_count": 20,
   "id": "fdc51518",
   "metadata": {},
   "outputs": [],
   "source": [
    "# t = np.pi/12\n",
    "# fgs.update_corr_matrix(He_x,t)\n",
    "# fgs.update_corr_matrix(He_y,t)\n",
    "# fgs.update_corr_matrix(He_z,t)\n",
    "\n",
    "# fgs.Cov = fgs.corr_to_cov()\n",
    "\n",
    "# print(fgs.expectation_val_Majorana_string(loop))\n"
   ]
  },
  {
   "cell_type": "code",
   "execution_count": 21,
   "id": "b4ac1203",
   "metadata": {},
   "outputs": [
    {
     "data": {
      "text/plain": [
       "Text(0.5, 1.0, 'Measurement of Loop operator O under Floquet drive')"
      ]
     },
     "execution_count": 21,
     "metadata": {},
     "output_type": "execute_result"
    },
    {
     "data": {
      "image/png": "[encoded data removed]",
      "text/plain": [
       "<Figure size 640x480 with 1 Axes>"
      ]
     },
     "metadata": {},
     "output_type": "display_data"
    }
   ],
   "source": [
    "plt.plot(range(N+1), exp_value, '.-', color='red')\n",
    "plt.xlabel('Floquet cycles')\n",
    "plt.ylabel(r'$\\eta$')\n",
    "plt.title(\"Measurement of Loop operator O under Floquet drive\")"
   ]
  }
 ],
 "metadata": {
  "kernelspec": {
   "display_name": "Computational",
   "language": "python",
   "name": "python3"
  },
  "language_info": {
   "codemirror_mode": {
    "name": "ipython",
    "version": 3
   },
   "file_extension": ".py",
   "mimetype": "text/x-python",
   "name": "python",
   "nbconvert_exporter": "python",
   "pygments_lexer": "ipython3",
   "version": "3.13.2"
  }
 },
 "nbformat": 4,
 "nbformat_minor": 5
}

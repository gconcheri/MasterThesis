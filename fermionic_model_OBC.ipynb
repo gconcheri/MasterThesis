{
 "cells": [
  {
   "cell_type": "markdown",
   "id": "cb9bc1ba",
   "metadata": {},
   "source": [
    "Now we want to write the Kitaev Honeycomb Lattice Hamiltonian using Fermionic notation"
   ]
  },
  {
   "cell_type": "code",
   "execution_count": 69,
   "id": "053218f4",
   "metadata": {},
   "outputs": [
    {
     "data": {
      "text/plain": [
       "<module 'honeycomb_plot' from '/Users/giovanniconcheri/Desktop/TESI/MasterThesis/honeycomb_plot.py'>"
      ]
     },
     "execution_count": 69,
     "metadata": {},
     "output_type": "execute_result"
    }
   ],
   "source": [
    "import numpy as np\n",
    "import scipy\n",
    "import matplotlib.pyplot as plt\n",
    "from scipy import sparse\n",
    "\n",
    "import Class_site as site\n",
    "import honeycomb_plot as honey\n",
    "import importlib\n",
    "importlib.reload(site)\n",
    "importlib.reload(honey)"
   ]
  },
  {
   "cell_type": "code",
   "execution_count": 70,
   "id": "8735930e",
   "metadata": {},
   "outputs": [],
   "source": [
    "Npx = 2 # Number of plaquette in each dimension\n",
    "Npy = 1\n",
    "model = site.SitesOBC(Npx, Npy)"
   ]
  },
  {
   "cell_type": "code",
   "execution_count": 71,
   "id": "ba8786cf",
   "metadata": {},
   "outputs": [
    {
     "name": "stdout",
     "output_type": "stream",
     "text": [
      "Number of sites: 10\n",
      "array of ordered sites:  [0 1 2 3 4 5 6 7 8 9]\n",
      "5\n",
      "6\n",
      "2\n",
      "['A' 'B' 'A' 'B' 'A' 'B' 'A' 'B' 'A' 'B']\n"
     ]
    }
   ],
   "source": [
    "print(\"Number of sites:\", model.Nsites)\n",
    "print(\"array of ordered sites: \", model.ids)\n",
    "print(model.Nxsites_1)\n",
    "print(model.Nxsites_2)\n",
    "print(model.Nyrows)\n",
    "print(model.partition)"
   ]
  },
  {
   "cell_type": "code",
   "execution_count": 72,
   "id": "9eeadfcf",
   "metadata": {},
   "outputs": [
    {
     "name": "stdout",
     "output_type": "stream",
     "text": [
      "List of idx,idy pairs for each site:  [[0 0]\n",
      " [1 0]\n",
      " [2 0]\n",
      " [3 0]\n",
      " [4 0]\n",
      " [0 1]\n",
      " [1 1]\n",
      " [2 1]\n",
      " [3 1]\n",
      " [4 1]]\n"
     ]
    }
   ],
   "source": [
    "#check if the id_to_idxidy function works\n",
    "idxidy_list = []\n",
    "for i in model.ids:\n",
    "    idxidy_list.append(model.id_to_idxidy(i))\n",
    "\n",
    "idxidy_array = np.array(idxidy_list)\n",
    "print(\"List of idx,idy pairs for each site: \", idxidy_array)"
   ]
  },
  {
   "cell_type": "code",
   "execution_count": 73,
   "id": "399928d2",
   "metadata": {},
   "outputs": [
    {
     "name": "stdout",
     "output_type": "stream",
     "text": [
      "List of ids for each idx,idy pair:  [0 1 2 3 4 5 6 7 8 9]\n",
      "(0, 1)\n"
     ]
    }
   ],
   "source": [
    "#check if idxidy_to_id function works\n",
    "id_list = []\n",
    "for idx, idy in idxidy_array:\n",
    "    id_list.append(model.idxidy_to_id(idx, idy))    \n",
    "\n",
    "id_array = np.array(id_list)\n",
    "print(\"List of ids for each idx,idy pair: \", id_array)\n",
    "\n",
    "print(model.id_to_idxidy(5))\n"
   ]
  },
  {
   "cell_type": "code",
   "execution_count": 74,
   "id": "3cf9d8ae",
   "metadata": {},
   "outputs": [
    {
     "data": {
      "text/plain": [
       "1"
      ]
     },
     "execution_count": 74,
     "metadata": {},
     "output_type": "execute_result"
    }
   ],
   "source": [
    "9 % 2"
   ]
  },
  {
   "cell_type": "code",
   "execution_count": 75,
   "id": "b3997645",
   "metadata": {},
   "outputs": [],
   "source": [
    "xx_bond, yy_bond, zz_bond = model.get_bonds()\n",
    "diagonal_bonds = model.get_diagonalbonds()"
   ]
  },
  {
   "cell_type": "code",
   "execution_count": 76,
   "id": "01cdd5ab",
   "metadata": {},
   "outputs": [
    {
     "name": "stdout",
     "output_type": "stream",
     "text": [
      "xx_bond:  [[0 1]\n",
      " [2 3]\n",
      " [6 7]\n",
      " [8 9]]\n",
      "yy_bond:  [[2 1]\n",
      " [4 3]\n",
      " [6 5]\n",
      " [8 7]]\n",
      "zz_bond:  [[0 5]\n",
      " [2 7]\n",
      " [4 9]]\n",
      "diagonal_bonds:  [[0 7]\n",
      " [2 9]]\n"
     ]
    }
   ],
   "source": [
    "print(\"xx_bond: \", np.array(xx_bond))\n",
    "print(\"yy_bond: \", np.array(yy_bond))\n",
    "print(\"zz_bond: \", np.array(zz_bond))\n",
    "print(\"diagonal_bonds: \", np.array(diagonal_bonds))\n"
   ]
  },
  {
   "cell_type": "code",
   "execution_count": 77,
   "id": "9bb8ae22",
   "metadata": {},
   "outputs": [
    {
     "name": "stdout",
     "output_type": "stream",
     "text": [
      "0 3\n",
      "1 4\n",
      "2 5\n"
     ]
    }
   ],
   "source": [
    "lllist = [3,4,5]\n",
    "for i, id in enumerate(lllist):\n",
    "    print(i, id)"
   ]
  },
  {
   "cell_type": "code",
   "execution_count": 78,
   "id": "8f10d13e",
   "metadata": {},
   "outputs": [
    {
     "data": {
      "image/png": "[encoded data removed]",
      "text/plain": [
       "<Figure size 1000x1000 with 1 Axes>"
      ]
     },
     "metadata": {},
     "output_type": "display_data"
    }
   ],
   "source": [
    "modell = site.SitesOBC(Npx = 2, Npy = 1)\n",
    "# indices = [14,16,27,28,29,30,41,43]\n",
    "indices = [25,27,38,39,40,41,52,54]\n",
    "# honey.plot_honeycomb(modell, plot_anyon_bonds = True, plot_diagonal_bonds=False, sites = indices, plaquette_site = 40)\n",
    "honey.plot_honeycomb(modell, plot_anyon_bonds = False, plot_diagonal_bonds=False, fig_size=(10,10))\n"
   ]
  },
  {
   "cell_type": "code",
   "execution_count": 529,
   "id": "9eb5452a",
   "metadata": {},
   "outputs": [
    {
     "name": "stdout",
     "output_type": "stream",
     "text": [
      "id 0 idx 0 idy 0\n",
      "x 0.0 y -0.0\n",
      "id 1 idx 1 idy 0\n",
      "x 0.8660254037844386 y 0.5\n",
      "id 2 idx 2 idy 0\n",
      "x 1.7320508075688772 y -0.0\n",
      "id 3 idx 3 idy 0\n",
      "x 2.598076211353316 y 0.5\n",
      "id 4 idx 4 idy 0\n",
      "x 3.4641016151377544 y -0.0\n",
      "id 5 idx 5 idy 0\n",
      "x 4.330127018922193 y 0.5\n",
      "id 6 idx 6 idy 0\n",
      "x 5.196152422706632 y -0.0\n",
      "id 7 idx 0 idy 1\n",
      "x 0.0 y -1.0\n",
      "id 8 idx 1 idy 1\n",
      "x 0.8660254037844386 y -1.5\n",
      "id 9 idx 2 idy 1\n",
      "x 1.7320508075688772 y -1.0\n",
      "id 10 idx 3 idy 1\n",
      "x 2.598076211353316 y -1.5\n",
      "id 11 idx 4 idy 1\n",
      "x 3.4641016151377544 y -1.0\n",
      "id 12 idx 5 idy 1\n",
      "x 4.330127018922193 y -1.5\n",
      "id 13 idx 6 idy 1\n",
      "x 5.196152422706632 y -1.0\n",
      "id 14 idx 7 idy 1\n",
      "x 6.06217782649107 y -1.5\n",
      "id 15 idx 0 idy 2\n",
      "x 0.0 y -3.0\n",
      "id 16 idx 1 idy 2\n",
      "x 0.8660254037844386 y -2.5\n",
      "id 17 idx 2 idy 2\n",
      "x 1.7320508075688772 y -3.0\n",
      "id 18 idx 3 idy 2\n",
      "x 2.598076211353316 y -2.5\n",
      "id 19 idx 4 idy 2\n",
      "x 3.4641016151377544 y -3.0\n",
      "id 20 idx 5 idy 2\n",
      "x 4.330127018922193 y -2.5\n",
      "id 21 idx 6 idy 2\n",
      "x 5.196152422706632 y -3.0\n",
      "id 22 idx 7 idy 2\n",
      "x 6.06217782649107 y -2.5\n",
      "id 23 idx 0 idy 3\n",
      "x 0.0 y -4.0\n",
      "id 24 idx 1 idy 3\n",
      "x 0.8660254037844386 y -4.5\n",
      "id 25 idx 2 idy 3\n",
      "x 1.7320508075688772 y -4.0\n",
      "id 26 idx 3 idy 3\n",
      "x 2.598076211353316 y -4.5\n",
      "id 27 idx 4 idy 3\n",
      "x 3.4641016151377544 y -4.0\n",
      "id 28 idx 5 idy 3\n",
      "x 4.330127018922193 y -4.5\n",
      "id 29 idx 6 idy 3\n",
      "x 5.196152422706632 y -4.0\n",
      "id 30 idx 7 idy 3\n",
      "x 6.06217782649107 y -4.5\n",
      "id 31 idx 0 idy 4\n",
      "x 0.8660254037844386 y -5.5\n",
      "id 32 idx 1 idy 4\n",
      "x 1.7320508075688772 y -6.0\n",
      "id 33 idx 2 idy 4\n",
      "x 2.598076211353316 y -5.5\n",
      "id 34 idx 3 idy 4\n",
      "x 3.4641016151377544 y -6.0\n",
      "id 35 idx 4 idy 4\n",
      "x 4.330127018922193 y -5.5\n",
      "id 36 idx 5 idy 4\n",
      "x 5.196152422706631 y -6.0\n",
      "id 37 idx 6 idy 4\n",
      "x 6.06217782649107 y -5.5\n",
      "Coordinates of sites:  [[ 0.         -0.        ]\n",
      " [ 0.8660254   0.5       ]\n",
      " [ 1.73205081 -0.        ]\n",
      " [ 2.59807621  0.5       ]\n",
      " [ 3.46410162 -0.        ]\n",
      " [ 4.33012702  0.5       ]\n",
      " [ 5.19615242 -0.        ]\n",
      " [ 0.         -1.        ]\n",
      " [ 0.8660254  -1.5       ]\n",
      " [ 1.73205081 -1.        ]\n",
      " [ 2.59807621 -1.5       ]\n",
      " [ 3.46410162 -1.        ]\n",
      " [ 4.33012702 -1.5       ]\n",
      " [ 5.19615242 -1.        ]\n",
      " [ 6.06217783 -1.5       ]\n",
      " [ 0.         -3.        ]\n",
      " [ 0.8660254  -2.5       ]\n",
      " [ 1.73205081 -3.        ]\n",
      " [ 2.59807621 -2.5       ]\n",
      " [ 3.46410162 -3.        ]\n",
      " [ 4.33012702 -2.5       ]\n",
      " [ 5.19615242 -3.        ]\n",
      " [ 6.06217783 -2.5       ]\n",
      " [ 0.         -4.        ]\n",
      " [ 0.8660254  -4.5       ]\n",
      " [ 1.73205081 -4.        ]\n",
      " [ 2.59807621 -4.5       ]\n",
      " [ 3.46410162 -4.        ]\n",
      " [ 4.33012702 -4.5       ]\n",
      " [ 5.19615242 -4.        ]\n",
      " [ 6.06217783 -4.5       ]\n",
      " [ 0.8660254  -5.5       ]\n",
      " [ 1.73205081 -6.        ]\n",
      " [ 2.59807621 -5.5       ]\n",
      " [ 3.46410162 -6.        ]\n",
      " [ 4.33012702 -5.5       ]\n",
      " [ 5.19615242 -6.        ]\n",
      " [ 6.06217783 -5.5       ]]\n"
     ]
    }
   ],
   "source": [
    "coords = model.get_coordinates()\n",
    "print(\"Coordinates of sites: \", coords)"
   ]
  },
  {
   "cell_type": "markdown",
   "id": "cdb9c928",
   "metadata": {},
   "source": [
    "### Fermionic representation of many wonderful things"
   ]
  },
  {
   "cell_type": "code",
   "execution_count": 120,
   "id": "a013a6b0",
   "metadata": {},
   "outputs": [],
   "source": [
    "import free_fermion_representation as f\n",
    "importlib.reload(f)\n",
    "import pandas as pd"
   ]
  },
  {
   "cell_type": "code",
   "execution_count": 121,
   "id": "068c3328",
   "metadata": {},
   "outputs": [
    {
     "name": "stdout",
     "output_type": "stream",
     "text": [
      "70\n"
     ]
    }
   ],
   "source": [
    "model = site.SitesOBC(Npx=5, Npy=5)\n",
    "fgs = f.FermionicGaussianRepresentation(model)\n",
    "print(model.Nsites)"
   ]
  },
  {
   "cell_type": "code",
   "execution_count": 122,
   "id": "49ad81e7",
   "metadata": {},
   "outputs": [
    {
     "name": "stdout",
     "output_type": "stream",
     "text": [
      "Adding xx bonds with Jxx = 1.0\n",
      "Adding yy bonds with Jyy = 1.0\n",
      "Adding zz bonds with Jzz = 1.0\n",
      "Hamiltonian H0_x:\n",
      "           0         1         2         3         4         5         6   \\\n",
      "0  -1.0+0.0j  0.0+0.0j  0.0+0.0j  0.0+0.0j  0.0+0.0j  0.0+0.0j  0.0+0.0j   \n",
      "1   0.0+0.0j -1.0+0.0j  0.0+0.0j  0.0+0.0j  0.0+0.0j  0.0+0.0j  0.0+0.0j   \n",
      "2   0.0+0.0j  0.0+0.0j -1.0+0.0j  0.0+0.0j  0.0+0.0j  0.0+0.0j  0.0+0.0j   \n",
      "3   0.0+0.0j  0.0+0.0j  0.0+0.0j -1.0+0.0j  0.0+0.0j  0.0+0.0j  0.0+0.0j   \n",
      "4   0.0+0.0j  0.0+0.0j  0.0+0.0j  0.0+0.0j -1.0+0.0j  0.0+0.0j  0.0+0.0j   \n",
      "..       ...       ...       ...       ...       ...       ...       ...   \n",
      "65  0.0+0.0j  0.0+0.0j  0.0+0.0j  0.0+0.0j  0.0+0.0j  0.0+0.0j  0.0+0.0j   \n",
      "66  0.0+0.0j  0.0+0.0j  0.0+0.0j  0.0+0.0j  0.0+0.0j  0.0+0.0j  0.0+0.0j   \n",
      "67  0.0+0.0j  0.0+0.0j  0.0+0.0j  0.0+0.0j  0.0+0.0j  0.0+0.0j  0.0+0.0j   \n",
      "68  0.0+0.0j  0.0+0.0j  0.0+0.0j  0.0+0.0j  0.0+0.0j  0.0+0.0j  0.0+0.0j   \n",
      "69  0.0+0.0j  0.0+0.0j  0.0+0.0j  0.0+0.0j  0.0+0.0j  0.0+0.0j  0.0+0.0j   \n",
      "\n",
      "          7         8         9   ...        60        61        62        63  \\\n",
      "0   0.0+0.0j  0.0+0.0j  0.0+0.0j  ...  0.0+0.0j  0.0+0.0j  0.0+0.0j  0.0+0.0j   \n",
      "1   0.0+0.0j  0.0+0.0j  0.0+0.0j  ...  0.0+0.0j  0.0+0.0j  0.0+0.0j  0.0+0.0j   \n",
      "2   0.0+0.0j  0.0+0.0j  0.0+0.0j  ...  0.0+0.0j  0.0+0.0j  0.0+0.0j  0.0+0.0j   \n",
      "3   0.0+0.0j  0.0+0.0j  0.0+0.0j  ...  0.0+0.0j  0.0+0.0j  0.0+0.0j  0.0+0.0j   \n",
      "4   0.0+0.0j  0.0+0.0j  0.0+0.0j  ...  0.0+0.0j  0.0+0.0j  0.0+0.0j  0.0+0.0j   \n",
      "..       ...       ...       ...  ...       ...       ...       ...       ...   \n",
      "65  0.0+0.0j  0.0+0.0j  0.0+0.0j  ...  0.0+0.0j  0.0+0.0j  0.0+0.0j  0.0+0.0j   \n",
      "66  0.0+0.0j  0.0+0.0j  0.0+0.0j  ...  0.0+0.0j  0.0+0.0j  0.0+0.0j  0.0+0.0j   \n",
      "67  0.0+0.0j  0.0+0.0j  0.0+0.0j  ...  0.0+0.0j  0.0+0.0j  0.0+0.0j  0.0+0.0j   \n",
      "68  0.0+0.0j  0.0+0.0j  0.0+0.0j  ...  0.0+0.0j  0.0+0.0j  0.0+0.0j  0.0+0.0j   \n",
      "69  0.0+0.0j  0.0+0.0j  0.0+0.0j  ...  0.0+0.0j  0.0+0.0j  0.0+0.0j  0.0+0.0j   \n",
      "\n",
      "          64        65        66        67        68        69  \n",
      "0   0.0+0.0j  0.0+0.0j  0.0+0.0j  0.0+0.0j  0.0+0.0j  0.0+0.0j  \n",
      "1   0.0+0.0j  0.0+0.0j  0.0+0.0j  0.0+0.0j  0.0+0.0j  0.0+0.0j  \n",
      "2   0.0+0.0j  0.0+0.0j  0.0+0.0j  0.0+0.0j  0.0+0.0j  0.0+0.0j  \n",
      "3   0.0+0.0j  0.0+0.0j  0.0+0.0j  0.0+0.0j  0.0+0.0j  0.0+0.0j  \n",
      "4   0.0+0.0j  0.0+0.0j  0.0+0.0j  0.0+0.0j  0.0+0.0j  0.0+0.0j  \n",
      "..       ...       ...       ...       ...       ...       ...  \n",
      "65  0.0+0.0j  1.0+0.0j  0.0+0.0j  0.0+0.0j  0.0+0.0j  0.0+0.0j  \n",
      "66  0.0+0.0j  0.0+0.0j  1.0+0.0j  0.0+0.0j  0.0+0.0j  0.0+0.0j  \n",
      "67  0.0+0.0j  0.0+0.0j  0.0+0.0j  1.0+0.0j  0.0+0.0j  0.0+0.0j  \n",
      "68  0.0+0.0j  0.0+0.0j  0.0+0.0j  0.0+0.0j  1.0+0.0j  0.0+0.0j  \n",
      "69  0.0+0.0j  0.0+0.0j  0.0+0.0j  0.0+0.0j  0.0+0.0j  1.0+0.0j  \n",
      "\n",
      "[70 rows x 70 columns]\n",
      "Hamiltonian H0_y:\n",
      "           0         1         2         3         4         5         6   \\\n",
      "0   0.0+0.0j -0.5+0.0j  0.0+0.0j  0.0+0.0j  0.0+0.0j  0.0+0.0j  0.0+0.0j   \n",
      "1  -0.5+0.0j  0.0+0.0j -0.5+0.0j  0.0+0.0j  0.0+0.0j  0.0+0.0j  0.0+0.0j   \n",
      "2   0.0+0.0j -0.5+0.0j  0.0+0.0j -0.5+0.0j  0.0+0.0j  0.0+0.0j  0.0+0.0j   \n",
      "3   0.0+0.0j  0.0+0.0j -0.5+0.0j  0.0+0.0j -0.5+0.0j  0.0+0.0j  0.0+0.0j   \n",
      "4   0.0+0.0j  0.0+0.0j  0.0+0.0j -0.5+0.0j  0.0+0.0j -0.5+0.0j  0.0+0.0j   \n",
      "..       ...       ...       ...       ...       ...       ...       ...   \n",
      "65  0.0+0.0j  0.0+0.0j  0.0+0.0j  0.0+0.0j  0.0+0.0j  0.0+0.0j  0.0+0.0j   \n",
      "66  0.0+0.0j  0.0+0.0j  0.0+0.0j  0.0+0.0j  0.0+0.0j  0.0+0.0j  0.0+0.0j   \n",
      "67  0.0+0.0j  0.0+0.0j  0.0+0.0j  0.0+0.0j  0.0+0.0j  0.0+0.0j  0.0+0.0j   \n",
      "68  0.0+0.0j  0.0+0.0j  0.0+0.0j  0.0+0.0j  0.0+0.0j  0.0+0.0j  0.0+0.0j   \n",
      "69  0.0+0.0j  0.0+0.0j  0.0+0.0j  0.0+0.0j  0.0+0.0j  0.0+0.0j  0.0+0.0j   \n",
      "\n",
      "          7         8         9   ...        60        61        62        63  \\\n",
      "0   0.0+0.0j  0.0+0.0j  0.0+0.0j  ...  0.0+0.0j  0.0+0.0j  0.0+0.0j  0.0+0.0j   \n",
      "1   0.0+0.0j  0.0+0.0j  0.0+0.0j  ...  0.0+0.0j  0.0+0.0j  0.0+0.0j  0.0+0.0j   \n",
      "2   0.0+0.0j  0.0+0.0j  0.0+0.0j  ...  0.0+0.0j  0.0+0.0j  0.0+0.0j  0.0+0.0j   \n",
      "3   0.0+0.0j  0.0+0.0j  0.0+0.0j  ...  0.0+0.0j  0.0+0.0j  0.0+0.0j  0.0+0.0j   \n",
      "4   0.0+0.0j  0.0+0.0j  0.0+0.0j  ...  0.0+0.0j  0.0+0.0j  0.0+0.0j  0.0+0.0j   \n",
      "..       ...       ...       ...  ...       ...       ...       ...       ...   \n",
      "65  0.0+0.0j  0.0+0.0j  0.0+0.0j  ...  0.0+0.0j  0.0+0.0j  0.0+0.0j  0.0+0.0j   \n",
      "66  0.0+0.0j  0.0+0.0j  0.0+0.0j  ...  0.0+0.0j  0.0+0.0j  0.0+0.0j  0.0+0.0j   \n",
      "67  0.0+0.0j  0.0+0.0j  0.0+0.0j  ...  0.0+0.0j  0.0+0.0j  0.0+0.0j  0.0+0.0j   \n",
      "68  0.0+0.0j  0.0+0.0j  0.0+0.0j  ...  0.0+0.0j  0.0+0.0j  0.0+0.0j  0.0+0.0j   \n",
      "69  0.0+0.0j  0.0+0.0j  0.0+0.0j  ...  0.0+0.0j  0.0+0.0j  0.0+0.0j  0.0+0.0j   \n",
      "\n",
      "          64        65        66        67        68        69  \n",
      "0   0.0+0.0j  0.0+0.0j  0.0+0.0j  0.0+0.0j  0.0+0.0j  0.0+0.0j  \n",
      "1   0.0+0.0j  0.0+0.0j  0.0+0.0j  0.0+0.0j  0.0+0.0j  0.0+0.0j  \n",
      "2   0.0+0.0j  0.0+0.0j  0.0+0.0j  0.0+0.0j  0.0+0.0j  0.0+0.0j  \n",
      "3   0.0+0.0j  0.0+0.0j  0.0+0.0j  0.0+0.0j  0.0+0.0j  0.0+0.0j  \n",
      "4   0.0+0.0j  0.0+0.0j  0.0+0.0j  0.0+0.0j  0.0+0.0j  0.0+0.0j  \n",
      "..       ...       ...       ...       ...       ...       ...  \n",
      "65  0.5+0.0j  0.0+0.0j  0.5+0.0j  0.0+0.0j  0.0+0.0j  0.0+0.0j  \n",
      "66  0.0+0.0j  0.5+0.0j  0.0+0.0j  0.5+0.0j  0.0+0.0j  0.0+0.0j  \n",
      "67  0.0+0.0j  0.0+0.0j  0.5+0.0j  0.0+0.0j  0.5+0.0j  0.0+0.0j  \n",
      "68  0.0+0.0j  0.0+0.0j  0.0+0.0j  0.5+0.0j  0.0+0.0j  0.5+0.0j  \n",
      "69  0.0+0.0j  0.0+0.0j  0.0+0.0j  0.0+0.0j  0.5+0.0j  0.0+0.0j  \n",
      "\n",
      "[70 rows x 70 columns]\n",
      "Hamiltonian H0_z:\n",
      "           0         1         2         3         4         5         6   \\\n",
      "0   0.0+0.0j  0.0+0.0j  0.0+0.0j  0.0+0.0j  0.0+0.0j -0.5+0.0j  0.0+0.0j   \n",
      "1   0.0+0.0j  0.0+0.0j  0.0+0.0j  0.0+0.0j  0.0+0.0j  0.0+0.0j -0.5+0.0j   \n",
      "2   0.0+0.0j  0.0+0.0j  0.0+0.0j  0.0+0.0j  0.0+0.0j  0.0+0.0j  0.0+0.0j   \n",
      "3   0.0+0.0j  0.0+0.0j  0.0+0.0j  0.0+0.0j  0.0+0.0j  0.0+0.0j  0.0+0.0j   \n",
      "4   0.0+0.0j  0.0+0.0j  0.0+0.0j  0.0+0.0j  0.0+0.0j  0.0+0.0j  0.0+0.0j   \n",
      "..       ...       ...       ...       ...       ...       ...       ...   \n",
      "65  0.0+0.0j  0.0+0.0j  0.0+0.0j  0.0+0.0j  0.0+0.0j  0.0+0.0j  0.0+0.0j   \n",
      "66  0.0+0.0j  0.0+0.0j  0.0+0.0j  0.0+0.0j  0.0+0.0j  0.0+0.0j  0.0+0.0j   \n",
      "67  0.0+0.0j  0.0+0.0j  0.0+0.0j  0.0+0.0j  0.0+0.0j  0.0+0.0j  0.0+0.0j   \n",
      "68  0.0+0.0j  0.0+0.0j  0.0+0.0j  0.0+0.0j  0.0+0.0j  0.0+0.0j  0.0+0.0j   \n",
      "69  0.0+0.0j  0.0+0.0j  0.0+0.0j  0.0+0.0j  0.0+0.0j  0.0+0.0j  0.0+0.0j   \n",
      "\n",
      "          7         8         9   ...        60        61        62        63  \\\n",
      "0   0.0+0.0j  0.0+0.0j  0.0+0.0j  ...  0.0+0.0j  0.0+0.0j  0.0+0.0j  0.0+0.0j   \n",
      "1   0.0+0.0j  0.0+0.0j  0.0+0.0j  ...  0.0+0.0j  0.0+0.0j  0.0+0.0j  0.0+0.0j   \n",
      "2  -0.5+0.0j  0.0+0.0j  0.0+0.0j  ...  0.0+0.0j  0.0+0.0j  0.0+0.0j  0.0+0.0j   \n",
      "3   0.0+0.0j -0.5+0.0j  0.0+0.0j  ...  0.0+0.0j  0.0+0.0j  0.0+0.0j  0.0+0.0j   \n",
      "4   0.0+0.0j  0.0+0.0j -0.5+0.0j  ...  0.0+0.0j  0.0+0.0j  0.0+0.0j  0.0+0.0j   \n",
      "..       ...       ...       ...  ...       ...       ...       ...       ...   \n",
      "65  0.0+0.0j  0.0+0.0j  0.0+0.0j  ...  0.0+0.0j  0.0+0.0j  0.0+0.0j  0.0+0.0j   \n",
      "66  0.0+0.0j  0.0+0.0j  0.0+0.0j  ...  0.0-0.5j  0.0+0.0j  0.0+0.0j  0.0+0.0j   \n",
      "67  0.0+0.0j  0.0+0.0j  0.0+0.0j  ...  0.0+0.0j  0.0-0.5j  0.0+0.0j  0.0+0.0j   \n",
      "68  0.0+0.0j  0.0+0.0j  0.0+0.0j  ...  0.0+0.0j  0.0+0.0j  0.0-0.5j  0.0+0.0j   \n",
      "69  0.0+0.0j  0.0+0.0j  0.0+0.0j  ...  0.0+0.0j  0.0+0.0j  0.0+0.0j  0.0-0.5j   \n",
      "\n",
      "          64        65        66        67        68        69  \n",
      "0   0.0+0.0j  0.0+0.0j  0.0+0.0j  0.0+0.0j  0.0+0.0j  0.0+0.0j  \n",
      "1   0.0+0.0j  0.0+0.0j  0.0+0.0j  0.0+0.0j  0.0+0.0j  0.0+0.0j  \n",
      "2   0.0+0.0j  0.0+0.0j  0.0+0.0j  0.0+0.0j  0.0+0.0j  0.0+0.0j  \n",
      "3   0.0+0.0j  0.0+0.0j  0.0+0.0j  0.0+0.0j  0.0+0.0j  0.0+0.0j  \n",
      "4   0.0+0.0j  0.0+0.0j  0.0+0.0j  0.0+0.0j  0.0+0.0j  0.0+0.0j  \n",
      "..       ...       ...       ...       ...       ...       ...  \n",
      "65  0.0+0.0j  0.0+0.0j  0.0+0.0j  0.0+0.0j  0.0+0.0j  0.0+0.0j  \n",
      "66  0.0+0.0j  0.0+0.0j  0.0+0.0j  0.0+0.0j  0.0+0.0j  0.0+0.0j  \n",
      "67  0.0+0.0j  0.0+0.0j  0.0+0.0j  0.0+0.0j  0.0+0.0j  0.0+0.0j  \n",
      "68  0.0+0.0j  0.0+0.0j  0.0+0.0j  0.0+0.0j  0.0+0.0j  0.0+0.0j  \n",
      "69  0.0+0.0j  0.0+0.0j  0.0+0.0j  0.0+0.0j  0.0+0.0j  0.0+0.0j  \n",
      "\n",
      "[70 rows x 70 columns]\n"
     ]
    }
   ],
   "source": [
    "h0_x = f.generate_Hamiltonian_Majorana(model, Jxx=1.0, Jyy=0.0, Jzz=0.0)*(1/1j)\n",
    "h0_y = f.generate_Hamiltonian_Majorana(model, Jxx=0.0, Jyy=1.0, Jzz=0.0)*(1/1j)\n",
    "h0_z = f.generate_Hamiltonian_Majorana(model, Jxx=0.0, Jyy=0.0, Jzz=1.0)*(1/1j)\n",
    "\n",
    "H0_x = fgs.Hamiltonian_dirac(h0_x)\n",
    "H0_y = fgs.Hamiltonian_dirac(h0_y)\n",
    "H0_z = fgs.Hamiltonian_dirac(h0_z)\n",
    "\n",
    "dfx = pd.DataFrame(H0_x)\n",
    "dfy = pd.DataFrame(H0_y)\n",
    "dfz = pd.DataFrame(H0_z)\n",
    "\n",
    "print(\"Hamiltonian H0_x:\\n\", dfx.round(2))\n",
    "print(\"Hamiltonian H0_y:\\n\", dfy.round(2))\n",
    "print(\"Hamiltonian H0_z:\\n\", dfz.round(2))"
   ]
  },
  {
   "cell_type": "code",
   "execution_count": 123,
   "id": "913fe48d",
   "metadata": {},
   "outputs": [
    {
     "name": "stdout",
     "output_type": "stream",
     "text": [
      "Adding xx bonds with Jxx = 1.0\n",
      "type = Anyon!\n",
      "Adding yy bonds with Jyy = 1.0\n",
      "type = Anyon!\n",
      "Adding zz bonds with Jzz = 1.0\n",
      "type = Anyon!\n"
     ]
    }
   ],
   "source": [
    "he_x = f.generate_Hamiltonian_Majorana(model, Jxx=1.0, Jyy=0.0, Jzz=0.0, type='Anyon')*(1/1j)\n",
    "he_y = f.generate_Hamiltonian_Majorana(model, Jxx=0.0, Jyy=1.0, Jzz=0.0, type='Anyon')*(1/1j)\n",
    "he_z = f.generate_Hamiltonian_Majorana(model, Jxx=0.0, Jyy=0.0, Jzz=1.0, type='Anyon')*(1/1j)\n",
    "\n",
    "He_x = fgs.Hamiltonian_dirac(he_x)\n",
    "He_y = fgs.Hamiltonian_dirac(he_y)\n",
    "He_z = fgs.Hamiltonian_dirac(he_z)\n",
    "\n",
    "# dfex = pd.DataFrame(He_x)\n",
    "# dfey = pd.DataFrame(He_y)\n",
    "# dfez = pd.DataFrame(He_z)\n",
    "\n",
    "# print(\"Hamiltonian He_x:\\n\", dfex.round(2))\n",
    "# print(\"Hamiltonian He_y:\\n\", dfey.round(2))\n",
    "# print(\"Hamiltonian He_z:\\n\", dfez.round(2))"
   ]
  },
  {
   "cell_type": "markdown",
   "id": "b88e66c6",
   "metadata": {},
   "source": [
    "# Topological Order Parameter"
   ]
  },
  {
   "cell_type": "code",
   "execution_count": 124,
   "id": "27a93072",
   "metadata": {},
   "outputs": [
    {
     "name": "stdout",
     "output_type": "stream",
     "text": [
      "[0. 0. 0. 0. 0. 0. 0. 0. 0. 0. 0. 0. 0. 0. 0. 0. 0. 0. 0. 0. 0. 0. 0. 0.\n",
      " 0. 1. 0. 1. 0. 0. 0. 0. 0. 0. 0. 0. 0. 0. 1. 1. 1. 1. 0. 0. 0. 0. 0. 0.\n",
      " 0. 0. 0. 0. 1. 0. 1. 0. 0. 0. 0. 0. 0. 0. 0. 0. 0. 0. 0. 0. 0. 0.]\n",
      "(-1+0j)\n"
     ]
    }
   ],
   "source": [
    "# indices = [14,16,27,28,29,30,41,43]\n",
    "indices = [25,27,38,39,40,41,52,54]\n",
    "\n",
    "# loop = [1 if i in indices else 0 for i in range(model.Nsites)]\n",
    "loop = np.zeros(model.Nsites)\n",
    "loop[indices] = 1  # sets all specified indices to 1\n",
    "\n",
    "print(loop)\n",
    "\n",
    "print(fgs.expectation_val_Majorana_string(loop))"
   ]
  },
  {
   "cell_type": "markdown",
   "id": "3459c21f",
   "metadata": {},
   "source": [
    "## Majorana notation\n",
    "R = e^(4h)"
   ]
  },
  {
   "cell_type": "code",
   "execution_count": 116,
   "id": "f1014028",
   "metadata": {},
   "outputs": [
    {
     "name": "stdout",
     "output_type": "stream",
     "text": [
      "(-0.2037950535456506+0j)\n",
      "(0.23266766487771764-0j)\n",
      "(-0.26301580633659966+0j)\n",
      "(0.23751880674519896-0j)\n",
      "(-0.17174796347632443+0j)\n",
      "(0.1523224803301806-0j)\n",
      "(-0.08968743386985552+0j)\n",
      "(0.1251967124679374-0j)\n",
      "(-0.0945895647428368+0j)\n",
      "(0.10506967162586528-0j)\n",
      "(-0.0025872932798001293+0j)\n"
     ]
    }
   ],
   "source": [
    "from scipy.linalg import expm\n",
    "\n",
    "T = 0.8\n",
    "t = T*np.pi/4.\n",
    "Rex = expm(he_x*t*4)\n",
    "Rey = expm(he_y*t*4)\n",
    "Rez = expm(he_z*t*4)\n",
    "# fgs.update_cov_matrix(Rex)\n",
    "# fgs.update_cov_matrix(Rey)\n",
    "# fgs.update_cov_matrix(Rez)\n",
    "\n",
    "N = 10\n",
    "exp_value = []\n",
    "for i in range(N):\n",
    "    n = fgs.expectation_val_Majorana_string(loop)\n",
    "    exp_value.append(n)\n",
    "    print(n)\n",
    "    fgs.update_cov_matrix(Rex)\n",
    "    fgs.update_cov_matrix(Rey)\n",
    "    fgs.update_cov_matrix(Rez)\n",
    "n = fgs.expectation_val_Majorana_string(loop)\n",
    "exp_value.append(n)\n",
    "print(n)"
   ]
  },
  {
   "cell_type": "code",
   "execution_count": 119,
   "id": "b4ac1203",
   "metadata": {},
   "outputs": [
    {
     "data": {
      "text/plain": [
       "Text(0.5, 1.0, 'Measurement of Loop operator O under Floquet drive')"
      ]
     },
     "execution_count": 119,
     "metadata": {},
     "output_type": "execute_result"
    },
    {
     "data": {
      "image/png": "[encoded data removed]",
      "text/plain": [
       "<Figure size 640x480 with 1 Axes>"
      ]
     },
     "metadata": {},
     "output_type": "display_data"
    }
   ],
   "source": [
    "plt.plot(range(N+1), exp_value, '.-', color='red')\n",
    "plt.xlabel('Floquet cycles')\n",
    "plt.ylabel(r'$\\eta$')\n",
    "plt.title(\"Measurement of Loop operator O under Floquet drive\")"
   ]
  },
  {
   "cell_type": "code",
   "execution_count": 549,
   "id": "97cff409",
   "metadata": {},
   "outputs": [
    {
     "name": "stdout",
     "output_type": "stream",
     "text": [
      "(1-0j)\n"
     ]
    }
   ],
   "source": [
    "R0x = expm(h0_x*t*4)\n",
    "R0y = expm(h0_y*t*4)\n",
    "R0z = expm(h0_z*t*4)\n",
    "fgs.update_cov_matrix(R0x)\n",
    "fgs.update_cov_matrix(R0y)\n",
    "fgs.update_cov_matrix(R0z)\n",
    "\n",
    "print(fgs.expectation_val_Majorana_string(loop))\n"
   ]
  },
  {
   "cell_type": "markdown",
   "id": "97b29ca3",
   "metadata": {},
   "source": [
    "We define $\\tilde{U}(T) = exp(2i \\frac{T}{3}H_{0x})exp(2i \\frac{T}{3}H_{0y})exp(2i \\frac{T}{3}H_{0z})$"
   ]
  },
  {
   "cell_type": "code",
   "execution_count": null,
   "id": "57253e69",
   "metadata": {},
   "outputs": [],
   "source": [
    "from scipy.linalg import expm\n",
    "\n",
    "T = 1.\n",
    "\n",
    "Utilde = expm(2*1j*T*H0_x/3.)*expm(2*1j*T*H0_y/3.)*expm(2*1j*T*H0_z/3.)"
   ]
  },
  {
   "cell_type": "code",
   "execution_count": null,
   "id": "a369e4f5",
   "metadata": {},
   "outputs": [],
   "source": [
    "eigvals, eigvecs = np.linalg.eig(Utilde)"
   ]
  },
  {
   "cell_type": "code",
   "execution_count": null,
   "id": "86342e41",
   "metadata": {},
   "outputs": [
    {
     "name": "stdout",
     "output_type": "stream",
     "text": [
      "[2.67315964+0.j 2.67315964+0.j 2.67315964+0.j 2.67315964+0.j\n",
      " 2.67315964+0.j 0.77747589+0.j 0.77747589+0.j 0.77747589+0.j\n",
      " 0.77747589+0.j 0.77747589+0.j 2.94948533+0.j 2.94948533+0.j\n",
      " 2.94948533+0.j 2.94948533+0.j 2.94948533+0.j 0.77747589+0.j\n",
      " 0.77747589+0.j 0.77747589+0.j 0.77747589+0.j 0.77747589+0.j\n",
      " 2.94948533+0.j 2.94948533+0.j 2.94948533+0.j 2.94948533+0.j\n",
      " 2.94948533+0.j 0.70463723+0.j 0.70463723+0.j 0.70463723+0.j\n",
      " 0.70463723+0.j 0.70463723+0.j 0.70463723+0.j 0.70463723+0.j\n",
      " 0.70463723+0.j 0.70463723+0.j 0.70463723+0.j 2.94948533+0.j\n",
      " 2.94948533+0.j 2.94948533+0.j 2.94948533+0.j 2.94948533+0.j\n",
      " 0.77747589+0.j 0.77747589+0.j 0.77747589+0.j 0.77747589+0.j\n",
      " 0.77747589+0.j 2.94948533+0.j 2.94948533+0.j 2.94948533+0.j\n",
      " 2.94948533+0.j 2.94948533+0.j 0.77747589+0.j 0.77747589+0.j\n",
      " 0.77747589+0.j 0.77747589+0.j 0.77747589+0.j 2.67315964+0.j\n",
      " 2.67315964+0.j 2.67315964+0.j 2.67315964+0.j 2.67315964+0.j]\n"
     ]
    }
   ],
   "source": [
    "print(eigvals)"
   ]
  }
 ],
 "metadata": {
  "kernelspec": {
   "display_name": "Computational",
   "language": "python",
   "name": "python3"
  },
  "language_info": {
   "codemirror_mode": {
    "name": "ipython",
    "version": 3
   },
   "file_extension": ".py",
   "mimetype": "text/x-python",
   "name": "python",
   "nbconvert_exporter": "python",
   "pygments_lexer": "ipython3",
   "version": "3.13.2"
  }
 },
 "nbformat": 4,
 "nbformat_minor": 5
}

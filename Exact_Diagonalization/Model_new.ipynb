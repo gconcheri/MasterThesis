{
 "cells": [
  {
   "cell_type": "markdown",
   "metadata": {},
   "source": [
    "# Preparation of Flux-Free Kitaev Honeycomb lattice state\n",
    "## In HONEYCOMB LATTICE SPACE\n",
    "2 honeycombs\n",
    "\n",
    "N = 14 spins\n",
    "\n",
    "Hamiltonian: $H = -J_x \\sum_{\\langle i,j \\rangle_x} \\sigma_i^x \\sigma_j^x\n",
    "    -J_y \\sum_{\\langle i,j \\rangle_y} \\sigma_i^y \\sigma_j^y\n",
    "    -J_z \\sum_{\\langle i,j \\rangle_z} \\sigma_i^z \\sigma_j^z$ "
   ]
  },
  {
   "cell_type": "markdown",
   "metadata": {},
   "source": [
    "Step 1: prepare product state $|00..>$ of N spins"
   ]
  },
  {
   "cell_type": "code",
   "execution_count": 134,
   "metadata": {},
   "outputs": [],
   "source": [
    "import numpy as np\n",
    "import scipy\n",
    "from scipy import sparse"
   ]
  },
  {
   "cell_type": "code",
   "execution_count": 135,
   "metadata": {},
   "outputs": [
    {
     "data": {
      "text/plain": [
       "<module 'exact_diagonalization' from '/Users/giovanniconcheri/Desktop/TESI/MasterThesis/Exact_Diagonalization/exact_diagonalization.py'>"
      ]
     },
     "execution_count": 135,
     "metadata": {},
     "output_type": "execute_result"
    }
   ],
   "source": [
    "import exact_diagonalization as ed\n",
    "import importlib\n",
    "importlib.reload(ed)"
   ]
  },
  {
   "cell_type": "markdown",
   "metadata": {},
   "source": [
    "We are doing this mapping: \n",
    "\n",
    "$\\ket{\\uparrow \\uparrow} = \\ket{00} , \\quad\\ket{\\downarrow \\downarrow} = \\ket{11} $\n",
    "\n",
    "HONEYCOMB SITES\n",
    "<div align=\"center\">\n",
    "    <img src=\"figures/Honeycomb_Mapping.jpeg\" alt=\"Honeycomb Mapping\" width=\"300\"/>\n",
    "</div>\n",
    "\n",
    "TORIC CODE SITES (used in the functions to identify representative qubits and so on)\n",
    "<div align=\"center\">\n",
    "    <img src=\"figures/Toric_Code_Sites.png\" alt=\"Honeycomb Mapping\" width=\"300\"/>\n",
    "</div>\n"
   ]
  },
  {
   "cell_type": "code",
   "execution_count": 136,
   "metadata": {},
   "outputs": [
    {
     "name": "stdout",
     "output_type": "stream",
     "text": [
      "(16384,)\n"
     ]
    }
   ],
   "source": [
    "n_spins = 14\n",
    "e1 = np.array([1,0])\n",
    "psi = e1\n",
    "for _ in range(n_spins-1):\n",
    "    psi = np.kron(psi,e1)\n",
    "\n",
    "print(psi.shape)\n",
    "\n",
    "\n",
    "assert psi.shape[0]== 2**14"
   ]
  },
  {
   "cell_type": "code",
   "execution_count": 137,
   "metadata": {},
   "outputs": [
    {
     "name": "stdout",
     "output_type": "stream",
     "text": [
      "[1 0 0 ... 0 0 0]\n"
     ]
    }
   ],
   "source": [
    "print(psi)"
   ]
  },
  {
   "cell_type": "markdown",
   "metadata": {},
   "source": [
    "Identify a representative qubit in each plaquette: we identify qubit 0 and 4 (in the toric code space, i.e. toric spin 0 -> honeycomb spin (0,1) and so on) -> look notes  \n",
    "\n",
    "We create operator that applies hadamard only on these two representative qubits"
   ]
  },
  {
   "cell_type": "code",
   "execution_count": 138,
   "metadata": {},
   "outputs": [],
   "source": [
    "#representative qubits\n",
    "qubit1 = 0\n",
    "qubit2 = 4"
   ]
  },
  {
   "cell_type": "code",
   "execution_count": 139,
   "metadata": {},
   "outputs": [
    {
     "name": "stdout",
     "output_type": "stream",
     "text": [
      "(16384, 16384)\n",
      "(16384,)\n",
      "Positions of non-zero values: [    0    48 12288 12336]\n",
      "Non-zero values of psi1: [0.5 0.5 0.5 0.5]\n"
     ]
    }
   ],
   "source": [
    "n_eff_spins = int(n_spins/2)\n",
    "H = ed.Hadamard(qubit1,qubit2,n_eff_spins)\n",
    "print(H.shape)\n",
    "psi1 = H @ psi.copy()\n",
    "\n",
    "print(psi1.shape)\n",
    "\n",
    "# Print non-zero values and their positions\n",
    "non_zero_indices = np.nonzero(psi1)[0]  # Get the indices of non-zero values\n",
    "non_zero_values = psi1[non_zero_indices]  # Get the non-zero values\n",
    "\n",
    "print(\"Positions of non-zero values:\", non_zero_indices)\n",
    "print(\"Non-zero values of psi1:\", non_zero_values)"
   ]
  },
  {
   "cell_type": "markdown",
   "metadata": {},
   "source": [
    "Create op. that applies CNOT on each plaquette with representative qubits as control qubits and all other qubits of plaquette as target ones"
   ]
  },
  {
   "cell_type": "code",
   "execution_count": 140,
   "metadata": {},
   "outputs": [
    {
     "name": "stdout",
     "output_type": "stream",
     "text": [
      "[0.5 0.  0.  ... 0.  0.  0. ]\n",
      "Positions of non-zero values: [    0   255 16191 16320]\n",
      "Non-zero values of psi2: [0.5 0.5 0.5 0.5]\n"
     ]
    }
   ],
   "source": [
    "CNOT_op = ed.CNOT(qubit1, qubit2, n_eff_spins, 4)\n",
    "#print(CNOT_op.toarray())\n",
    "psi2 =  CNOT_op @ psi1.copy()\n",
    "#print(psi1.shape)\n",
    "#print(CNOT_op.shape)\n",
    "#print(psi2.shape)\n",
    "print(psi2)\n",
    "\n",
    "# Print non-zero values and their positions\n",
    "non_zero_indices = np.nonzero(psi2)[0]  # Get the indices of non-zero values\n",
    "non_zero_values = psi2[non_zero_indices]  # Get the non-zero values\n",
    "\n",
    "print(\"Positions of non-zero values:\", non_zero_indices)\n",
    "print(\"Non-zero values of psi2:\", non_zero_values)"
   ]
  },
  {
   "cell_type": "markdown",
   "metadata": {},
   "source": [
    "Next step: apply $U_a$ to horizontal sites: effective qubit = 0,2,4,5, $U_b$ to vertical ones: effective qubit =1,3,6  $U = \\prod_{vert} U_a \\prod_{hor} U_b$"
   ]
  },
  {
   "cell_type": "code",
   "execution_count": 141,
   "metadata": {},
   "outputs": [
    {
     "name": "stdout",
     "output_type": "stream",
     "text": [
      "(16384,)\n",
      "[0.08838835+0.08838835j 0.        +0.j         0.        +0.j         ...\n",
      " 0.        +0.j         0.        +0.j         0.        +0.j        ]\n"
     ]
    }
   ],
   "source": [
    "psi_fluxfree = ed.U_a_full(n_eff_spins) @ ed.U_b_full(n_eff_spins) @ psi2.copy()\n",
    "print(psi_fluxfree.shape)\n",
    "print(psi_fluxfree)\n",
    "#psi_fluxfree is flux free state with ZZ bond coupling"
   ]
  },
  {
   "cell_type": "code",
   "execution_count": 142,
   "metadata": {},
   "outputs": [],
   "source": [
    "# Id = sparse.csr_array(np.eye(4))\n",
    "\n",
    "# X = np.zeros((4,4))\n",
    "# X[0,3] = 1.\n",
    "# X[3,0] = 1.\n",
    "# X = sparse.csr_array(X)\n",
    "\n",
    "# Z = np.zeros((4,4))\n",
    "# Z[0,0] = 1.\n",
    "# Z[3,3] = -1.\n",
    "# Z = sparse.csr_array(Z)\n",
    "\n",
    "# Y = np.zeros((4,4))\n",
    "# Y[0,1] = -1.j\n",
    "# Y[1,0] = 1.j\n",
    "# Y[2,3] = -1.j\n",
    "# Y[3,2] = 1.j\n",
    "# Y = sparse.csr_array(Y)"
   ]
  },
  {
   "cell_type": "code",
   "execution_count": 143,
   "metadata": {},
   "outputs": [],
   "source": [
    "X = sparse.csr_array([[0.,1.],[1.,0.]])\n",
    "Y = sparse.csr_array([[0.,-1.j],[1.j,0.]])\n",
    "Z = sparse.csr_array([[1.,0.],[0.,-1.]])\n",
    "I = sparse.csr_array(np.eye(2))"
   ]
  },
  {
   "cell_type": "markdown",
   "metadata": {},
   "source": [
    "Now we create plaquette term!"
   ]
  },
  {
   "cell_type": "code",
   "execution_count": 144,
   "metadata": {},
   "outputs": [
    {
     "name": "stdout",
     "output_type": "stream",
     "text": [
      "First plaquette term: (0.9999999999999991-7.745036314193294e-20j)\n"
     ]
    }
   ],
   "source": [
    "Op_list = [X, Y, Z, X, Y, Z]\n",
    "index_list = [3, 2, 1, 6, 7, 4]\n",
    "\n",
    "W_tilde_1 = ed.Op_string(Op_list, index_list, I, n_spins)\n",
    "\n",
    "# Compute the expectation value\n",
    "expectation_value = psi_fluxfree.conj() @ W_tilde_1 @ psi_fluxfree\n",
    "\n",
    "# Print the result\n",
    "print(\"First plaquette term:\", expectation_value)"
   ]
  },
  {
   "cell_type": "code",
   "execution_count": 145,
   "metadata": {},
   "outputs": [
    {
     "name": "stdout",
     "output_type": "stream",
     "text": [
      "Second plaquette term: (0.9999999999999991-4.265443305812136e-18j)\n"
     ]
    }
   ],
   "source": [
    "Op_list = [X, Y, Z, X, Y, Z]\n",
    "index_list = [7, 6, 9, 12, 13, 10]\n",
    "\n",
    "W_tilde_2 = ed.Op_string(Op_list, index_list, I, n_spins)\n",
    "\n",
    "# Compute the expectation value\n",
    "expectation_value = psi_fluxfree.conj() @ W_tilde_2 @ psi_fluxfree\n",
    "\n",
    "# Print the result\n",
    "print(\"Second plaquette term:\", expectation_value)"
   ]
  },
  {
   "cell_type": "markdown",
   "metadata": {},
   "source": [
    "We finally get the plaquette terms to be +1! So now we can apply a floquet drive to the flux free state. Note that the plaquette term commutes with the floquet time evolution, which means that it is a conserved quantity!"
   ]
  },
  {
   "cell_type": "markdown",
   "metadata": {},
   "source": [
    "Before time evolving, let's do one last check. We check that the initial flux free state is an eigenstate of the ZZ terms on the vertical bonds. This means that the fermions are aligned on the vertical bonds, with one Majorana per site."
   ]
  },
  {
   "cell_type": "code",
   "execution_count": 146,
   "metadata": {},
   "outputs": [
    {
     "name": "stdout",
     "output_type": "stream",
     "text": [
      "ZZ1Value: (0.9999999999999991+2.2018113140169403e-19j)\n",
      "ZZ2Value: (0.9999999999999991+2.2018113140169403e-19j)\n",
      "ZZ3Value: (0.9999999999999991+2.2018113140169403e-19j)\n",
      "ZZother1Value: (0.9999999999999991+2.2018113140169403e-19j)\n",
      "ZZother2Value: (0.9999999999999991+2.2018113140169403e-19j)\n"
     ]
    }
   ],
   "source": [
    "ZZ_1 = ed.Op_full(Z, I, [2,3], n_spins)\n",
    "ZZ_2 = ed.Op_full(Z, I, [6,7], n_spins)\n",
    "ZZ_3 = ed.Op_full(Z, I, [12,13], n_spins)\n",
    "ZZ_other1 = ed.Op_full(Z, I, [0,1], n_spins)\n",
    "ZZ_other2 = ed.Op_full(Z, I, [4,5], n_spins)\n",
    "\n",
    "ZZ1Value = psi_fluxfree.conj() @ ZZ_1 @ psi_fluxfree\n",
    "ZZ2Value = psi_fluxfree.conj() @ ZZ_2 @ psi_fluxfree\n",
    "ZZ3Value = psi_fluxfree.conj() @ ZZ_3 @ psi_fluxfree\n",
    "ZZother1Value = psi_fluxfree.conj() @ ZZ_other1 @ psi_fluxfree\n",
    "ZZother2Value = psi_fluxfree.conj() @ ZZ_other2 @ psi_fluxfree\n",
    "\n",
    "print(\"ZZ1Value:\", ZZ1Value)\n",
    "print(\"ZZ2Value:\", ZZ2Value)\n",
    "print(\"ZZ3Value:\", ZZ3Value)\n",
    "print(\"ZZother1Value:\", ZZother1Value)\n",
    "print(\"ZZother2Value:\", ZZother2Value)"
   ]
  },
  {
   "cell_type": "markdown",
   "metadata": {},
   "source": [
    "### Floquet drive\n",
    "\n",
    "Ops $e^{i \\frac{\\pi}{4} \\alpha \\alpha} $ with $\\alpha = X, Y, Z$"
   ]
  },
  {
   "cell_type": "code",
   "execution_count": 147,
   "metadata": {},
   "outputs": [],
   "source": [
    "from scipy.sparse.linalg import expm_multiply, expm\n"
   ]
  },
  {
   "cell_type": "code",
   "execution_count": 148,
   "metadata": {},
   "outputs": [
    {
     "name": "stdout",
     "output_type": "stream",
     "text": [
      "i,j,z 1 1 1\n",
      "(16384,)\n"
     ]
    }
   ],
   "source": [
    "psi_t, _ = ed.floquet_evolution(psi_fluxfree, 1, n_spins, ZZ = ZZ_2)\n",
    "print(psi_t.shape)\n",
    "#print(psi_t)"
   ]
  },
  {
   "cell_type": "markdown",
   "metadata": {},
   "source": [
    "Let us now recheck the plaquette terms! (they should still be +1)"
   ]
  },
  {
   "cell_type": "code",
   "execution_count": 149,
   "metadata": {},
   "outputs": [
    {
     "name": "stdout",
     "output_type": "stream",
     "text": [
      "First plaquette term: (0.9999999999999999+1.2037062152420224e-34j)\n",
      "Second plaquette term: (0.9999999999999999-1.4444474582904269e-34j)\n"
     ]
    }
   ],
   "source": [
    "# Compute the complex conjugate transpose of psi_fluxfree\n",
    "psi_t_dagger = psi_t.conj()\n",
    "\n",
    "# Compute the expectation value 1\n",
    "expectation_value1 = psi_t_dagger @ W_tilde_1 @ psi_t\n",
    "\n",
    "# Print the result\n",
    "print(\"First plaquette term:\", expectation_value1)\n",
    "\n",
    "\n",
    "# Compute the expectation value 2\n",
    "expectation_value2 = psi_t_dagger @ W_tilde_2 @ psi_t\n",
    "\n",
    "# Print the result\n",
    "print(\"Second plaquette term:\", expectation_value2)"
   ]
  },
  {
   "cell_type": "markdown",
   "metadata": {},
   "source": [
    "Now let us check how the fermion on the central vertical bond changes over floquet drive, i.e. let us calculate the expectation value ZZ on the central vertical bond (spins 6,7) and see how it changes. we expect it to oscillate between +1 and 0 per floquet cycle \n",
    "\n",
    "$\\textbf{Why?}$"
   ]
  },
  {
   "cell_type": "code",
   "execution_count": 150,
   "metadata": {},
   "outputs": [
    {
     "name": "stdout",
     "output_type": "stream",
     "text": [
      "i,j,z 1 1 1\n",
      "i,j,z 1 1 1\n",
      "i,j,z 1 1 1\n",
      "i,j,z 1 1 1\n",
      "i,j,z 1 1 1\n",
      "[np.complex128(0.9999999999999991+2.2018113140169403e-19j), np.complex128(6.071532165918825e-18-1.5377782402304176e-36j), np.complex128(0.9999999999999998+1.1131085005440987e-52j), np.complex128(-2.0816681711721685e-17+5.132699599308394e-35j), np.complex128(1.0000000000000002-1.3153578005405241e-20j), np.complex128(-1.457167719820518e-16+1.385733376431204e-34j)]\n"
     ]
    }
   ],
   "source": [
    "n_cycles = 5\n",
    "\n",
    "psinew, list_zz = ed.floquet_evolution(psi_fluxfree, n_cycles, n_spins, ZZ = ZZ_2)\n",
    "\n",
    "print(list_zz)"
   ]
  },
  {
   "cell_type": "markdown",
   "metadata": {},
   "source": [
    "Now we go back to psi_fluxfree, which is a flux free state with fermions paired vertically, and we want to rearrange them such that they are paired diagonally (fig. 4b thesis paper https://arxiv.org/pdf/2501.18461). We do so by applying the YY evolution to the sites on the low part of the hexagon connected by the y-y bonds, and then the XX evolution to the \"low\" sites connected by XX bonds, as shown in figure\n",
    "\n",
    " ![Image](figures/M-Swap_gates.png)\n",
    "\n",
    "$\\textbf{Why can't we drive the YY-XX also in the upper part of the honeycomb}$?\n",
    "\n",
    "We don't apply the evolutions to also the upper sites otherwise instead of having diagonal fermions weird things happen, you can convince yourself by doing the diagrams by hand on paper"
   ]
  },
  {
   "cell_type": "code",
   "execution_count": 151,
   "metadata": {},
   "outputs": [
    {
     "name": "stdout",
     "output_type": "stream",
     "text": [
      "i,j,z 0 1 0\n",
      "i,j,z 1 0 0\n"
     ]
    }
   ],
   "source": [
    "psi_diagonal1 = ed.floquet_unitary(psi_fluxfree, n_spins, applyX = False, applyY = True, applyZ = False, Yindexlist = [[3,4],[7,10]])\n",
    "psi_diagonal2 = psi_diagonal1.copy()\n",
    "psi_diagonal2 = ed.floquet_unitary(psi_diagonal2, n_spins, applyX = True, applyY = False, applyZ = False, Xindexlist = [[4,7],[10,13]])\n",
    "psi_diagonal = psi_diagonal2.copy()"
   ]
  },
  {
   "cell_type": "markdown",
   "metadata": {},
   "source": [
    "Now let us check if this state is eigenstate with eigval = +1 of the ZXZX string acting on the sites [2,3,4,7]"
   ]
  },
  {
   "cell_type": "code",
   "execution_count": 69,
   "metadata": {},
   "outputs": [
    {
     "name": "stdout",
     "output_type": "stream",
     "text": [
      "ZXZX Value: (0.9999999999999999-1.7132356737011346e-19j)\n"
     ]
    }
   ],
   "source": [
    "ZXZX = ed.Op_string([Z, X, Z, X], [2, 3, 4, 7], I, n_spins)\n",
    "\n",
    "# Compute the complex conjugate transpose of psi_diagonal\n",
    "psi_diagonal_dagger = psi_diagonal.conj()\n",
    "\n",
    "ZXZX_Value = psi_diagonal_dagger @ ZXZX @ psi_diagonal\n",
    "\n",
    "print(\"ZXZX Value:\", ZXZX_Value)\n"
   ]
  },
  {
   "cell_type": "markdown",
   "metadata": {},
   "source": [
    "### e-m anyons\n",
    "\n",
    "Now we want to create an m anyon at the center of the first plaquette. To do so we start from state psi_diagonal, and we apply a Z operator to the first plaquette -> new state has plaquette term Wp = -1 and a diagonal unoccupied fermion, i.e. m anyon!"
   ]
  },
  {
   "cell_type": "code",
   "execution_count": 70,
   "metadata": {},
   "outputs": [
    {
     "name": "stdout",
     "output_type": "stream",
     "text": [
      "ZXZX Value: (0.9999999999999999-1.7132356737011346e-19j)\n",
      "First plaquette term: (-0.9999999999999998-3.204200040492813e-19j)\n"
     ]
    }
   ],
   "source": [
    "psi_m = ed.Op_full(Z, I, 2, n_spins) @ psi_diagonal.copy()\n",
    "\n",
    "#let us check if we actually have e anyon:\n",
    "\n",
    "#check fermion occupation number\n",
    "ZXZX_Value = psi_m.conj() @ ZXZX @ psi_m\n",
    "print(\"ZXZX Value:\", ZXZX_Value) #should be +1 (fermionic parity)\n",
    "\n",
    "#check plaquette term:\n",
    "W1_value = psi_m.conj() @ W_tilde_1 @ psi_m\n",
    "print(\"First plaquette term:\", W1_value) #should be -1\n",
    "\n"
   ]
  },
  {
   "cell_type": "markdown",
   "metadata": {},
   "source": [
    "Given m anyon, now we apply floquet drive to transmute into e anyon!"
   ]
  },
  {
   "cell_type": "code",
   "execution_count": 71,
   "metadata": {},
   "outputs": [
    {
     "name": "stdout",
     "output_type": "stream",
     "text": [
      "i,j,z 1 1 1\n",
      "ZXZX Value: (-0.9999999999999993+7.703719777548943e-33j)\n",
      "First plaquette term: (-0.9999999999999996+3.851859888774472e-34j)\n"
     ]
    }
   ],
   "source": [
    "psi_e = ed.floquet_unitary(psi_m, n_spins, applyX = True, applyY = True, applyZ = True)\n",
    "\n",
    "#let us check if we actually have e anyon:\n",
    "\n",
    "#check fermionic parity\n",
    "ZXZX_Value = psi_e.conj() @ ZXZX @ psi_e\n",
    "print(\"ZXZX Value:\", ZXZX_Value) #should be -1\n",
    "\n",
    "#check plaquette term:\n",
    "W1_value = psi_e.conj() @ W_tilde_1 @ psi_e\n",
    "print(\"First plaquette term:\", W1_value) #should be -1"
   ]
  },
  {
   "cell_type": "markdown",
   "metadata": {},
   "source": [
    "As a last check, let us measure  an electric loop around the plaquette. It should correspond to +1 for an e anyon, and to -1 for an m anyon. Therefore, driving the system with Floquet drive, it should oscillate between +-1"
   ]
  },
  {
   "cell_type": "code",
   "execution_count": 72,
   "metadata": {},
   "outputs": [
    {
     "name": "stdout",
     "output_type": "stream",
     "text": [
      "e anyon: e loop term: (0.9999999999999993-6.162975822039155e-33j)\n",
      "m anyon: e loop term: (-0.9999999999999999+6.143054205688061e-19j)\n"
     ]
    }
   ],
   "source": [
    "Op_list = [Z, X, Z, X]\n",
    "index_list = [1, 2, 7, 6]\n",
    "\n",
    "e_loop = ed.Op_string(Op_list, index_list, I, n_spins)\n",
    "\n",
    "# Compute the expectation value\n",
    "expectation_value_e = psi_e.conj() @ e_loop @ psi_e\n",
    "# Print the result\n",
    "print(\"e anyon: e loop term:\", expectation_value_e) #should be +1\n",
    "\n",
    "# Compute the expectation value\n",
    "expectation_value_m = psi_m.conj() @ e_loop @ psi_m\n",
    "# Print the result\n",
    "print(\"m anyon: e loop term:\", expectation_value_m) #should be -1\n",
    "\n",
    "#for now it does the opposite of what it should do :)\n"
   ]
  }
 ],
 "metadata": {
  "kernelspec": {
   "display_name": "Computational",
   "language": "python",
   "name": "python3"
  },
  "language_info": {
   "codemirror_mode": {
    "name": "ipython",
    "version": 3
   },
   "file_extension": ".py",
   "mimetype": "text/x-python",
   "name": "python",
   "nbconvert_exporter": "python",
   "pygments_lexer": "ipython3",
   "version": "3.13.2"
  }
 },
 "nbformat": 4,
 "nbformat_minor": 2
}

{
 "cells": [
  {
   "cell_type": "markdown",
   "metadata": {},
   "source": [
    "# Preparation of Flux-Free Kitaev Honeycomb lattice state\n",
    "## In TORIC CODE SPACE\n",
    "\n",
    "2 honeycombs\n",
    "\n",
    "N = 14 spins\n",
    "\n",
    "Hamiltonian: $H = -J_x \\sum_{\\langle i,j \\rangle_x} \\sigma_i^x \\sigma_j^x\n",
    "    -J_y \\sum_{\\langle i,j \\rangle_y} \\sigma_i^y \\sigma_j^y\n",
    "    -J_z \\sum_{\\langle i,j \\rangle_z} \\sigma_i^z \\sigma_j^z$ "
   ]
  },
  {
   "cell_type": "markdown",
   "metadata": {},
   "source": [
    "Step 1: prepare product state $|00..>$ of n = N/2 spins"
   ]
  },
  {
   "cell_type": "code",
   "execution_count": 19,
   "metadata": {},
   "outputs": [],
   "source": [
    "import numpy as np\n",
    "import scipy\n",
    "from scipy import sparse\n",
    "import importlib"
   ]
  },
  {
   "cell_type": "markdown",
   "metadata": {},
   "source": [
    "We are doing this mapping: \n",
    "\n",
    "$\\ket{\\uparrow \\uparrow} = \\ket{0} , \\quad\\ket{\\downarrow \\downarrow} = \\ket{1} $\n",
    "\n",
    "\n",
    "![Graphene]()\n",
    "\n"
   ]
  },
  {
   "cell_type": "code",
   "execution_count": 2,
   "metadata": {},
   "outputs": [
    {
     "name": "stdout",
     "output_type": "stream",
     "text": [
      "(128, 1)\n"
     ]
    }
   ],
   "source": [
    "n_spins = 7\n",
    "e1 = sparse.csr_array([[1],[0]])\n",
    "psi = e1\n",
    "for _ in range(n_spins-1):\n",
    "    psi = sparse.kron(psi,e1, format='csr')\n",
    "\n",
    "print(psi.shape)\n",
    "\n",
    "\n",
    "assert psi.shape[0]== 2**7"
   ]
  },
  {
   "cell_type": "code",
   "execution_count": 17,
   "metadata": {},
   "outputs": [
    {
     "name": "stdout",
     "output_type": "stream",
     "text": [
      "  (0, 0)\t1\n"
     ]
    }
   ],
   "source": [
    "print(psi)"
   ]
  },
  {
   "cell_type": "code",
   "execution_count": 3,
   "metadata": {},
   "outputs": [
    {
     "name": "stdout",
     "output_type": "stream",
     "text": [
      "128\n"
     ]
    }
   ],
   "source": [
    "print(2**7) "
   ]
  },
  {
   "cell_type": "markdown",
   "metadata": {},
   "source": [
    "Identify a representative qubit in each plaquette: we identify qubit 0 and 6\n",
    "\n",
    "We create operator that applies hadamard only on these two representative qubits"
   ]
  },
  {
   "cell_type": "code",
   "execution_count": 4,
   "metadata": {},
   "outputs": [],
   "source": [
    "def Hadamard(qubit1, qubit2, n):\n",
    "    assert qubit1 < qubit2\n",
    "    Id = sparse.csr_array(np.eye(2))\n",
    "    H_small = sparse.csr_array([[1./np.sqrt(2),1./np.sqrt(2)], [1./np.sqrt(2),-1./np.sqrt(2)]])\n",
    "    op_list = [Id]*n\n",
    "    op_list[qubit1] = H_small\n",
    "    op_list[qubit2] = H_small\n",
    "    \n",
    "    H = op_list[0]\n",
    "\n",
    "    for op in op_list[1:]:\n",
    "        H = sparse.kron(H,op, format='csr')\n",
    "    return H\n",
    "    "
   ]
  },
  {
   "cell_type": "markdown",
   "metadata": {},
   "source": [
    "TEST: given qubit1 = 0, qubit2 = 1, and n = 3: $ \\quad H \\ket{000} = \\ket{++0}$, which should be a sparse matrix with $1/\\sqrt(2)$ at position (0,4,2,6)   "
   ]
  },
  {
   "cell_type": "code",
   "execution_count": 5,
   "metadata": {},
   "outputs": [
    {
     "name": "stdout",
     "output_type": "stream",
     "text": [
      "  (0, 6)\t0.4999999999999999\n",
      "  (0, 4)\t0.4999999999999999\n",
      "  (0, 2)\t0.4999999999999999\n",
      "  (0, 0)\t0.4999999999999999\n"
     ]
    }
   ],
   "source": [
    "psitest = e1\n",
    "for _ in range(2):\n",
    "    psitest = sparse.kron(psitest,e1, format='csr')\n",
    "\n",
    "Htest = Hadamard(0,1,3)\n",
    "psitestnew = Htest*psitest\n",
    "\n",
    "print(psitestnew)"
   ]
  },
  {
   "cell_type": "code",
   "execution_count": null,
   "metadata": {},
   "outputs": [
    {
     "name": "stdout",
     "output_type": "stream",
     "text": [
      "(128, 128)\n",
      "(128, 1)\n",
      "  (0, 0)\t0.4999999999999999\n",
      "  (4, 0)\t0.4999999999999999\n",
      "  (64, 0)\t0.4999999999999999\n",
      "  (68, 0)\t0.4999999999999999\n"
     ]
    }
   ],
   "source": [
    "qubit1 = 0\n",
    "qubit2 = 4\n",
    "H = Hadamard(qubit1,qubit2,n_spins)\n",
    "print(H.shape)\n",
    "psi1 = H @ psi.copy()\n",
    "\n",
    "print(psi1.shape)\n",
    "print(psi1)"
   ]
  },
  {
   "cell_type": "code",
   "execution_count": 21,
   "metadata": {},
   "outputs": [
    {
     "data": {
      "text/plain": [
       "<module 'function' from '/home/t30/pol/go56vod/Desktop/MasterThesis/function.py'>"
      ]
     },
     "execution_count": 21,
     "metadata": {},
     "output_type": "execute_result"
    }
   ],
   "source": [
    "import function as func\n",
    "importlib.reload(func)"
   ]
  },
  {
   "cell_type": "code",
   "execution_count": 22,
   "metadata": {},
   "outputs": [
    {
     "name": "stdout",
     "output_type": "stream",
     "text": [
      "[ 0  4 64 68]\n",
      "[0.5 0.5 0.5 0.5]\n",
      "Original Sparse Array:\n",
      "  (0, 0)\t0.4999999999999999\n",
      "  (4, 0)\t0.4999999999999999\n",
      "  (64, 0)\t0.4999999999999999\n",
      "  (68, 0)\t0.4999999999999999\n",
      "\n",
      "New Sparse Array:\n",
      "  (0, 0)\t0.4999999999999999\n",
      "  (48, 0)\t0.4999999999999999\n",
      "  (12288, 0)\t0.4999999999999999\n",
      "  (12336, 0)\t0.4999999999999999\n"
     ]
    }
   ],
   "source": [
    "psi1_new = func.mapping(psi1, n_spins)"
   ]
  },
  {
   "cell_type": "markdown",
   "metadata": {},
   "source": [
    "Create op. that applies CNOT on each plaquette with representative qubits as control qubits and all other qubits of plaquette as target ones"
   ]
  },
  {
   "cell_type": "code",
   "execution_count": 23,
   "metadata": {},
   "outputs": [],
   "source": [
    "def CNOT(qubit1, qubit2, n, l): #l = spins per plaquette, n = tot spins\n",
    "    assert qubit1 < 3\n",
    "    assert 3 < qubit2\n",
    "    # Id = sparse.csr_array(np.eye(2))\n",
    "    # X = sparse.csr_array([[0.,1.],[1.,0.]])\n",
    "    # Proj_0 = sparse.csr_array([[1.,0.],[0.,0.]]) #|0><0|\n",
    "    # Proj_1 = sparse.csr_array([[0.,0.],[0.,1.]]) #|1><1|\n",
    "    \n",
    "    newId = sparse.csr_array(np.eye(2**(n-l)))\n",
    "    CNOT_p1 = sparse.kron(plaquetteCNOT(qubit1,l),newId,'csr')\n",
    "    CNOT_p2 = sparse.kron(newId,plaquetteCNOT(qubit2-l+1,l), 'csr') #we map qubit 3 -> 0, 4->1, 5->2, 6->3\n",
    "    # even if geometry is not conserved, it still works because CNOT applied on this \n",
    "    #sequence of hilbert spaces in this order does not depend on geometry!\n",
    "    # print(CNOT_p2 @ CNOT_p1)\n",
    "    # print(CNOT_p1 @ CNOT_p2)\n",
    "    assert np.array_equal((CNOT_p2 @ CNOT_p1).toarray(), (CNOT_p1 @ CNOT_p2).toarray()), \"Sparse arrays are not equal\"\n",
    "    return CNOT_p2 @ CNOT_p1\n",
    "\n",
    "def plaquetteCNOT(qubit, l):\n",
    "    Id = sparse.csr_array(np.eye(2))\n",
    "    X = sparse.csr_array([[0.,1.],[1.,0.]])\n",
    "    Proj_0 = sparse.csr_array([[1.,0.],[0.,0.]]) #|0><0|\n",
    "    Proj_1 = sparse.csr_array([[0.,0.],[0.,1.]]) #|1><1|\n",
    "\n",
    "    op_list_id = [Id]*l\n",
    "    op_list_id[qubit] = Proj_0\n",
    "\n",
    "    op_list_x = [X]*l\n",
    "    op_list_x[qubit] = Proj_1\n",
    "\n",
    "    CNOT1 = op_list_id[0]\n",
    "    CNOT2 = op_list_x[0]\n",
    "\n",
    "    for op1, op2 in zip(op_list_id[1:],op_list_x[1:]):\n",
    "        CNOT1 = sparse.kron(CNOT1, op1, 'csr')\n",
    "        CNOT2 = sparse.kron(CNOT2, op2, 'csr')\n",
    "    return CNOT1 + CNOT2"
   ]
  },
  {
   "cell_type": "code",
   "execution_count": 24,
   "metadata": {},
   "outputs": [
    {
     "name": "stdout",
     "output_type": "stream",
     "text": [
      "[1. 0. 0. 1.]\n"
     ]
    }
   ],
   "source": [
    "#TEST FOR plaquetteCNOT: it works\n",
    "CNOT_test = plaquetteCNOT(0,2)\n",
    "print(CNOT_test*([1,0,1,0]))"
   ]
  },
  {
   "cell_type": "code",
   "execution_count": 25,
   "metadata": {},
   "outputs": [
    {
     "name": "stdout",
     "output_type": "stream",
     "text": [
      "[0.5 0.  0.  0.  0.  0.  0.  0.  0.  0.  0.  0.  0.  0.  0.  0.5 0.  0.\n",
      " 0.  0.  0.  0.  0.  0.  0.  0.  0.  0.  0.  0.  0.  0.  0.  0.  0.  0.\n",
      " 0.  0.  0.  0.  0.  0.  0.  0.  0.  0.  0.  0.  0.  0.  0.  0.  0.  0.\n",
      " 0.  0.  0.  0.  0.  0.  0.  0.  0.  0.  0.  0.  0.  0.  0.  0.  0.  0.\n",
      " 0.  0.  0.  0.  0.  0.  0.  0.  0.  0.  0.  0.  0.  0.  0.  0.  0.  0.\n",
      " 0.  0.  0.  0.  0.  0.  0.  0.  0.  0.  0.  0.  0.  0.  0.  0.  0.  0.\n",
      " 0.  0.  0.  0.  0.  0.  0.  0.  0.  0.  0.  0.5 0.5 0.  0.  0.  0.  0.\n",
      " 0.  0. ]\n"
     ]
    }
   ],
   "source": [
    "CNOT_op = CNOT(qubit1, qubit2, n_spins, 4)\n",
    "#print(CNOT_op.toarray())\n",
    "psi2 =  CNOT_op @ psi1.copy()\n",
    "#print(psi1.shape)\n",
    "#print(CNOT_op.shape)\n",
    "#print(psi2.shape)\n",
    "print(psi2.toarray().flatten())"
   ]
  },
  {
   "cell_type": "markdown",
   "metadata": {},
   "source": [
    "Now we want to convert this state from toric code space to Honeycomb space! Mapping written on ipad"
   ]
  },
  {
   "cell_type": "code",
   "execution_count": 26,
   "metadata": {},
   "outputs": [
    {
     "name": "stdout",
     "output_type": "stream",
     "text": [
      "[  0  15 119 120]\n",
      "[0.5 0.5 0.5 0.5]\n",
      "Original Sparse Array:\n",
      "  (0, 0)\t0.4999999999999999\n",
      "  (15, 0)\t0.4999999999999999\n",
      "  (119, 0)\t0.4999999999999999\n",
      "  (120, 0)\t0.4999999999999999\n",
      "\n",
      "New Sparse Array:\n",
      "  (0, 0)\t0.4999999999999999\n",
      "  (255, 0)\t0.4999999999999999\n",
      "  (16191, 0)\t0.4999999999999999\n",
      "  (16320, 0)\t0.4999999999999999\n"
     ]
    }
   ],
   "source": [
    "psi2_new = func.mapping(psi2, n_spins)"
   ]
  },
  {
   "cell_type": "markdown",
   "metadata": {},
   "source": [
    "Next step: apply $U_a$ to horizontal sites: qubit = 1,3,6, $U_b$ to vertical ones: qubit = 0,2,4,5 $U = \\prod_{hor} U_a \\prod_{vert} U_b$"
   ]
  },
  {
   "cell_type": "code",
   "execution_count": 27,
   "metadata": {},
   "outputs": [],
   "source": [
    "def U_a_full(n):\n",
    "    U_a = sparse.csr_array([[(1.+1.j)/2.,(1.+1.j)/2.],[(-1.+1.j)/2.,(1.-1.j)/2.]])\n",
    "    Id = sparse.csr_array(np.eye(2))\n",
    "    op_list = [Id]*n\n",
    "    op_list[1] = U_a\n",
    "    op_list[3] = U_a\n",
    "    op_list[6] = U_a\n",
    "\n",
    "    U = op_list[0]\n",
    "\n",
    "    for op in op_list[1:]:\n",
    "        U = sparse.kron(U,op, format='csr')\n",
    "    return U\n",
    "\n",
    "def U_b_full(n):\n",
    "    U_b = sparse.csr_array([[1./np.sqrt(2)*(1.-1.j),0.],[0.,1./np.sqrt(2)*(1.+1.j)]])\n",
    "    Id = sparse.csr_array(np.eye(2))\n",
    "    op_list = [U_b]*n\n",
    "    op_list[1] = Id\n",
    "    op_list[3] = Id\n",
    "    op_list[6] = Id\n",
    "\n",
    "    U = op_list[0]\n",
    "\n",
    "    for op in op_list[1:]:\n",
    "        U = sparse.kron(U,op, format='csr')\n",
    "    return U\n"
   ]
  },
  {
   "cell_type": "code",
   "execution_count": 28,
   "metadata": {},
   "outputs": [
    {
     "name": "stdout",
     "output_type": "stream",
     "text": [
      "(128, 1)\n",
      "[ 0.125-0.125j  0.125+0.125j  0.   +0.j     0.   +0.j     0.   +0.j\n",
      "  0.   +0.j    -0.125+0.125j  0.125+0.125j  0.125+0.125j -0.125+0.125j\n",
      "  0.   +0.j     0.   +0.j     0.   +0.j     0.   +0.j     0.125+0.125j\n",
      "  0.125-0.125j  0.   +0.j     0.   +0.j     0.   +0.j     0.   +0.j\n",
      "  0.   +0.j     0.   +0.j     0.   +0.j     0.   +0.j     0.   +0.j\n",
      "  0.   +0.j     0.   +0.j     0.   +0.j     0.   +0.j     0.   +0.j\n",
      "  0.   +0.j     0.   +0.j     0.125+0.125j -0.125+0.125j  0.   +0.j\n",
      "  0.   +0.j     0.   +0.j     0.   +0.j    -0.125-0.125j -0.125+0.125j\n",
      " -0.125+0.125j -0.125-0.125j  0.   +0.j     0.   +0.j     0.   +0.j\n",
      "  0.   +0.j    -0.125+0.125j  0.125+0.125j  0.   +0.j     0.   +0.j\n",
      "  0.   +0.j     0.   +0.j     0.   +0.j     0.   +0.j     0.   +0.j\n",
      "  0.   +0.j     0.   +0.j     0.   +0.j     0.   +0.j     0.   +0.j\n",
      "  0.   +0.j     0.   +0.j     0.   +0.j     0.   +0.j     0.   +0.j\n",
      "  0.   +0.j     0.   +0.j     0.   +0.j     0.   +0.j     0.   +0.j\n",
      "  0.   +0.j     0.   +0.j     0.   +0.j     0.   +0.j     0.   +0.j\n",
      "  0.   +0.j     0.   +0.j     0.   +0.j     0.   +0.j     0.   +0.j\n",
      " -0.125+0.125j -0.125-0.125j  0.   +0.j     0.   +0.j     0.   +0.j\n",
      "  0.   +0.j     0.125-0.125j -0.125-0.125j  0.125+0.125j -0.125+0.125j\n",
      "  0.   +0.j     0.   +0.j     0.   +0.j     0.   +0.j     0.125+0.125j\n",
      "  0.125-0.125j  0.   +0.j     0.   +0.j     0.   +0.j     0.   +0.j\n",
      "  0.   +0.j     0.   +0.j     0.   +0.j     0.   +0.j     0.   +0.j\n",
      "  0.   +0.j     0.   +0.j     0.   +0.j     0.   +0.j     0.   +0.j\n",
      "  0.   +0.j     0.   +0.j     0.125+0.125j -0.125+0.125j  0.   +0.j\n",
      "  0.   +0.j     0.   +0.j     0.   +0.j    -0.125-0.125j -0.125+0.125j\n",
      "  0.125-0.125j  0.125+0.125j  0.   +0.j     0.   +0.j     0.   +0.j\n",
      "  0.   +0.j     0.125-0.125j -0.125-0.125j]\n"
     ]
    }
   ],
   "source": [
    "psi_final = U_a_full(n_spins) @ U_b_full(n_spins) @ psi2.copy()\n",
    "print(psi_final.shape)\n",
    "print(psi_final.toarray().flatten())"
   ]
  },
  {
   "cell_type": "markdown",
   "metadata": {},
   "source": [
    "We now have to verify if this state has plaquette terms wp = +1"
   ]
  },
  {
   "cell_type": "code",
   "execution_count": null,
   "metadata": {},
   "outputs": [],
   "source": [
    "def Op_full(O,pos, n):\n",
    "    Id = sparse.csr_array(np.eye(2))\n",
    "    op_list = [Id]*n\n",
    "    op_list[pos] = O\n",
    "\n",
    "    fullOp = op_list[0]\n",
    "\n",
    "    for op in op_list[1:]:\n",
    "        fullOp = sparse.kron(Op,op, format='csr')\n",
    "    return fullOp   "
   ]
  },
  {
   "cell_type": "code",
   "execution_count": 30,
   "metadata": {},
   "outputs": [],
   "source": [
    "X = sparse.csr_array([[0.,1.],[1.,0.]])\n",
    "Y = sparse.csr_array([[0.,-1.j],[1.j,0.]])\n",
    "Z = sparse.csr_array([[1.,0.],[0.,-1.]])\n",
    "I = sparse.csr_array(np.eye(2))"
   ]
  },
  {
   "cell_type": "markdown",
   "metadata": {},
   "source": [
    "1st: plaquette term written in toric code space"
   ]
  },
  {
   "cell_type": "code",
   "execution_count": 32,
   "metadata": {},
   "outputs": [
    {
     "name": "stdout",
     "output_type": "stream",
     "text": [
      "(128, 128)\n"
     ]
    }
   ],
   "source": [
    "X_u = Op_full(X, 0, n_spins)\n",
    "Y_l = Op_full(Y, 1, n_spins)\n",
    "X_d = Op_full(X, 2, n_spins)\n",
    "Y_r = Op_full(Y, 3, n_spins)\n",
    "W_tilde = X_u @ Y_l @ X_d @ Y_r\n",
    "print(W_tilde.shape)"
   ]
  },
  {
   "cell_type": "code",
   "execution_count": 37,
   "metadata": {},
   "outputs": [
    {
     "name": "stdout",
     "output_type": "stream",
     "text": [
      "Expectation Value: 0j\n"
     ]
    }
   ],
   "source": [
    "# Compute the complex conjugate transpose of psi_final\n",
    "psi_final_dagger = psi_final.conjugate().transpose()\n",
    "\n",
    "# Compute the expectation value\n",
    "expectation_value = (psi_final_dagger @ W_tilde @ psi_final)[0,0]\n",
    "\n",
    "# Print the result\n",
    "print(\"Expectation Value:\", expectation_value)\n",
    "\n",
    "#I get 0 also replacing X with Z!!!"
   ]
  },
  {
   "cell_type": "code",
   "execution_count": null,
   "metadata": {},
   "outputs": [],
   "source": [
    "#form x,y,z full operators to build plaquette term and once you have written state in Honeycomb space check if plaquette terms are +1!"
   ]
  }
 ],
 "metadata": {
  "kernelspec": {
   "display_name": "Python 3",
   "language": "python",
   "name": "python3"
  },
  "language_info": {
   "codemirror_mode": {
    "name": "ipython",
    "version": 3
   },
   "file_extension": ".py",
   "mimetype": "text/x-python",
   "name": "python",
   "nbconvert_exporter": "python",
   "pygments_lexer": "ipython3",
   "version": "3.12.8"
  }
 },
 "nbformat": 4,
 "nbformat_minor": 2
}

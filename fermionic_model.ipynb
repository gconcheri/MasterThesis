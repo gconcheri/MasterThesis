{
 "cells": [
  {
   "cell_type": "markdown",
   "id": "cb9bc1ba",
   "metadata": {},
   "source": [
    "Now we want to write the Kitaev Honeycomb Lattice Hamiltonian using Fermionic notation"
   ]
  },
  {
   "cell_type": "code",
   "execution_count": 16,
   "id": "053218f4",
   "metadata": {},
   "outputs": [
    {
     "data": {
      "text/plain": [
       "<module 'Class_site' from '/Users/giovanniconcheri/Desktop/TESI/MasterThesis/Class_site.py'>"
      ]
     },
     "execution_count": 16,
     "metadata": {},
     "output_type": "execute_result"
    }
   ],
   "source": [
    "import numpy as np\n",
    "import scipy\n",
    "\n",
    "import Class_site as site\n",
    "import importlib\n",
    "importlib.reload(site)"
   ]
  },
  {
   "cell_type": "code",
   "execution_count": 23,
   "id": "8735930e",
   "metadata": {},
   "outputs": [],
   "source": [
    "Npx = 2 # Number of plaquette in each dimension\n",
    "Npy = 4\n",
    "model = site.sites(Npx, Npy)"
   ]
  },
  {
   "cell_type": "code",
   "execution_count": 24,
   "id": "ba8786cf",
   "metadata": {},
   "outputs": [
    {
     "name": "stdout",
     "output_type": "stream",
     "text": [
      "Number of sites: 16\n",
      "array of ordered sites:  [ 0  1  2  3  4  5  6  7  8  9 10 11 12 13 14 15]\n"
     ]
    }
   ],
   "source": [
    "print(\"Number of sites:\", model.Nsites)\n",
    "print(\"array of ordered sites: \", model.ids)\n"
   ]
  },
  {
   "cell_type": "code",
   "execution_count": 25,
   "id": "9eeadfcf",
   "metadata": {},
   "outputs": [
    {
     "name": "stdout",
     "output_type": "stream",
     "text": [
      "(np.int64(0), np.int64(0))\n",
      "(np.int64(1), np.int64(0))\n",
      "(np.int64(2), np.int64(0))\n",
      "(np.int64(3), np.int64(0))\n",
      "(np.int64(4), np.int64(0))\n",
      "(np.int64(0), np.int64(1))\n",
      "(np.int64(1), np.int64(1))\n",
      "(np.int64(2), np.int64(1))\n",
      "(np.int64(3), np.int64(1))\n",
      "(np.int64(4), np.int64(1))\n",
      "(np.int64(5), np.int64(1))\n",
      "(np.int64(0), np.int64(2))\n",
      "(np.int64(1), np.int64(2))\n",
      "(np.int64(2), np.int64(2))\n",
      "(np.int64(3), np.int64(2))\n",
      "(np.int64(4), np.int64(2))\n"
     ]
    }
   ],
   "source": [
    "for i in model.ids:\n",
    "    print(model.id_to_idxidy(i))"
   ]
  },
  {
   "cell_type": "code",
   "execution_count": null,
   "id": "0f11fd2f",
   "metadata": {},
   "outputs": [],
   "source": []
  }
 ],
 "metadata": {
  "kernelspec": {
   "display_name": "Computational",
   "language": "python",
   "name": "python3"
  },
  "language_info": {
   "codemirror_mode": {
    "name": "ipython",
    "version": 3
   },
   "file_extension": ".py",
   "mimetype": "text/x-python",
   "name": "python",
   "nbconvert_exporter": "python",
   "pygments_lexer": "ipython3",
   "version": "3.13.2"
  }
 },
 "nbformat": 4,
 "nbformat_minor": 5
}
